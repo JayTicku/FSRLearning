{
 "cells": [
  {
   "cell_type": "code",
   "execution_count": 1,
   "metadata": {},
   "outputs": [],
   "source": [
    "from feature_selector_V3 import Feature_Selector_RL"
   ]
  },
  {
   "cell_type": "code",
   "execution_count": 2,
   "metadata": {},
   "outputs": [],
   "source": [
    "test = Feature_Selector_RL(60, [], [], {}, eps=.15, nb_iter=200)"
   ]
  },
  {
   "cell_type": "code",
   "execution_count": 3,
   "metadata": {},
   "outputs": [],
   "source": [
    "import pandas as pd"
   ]
  },
  {
   "cell_type": "code",
   "execution_count": 4,
   "metadata": {},
   "outputs": [],
   "source": [
    "#Data processing\n",
    "\n",
    "datContent = [i.strip().split() for i in open(\"sonar.all-data\").readlines()]\n",
    "import csv\n",
    "with open(\"sonar.csv\", \"w\") as f:\n",
    "    writer = csv.writer(f)\n",
    "    writer.writerows(datContent)\n",
    "\n",
    "australian_data = pd.read_csv('sonar.all-data.csv.xls', sep=',', header=None).loc[1:]\n",
    "X = australian_data.drop(60, axis=1)\n",
    "y = australian_data[60]"
   ]
  },
  {
   "cell_type": "code",
   "execution_count": 5,
   "metadata": {},
   "outputs": [],
   "source": [
    "test.aor"
   ]
  },
  {
   "cell_type": "code",
   "execution_count": 6,
   "metadata": {},
   "outputs": [
    {
     "data": {
      "text/plain": [
       "'#Data processing\\n\\ndatContent = [i.strip().split() for i in open(\"australian_data.dat\").readlines()]\\nimport csv\\nwith open(\"australian_data.csv\", \"w\") as f:\\n    writer = csv.writer(f)\\n    writer.writerows(datContent)\\n\\naustralian_data = pd.read_csv(\\'australian_data.csv\\', header=None)\\nX = australian_data.drop(14, axis=1)\\ny = australian_data[14]'"
      ]
     },
     "execution_count": 6,
     "metadata": {},
     "output_type": "execute_result"
    }
   ],
   "source": [
    "'''#Data processing\n",
    "\n",
    "datContent = [i.strip().split() for i in open(\"australian_data.dat\").readlines()]\n",
    "import csv\n",
    "with open(\"australian_data.csv\", \"w\") as f:\n",
    "    writer = csv.writer(f)\n",
    "    writer.writerows(datContent)\n",
    "\n",
    "australian_data = pd.read_csv('australian_data.csv', header=None)\n",
    "X = australian_data.drop(14, axis=1)\n",
    "y = australian_data[14]'''"
   ]
  },
  {
   "cell_type": "code",
   "execution_count": 7,
   "metadata": {},
   "outputs": [
    {
     "name": "stdout",
     "output_type": "stream",
     "text": [
      "---------- AOR init ----------\n",
      "---------- Process init ----------\n",
      "---------- Data Processing ----------\n",
      "---------- The process has been successfully init ----------\n",
      "---------- Training ----------\n"
     ]
    },
    {
     "name": "stderr",
     "output_type": "stream",
     "text": [
      "  0%|          | 0/100 [00:00<?, ?it/s]"
     ]
    },
    {
     "name": "stdout",
     "output_type": "stream",
     "text": [
      "nb 1 and feat nb 60\n",
      "nb 2 and feat nb 60\n",
      "nb 3 and feat nb 60\n",
      "nb 4 and feat nb 60\n",
      "nb 5 and feat nb 60\n",
      "nb 6 and feat nb 60\n",
      "nb 7 and feat nb 60\n",
      "nb 8 and feat nb 60\n",
      "nb 9 and feat nb 60\n",
      "nb 10 and feat nb 60\n"
     ]
    },
    {
     "name": "stderr",
     "output_type": "stream",
     "text": [
      "  1%|          | 1/100 [00:00<00:45,  2.17it/s]"
     ]
    },
    {
     "name": "stdout",
     "output_type": "stream",
     "text": [
      "nb 11 and feat nb 60\n",
      "nb 1 and feat nb 60\n",
      "nb 2 and feat nb 60\n",
      "nb 3 and feat nb 60\n",
      "nb 4 and feat nb 60\n",
      "nb 5 and feat nb 60\n",
      "nb 6 and feat nb 60\n",
      "nb 7 and feat nb 60\n",
      "nb 8 and feat nb 60\n",
      "nb 9 and feat nb 60\n",
      "nb 10 and feat nb 60\n",
      "nb 11 and feat nb 60\n"
     ]
    },
    {
     "name": "stderr",
     "output_type": "stream",
     "text": [
      "  2%|▏         | 2/100 [00:00<00:49,  1.98it/s]"
     ]
    },
    {
     "name": "stdout",
     "output_type": "stream",
     "text": [
      "nb 12 and feat nb 60\n",
      "nb 13 and feat nb 60\n",
      "nb 1 and feat nb 60\n",
      "nb 2 and feat nb 60\n",
      "nb 3 and feat nb 60\n",
      "nb 4 and feat nb 60\n",
      "nb 5 and feat nb 60\n",
      "nb 6 and feat nb 60\n",
      "nb 7 and feat nb 60\n",
      "nb 8 and feat nb 60\n",
      "nb 9 and feat nb 60\n"
     ]
    },
    {
     "name": "stderr",
     "output_type": "stream",
     "text": [
      "  3%|▎         | 3/100 [00:01<00:50,  1.91it/s]"
     ]
    },
    {
     "name": "stdout",
     "output_type": "stream",
     "text": [
      "nb 10 and feat nb 60\n",
      "nb 11 and feat nb 60\n",
      "nb 12 and feat nb 60\n",
      "nb 13 and feat nb 60\n",
      "nb 1 and feat nb 60\n",
      "nb 2 and feat nb 60\n",
      "nb 3 and feat nb 60\n",
      "nb 4 and feat nb 60\n",
      "nb 5 and feat nb 60\n",
      "nb 6 and feat nb 60\n",
      "nb 7 and feat nb 60\n"
     ]
    },
    {
     "name": "stderr",
     "output_type": "stream",
     "text": [
      "  4%|▍         | 4/100 [00:01<00:42,  2.23it/s]"
     ]
    },
    {
     "name": "stdout",
     "output_type": "stream",
     "text": [
      "nb 8 and feat nb 60\n",
      "nb 1 and feat nb 60\n",
      "nb 2 and feat nb 60\n",
      "nb 3 and feat nb 60\n",
      "nb 4 and feat nb 60\n"
     ]
    },
    {
     "name": "stderr",
     "output_type": "stream",
     "text": [
      "  5%|▌         | 5/100 [00:02<00:40,  2.34it/s]"
     ]
    },
    {
     "name": "stdout",
     "output_type": "stream",
     "text": [
      "nb 5 and feat nb 60\n",
      "nb 6 and feat nb 60\n",
      "nb 7 and feat nb 60\n",
      "nb 8 and feat nb 60\n",
      "nb 9 and feat nb 60\n",
      "nb 1 and feat nb 60\n",
      "nb 2 and feat nb 60\n",
      "nb 3 and feat nb 60\n",
      "nb 4 and feat nb 60\n",
      "nb 5 and feat nb 60\n",
      "nb 6 and feat nb 60\n",
      "nb 7 and feat nb 60\n",
      "nb 8 and feat nb 60\n",
      "nb 9 and feat nb 60\n",
      "nb 10 and feat nb 60\n",
      "nb 11 and feat nb 60\n"
     ]
    },
    {
     "name": "stderr",
     "output_type": "stream",
     "text": [
      "  6%|▌         | 6/100 [00:02<00:48,  1.96it/s]"
     ]
    },
    {
     "name": "stdout",
     "output_type": "stream",
     "text": [
      "nb 12 and feat nb 60\n",
      "nb 13 and feat nb 60\n",
      "nb 14 and feat nb 60\n",
      "nb 15 and feat nb 60\n",
      "nb 16 and feat nb 60\n",
      "nb 1 and feat nb 60\n",
      "nb 2 and feat nb 60\n",
      "nb 3 and feat nb 60\n",
      "nb 4 and feat nb 60\n",
      "nb 5 and feat nb 60\n",
      "nb 6 and feat nb 60\n",
      "nb 7 and feat nb 60\n",
      "nb 8 and feat nb 60\n",
      "nb 9 and feat nb 60\n",
      "nb 10 and feat nb 60\n",
      "nb 11 and feat nb 60\n"
     ]
    },
    {
     "name": "stderr",
     "output_type": "stream",
     "text": [
      "  7%|▋         | 7/100 [00:03<00:49,  1.87it/s]"
     ]
    },
    {
     "name": "stdout",
     "output_type": "stream",
     "text": [
      "nb 12 and feat nb 60\n",
      "nb 13 and feat nb 60\n",
      "nb 14 and feat nb 60\n",
      "nb 1 and feat nb 60\n",
      "nb 2 and feat nb 60\n",
      "nb 3 and feat nb 60\n",
      "nb 4 and feat nb 60\n",
      "nb 5 and feat nb 60\n",
      "nb 6 and feat nb 60\n",
      "nb 7 and feat nb 60\n",
      "nb 8 and feat nb 60\n"
     ]
    },
    {
     "name": "stderr",
     "output_type": "stream",
     "text": [
      "  8%|▊         | 8/100 [00:04<00:48,  1.90it/s]"
     ]
    },
    {
     "name": "stdout",
     "output_type": "stream",
     "text": [
      "nb 9 and feat nb 60\n",
      "nb 10 and feat nb 60\n",
      "nb 11 and feat nb 60\n",
      "nb 12 and feat nb 60\n",
      "nb 1 and feat nb 60\n",
      "nb 2 and feat nb 60\n"
     ]
    },
    {
     "name": "stderr",
     "output_type": "stream",
     "text": [
      "  9%|▉         | 9/100 [00:04<00:40,  2.22it/s]"
     ]
    },
    {
     "name": "stdout",
     "output_type": "stream",
     "text": [
      "nb 3 and feat nb 60\n",
      "nb 4 and feat nb 60\n",
      "nb 5 and feat nb 60\n",
      "nb 6 and feat nb 60\n",
      "nb 7 and feat nb 60\n",
      "nb 1 and feat nb 60\n",
      "nb 2 and feat nb 60\n",
      "nb 3 and feat nb 60\n",
      "nb 4 and feat nb 60\n",
      "nb 5 and feat nb 60\n",
      "nb 6 and feat nb 60\n",
      "nb 7 and feat nb 60\n"
     ]
    },
    {
     "name": "stderr",
     "output_type": "stream",
     "text": [
      " 10%|█         | 10/100 [00:04<00:37,  2.41it/s]"
     ]
    },
    {
     "name": "stdout",
     "output_type": "stream",
     "text": [
      "nb 8 and feat nb 60\n",
      "nb 9 and feat nb 60\n",
      "nb 1 and feat nb 60\n",
      "nb 2 and feat nb 60\n",
      "nb 3 and feat nb 60\n",
      "nb 4 and feat nb 60\n",
      "nb 5 and feat nb 60\n",
      "nb 6 and feat nb 60\n",
      "nb 7 and feat nb 60\n",
      "nb 8 and feat nb 60\n",
      "nb 9 and feat nb 60\n"
     ]
    },
    {
     "name": "stderr",
     "output_type": "stream",
     "text": [
      " 11%|█         | 11/100 [00:05<00:38,  2.34it/s]"
     ]
    },
    {
     "name": "stdout",
     "output_type": "stream",
     "text": [
      "nb 10 and feat nb 60\n",
      "nb 11 and feat nb 60\n",
      "nb 1 and feat nb 60\n",
      "nb 2 and feat nb 60\n",
      "nb 3 and feat nb 60\n",
      "nb 4 and feat nb 60\n"
     ]
    },
    {
     "name": "stderr",
     "output_type": "stream",
     "text": [
      " 12%|█▏        | 12/100 [00:05<00:34,  2.52it/s]"
     ]
    },
    {
     "name": "stdout",
     "output_type": "stream",
     "text": [
      "nb 5 and feat nb 60\n",
      "nb 6 and feat nb 60\n",
      "nb 7 and feat nb 60\n",
      "nb 8 and feat nb 60\n",
      "nb 1 and feat nb 60\n",
      "nb 2 and feat nb 60\n",
      "nb 3 and feat nb 60\n",
      "nb 4 and feat nb 60\n",
      "nb 5 and feat nb 60\n",
      "nb 6 and feat nb 60\n",
      "nb 7 and feat nb 60\n",
      "nb 8 and feat nb 60\n"
     ]
    },
    {
     "name": "stderr",
     "output_type": "stream",
     "text": [
      " 13%|█▎        | 13/100 [00:05<00:36,  2.41it/s]"
     ]
    },
    {
     "name": "stdout",
     "output_type": "stream",
     "text": [
      "nb 9 and feat nb 60\n",
      "nb 10 and feat nb 60\n",
      "nb 11 and feat nb 60\n",
      "nb 1 and feat nb 60\n",
      "nb 2 and feat nb 60\n",
      "nb 3 and feat nb 60\n",
      "nb 4 and feat nb 60\n",
      "nb 5 and feat nb 60\n",
      "nb 6 and feat nb 60\n",
      "nb 7 and feat nb 60\n",
      "nb 8 and feat nb 60\n",
      "nb 9 and feat nb 60\n"
     ]
    },
    {
     "name": "stderr",
     "output_type": "stream",
     "text": [
      " 14%|█▍        | 14/100 [00:06<00:38,  2.21it/s]"
     ]
    },
    {
     "name": "stdout",
     "output_type": "stream",
     "text": [
      "nb 10 and feat nb 60\n",
      "nb 11 and feat nb 60\n",
      "nb 12 and feat nb 60\n",
      "nb 13 and feat nb 60\n",
      "nb 1 and feat nb 60\n"
     ]
    },
    {
     "name": "stderr",
     "output_type": "stream",
     "text": [
      " 15%|█▌        | 15/100 [00:06<00:33,  2.57it/s]"
     ]
    },
    {
     "name": "stdout",
     "output_type": "stream",
     "text": [
      "nb 2 and feat nb 60\n",
      "nb 3 and feat nb 60\n",
      "nb 4 and feat nb 60\n",
      "nb 5 and feat nb 60\n",
      "nb 6 and feat nb 60\n",
      "nb 1 and feat nb 60\n",
      "nb 2 and feat nb 60\n",
      "nb 3 and feat nb 60\n",
      "nb 4 and feat nb 60\n",
      "nb 5 and feat nb 60\n",
      "nb 6 and feat nb 60\n",
      "nb 7 and feat nb 60\n"
     ]
    },
    {
     "name": "stderr",
     "output_type": "stream",
     "text": [
      " 16%|█▌        | 16/100 [00:07<00:34,  2.44it/s]"
     ]
    },
    {
     "name": "stdout",
     "output_type": "stream",
     "text": [
      "nb 8 and feat nb 60\n",
      "nb 9 and feat nb 60\n",
      "nb 10 and feat nb 60\n",
      "nb 11 and feat nb 60\n",
      "nb 12 and feat nb 60\n",
      "nb 1 and feat nb 60\n",
      "nb 2 and feat nb 60\n",
      "nb 3 and feat nb 60\n",
      "nb 4 and feat nb 60\n",
      "nb 5 and feat nb 60\n",
      "nb 6 and feat nb 60\n"
     ]
    },
    {
     "name": "stderr",
     "output_type": "stream",
     "text": [
      " 17%|█▋        | 17/100 [00:07<00:34,  2.44it/s]"
     ]
    },
    {
     "name": "stdout",
     "output_type": "stream",
     "text": [
      "nb 7 and feat nb 60\n",
      "nb 8 and feat nb 60\n",
      "nb 9 and feat nb 60\n",
      "nb 10 and feat nb 60\n",
      "nb 1 and feat nb 60\n",
      "nb 2 and feat nb 60\n",
      "nb 3 and feat nb 60\n",
      "nb 4 and feat nb 60\n",
      "nb 5 and feat nb 60\n",
      "nb 6 and feat nb 60\n",
      "nb 7 and feat nb 60\n",
      "nb 8 and feat nb 60\n"
     ]
    },
    {
     "name": "stderr",
     "output_type": "stream",
     "text": [
      " 18%|█▊        | 18/100 [00:07<00:34,  2.37it/s]"
     ]
    },
    {
     "name": "stdout",
     "output_type": "stream",
     "text": [
      "nb 9 and feat nb 60\n",
      "nb 10 and feat nb 60\n",
      "nb 11 and feat nb 60\n",
      "nb 1 and feat nb 60\n",
      "nb 2 and feat nb 60\n",
      "nb 3 and feat nb 60\n",
      "nb 4 and feat nb 60\n",
      "nb 5 and feat nb 60\n",
      "nb 6 and feat nb 60\n",
      "nb 7 and feat nb 60\n",
      "nb 8 and feat nb 60\n",
      "nb 9 and feat nb 60\n",
      "nb 10 and feat nb 60\n"
     ]
    },
    {
     "name": "stderr",
     "output_type": "stream",
     "text": [
      " 19%|█▉        | 19/100 [00:08<00:34,  2.38it/s]"
     ]
    },
    {
     "name": "stdout",
     "output_type": "stream",
     "text": [
      "nb 11 and feat nb 60\n",
      "nb 1 and feat nb 60\n",
      "nb 2 and feat nb 60\n",
      "nb 3 and feat nb 60\n",
      "nb 4 and feat nb 60\n",
      "nb 5 and feat nb 60\n"
     ]
    },
    {
     "name": "stderr",
     "output_type": "stream",
     "text": [
      " 20%|██        | 20/100 [00:08<00:31,  2.56it/s]"
     ]
    },
    {
     "name": "stdout",
     "output_type": "stream",
     "text": [
      "nb 6 and feat nb 60\n",
      "nb 7 and feat nb 60\n",
      "nb 8 and feat nb 60\n",
      "nb 1 and feat nb 60\n",
      "nb 2 and feat nb 60\n",
      "nb 3 and feat nb 60\n",
      "nb 4 and feat nb 60\n"
     ]
    },
    {
     "name": "stderr",
     "output_type": "stream",
     "text": [
      " 21%|██        | 21/100 [00:08<00:26,  2.98it/s]"
     ]
    },
    {
     "name": "stdout",
     "output_type": "stream",
     "text": [
      "nb 5 and feat nb 60\n",
      "nb 6 and feat nb 60\n",
      "nb 1 and feat nb 60\n",
      "nb 2 and feat nb 60\n",
      "nb 3 and feat nb 60\n",
      "nb 4 and feat nb 60\n",
      "nb 5 and feat nb 60\n",
      "nb 6 and feat nb 60\n",
      "nb 7 and feat nb 60\n",
      "nb 8 and feat nb 60\n",
      "nb 9 and feat nb 60\n",
      "nb 10 and feat nb 60\n"
     ]
    },
    {
     "name": "stderr",
     "output_type": "stream",
     "text": [
      " 22%|██▏       | 22/100 [00:09<00:27,  2.79it/s]"
     ]
    },
    {
     "name": "stdout",
     "output_type": "stream",
     "text": [
      "nb 11 and feat nb 60\n",
      "nb 1 and feat nb 60\n",
      "nb 2 and feat nb 60\n",
      "nb 3 and feat nb 60\n",
      "nb 4 and feat nb 60\n",
      "nb 5 and feat nb 60\n",
      "nb 6 and feat nb 60\n"
     ]
    },
    {
     "name": "stderr",
     "output_type": "stream",
     "text": [
      " 23%|██▎       | 23/100 [00:09<00:27,  2.75it/s]"
     ]
    },
    {
     "name": "stdout",
     "output_type": "stream",
     "text": [
      "nb 7 and feat nb 60\n",
      "nb 8 and feat nb 60\n",
      "nb 9 and feat nb 60\n",
      "nb 10 and feat nb 60\n",
      "nb 11 and feat nb 60\n",
      "nb 1 and feat nb 60\n",
      "nb 2 and feat nb 60\n",
      "nb 3 and feat nb 60\n",
      "nb 4 and feat nb 60\n",
      "nb 5 and feat nb 60\n",
      "nb 6 and feat nb 60\n",
      "nb 7 and feat nb 60\n"
     ]
    },
    {
     "name": "stderr",
     "output_type": "stream",
     "text": [
      " 24%|██▍       | 24/100 [00:10<00:26,  2.83it/s]"
     ]
    },
    {
     "name": "stdout",
     "output_type": "stream",
     "text": [
      "nb 8 and feat nb 60\n",
      "nb 9 and feat nb 60\n",
      "nb 1 and feat nb 60\n",
      "nb 2 and feat nb 60\n",
      "nb 3 and feat nb 60\n",
      "nb 4 and feat nb 60\n"
     ]
    },
    {
     "name": "stderr",
     "output_type": "stream",
     "text": [
      " 25%|██▌       | 25/100 [00:10<00:26,  2.80it/s]"
     ]
    },
    {
     "name": "stdout",
     "output_type": "stream",
     "text": [
      "nb 5 and feat nb 60\n",
      "nb 6 and feat nb 60\n",
      "nb 7 and feat nb 60\n",
      "nb 8 and feat nb 60\n",
      "nb 9 and feat nb 60\n",
      "nb 1 and feat nb 60\n",
      "nb 2 and feat nb 60\n",
      "nb 3 and feat nb 60\n",
      "nb 4 and feat nb 60\n",
      "nb 5 and feat nb 60\n",
      "nb 6 and feat nb 60\n",
      "nb 7 and feat nb 60\n"
     ]
    },
    {
     "name": "stderr",
     "output_type": "stream",
     "text": [
      " 26%|██▌       | 26/100 [00:10<00:29,  2.51it/s]"
     ]
    },
    {
     "name": "stdout",
     "output_type": "stream",
     "text": [
      "nb 8 and feat nb 60\n",
      "nb 9 and feat nb 60\n",
      "nb 10 and feat nb 60\n",
      "nb 11 and feat nb 60\n",
      "nb 12 and feat nb 60\n",
      "nb 13 and feat nb 60\n",
      "nb 1 and feat nb 60\n",
      "nb 2 and feat nb 60\n",
      "nb 3 and feat nb 60\n",
      "nb 4 and feat nb 60\n",
      "nb 5 and feat nb 60\n",
      "nb 6 and feat nb 60\n"
     ]
    },
    {
     "name": "stderr",
     "output_type": "stream",
     "text": [
      " 27%|██▋       | 27/100 [00:11<00:30,  2.42it/s]"
     ]
    },
    {
     "name": "stdout",
     "output_type": "stream",
     "text": [
      "nb 7 and feat nb 60\n",
      "nb 8 and feat nb 60\n",
      "nb 9 and feat nb 60\n",
      "nb 10 and feat nb 60\n",
      "nb 11 and feat nb 60\n",
      "nb 1 and feat nb 60\n",
      "nb 2 and feat nb 60\n",
      "nb 3 and feat nb 60\n",
      "nb 4 and feat nb 60\n",
      "nb 5 and feat nb 60\n",
      "nb 6 and feat nb 60\n",
      "nb 7 and feat nb 60\n",
      "nb 8 and feat nb 60\n",
      "nb 9 and feat nb 60\n"
     ]
    },
    {
     "name": "stderr",
     "output_type": "stream",
     "text": [
      " 29%|██▉       | 29/100 [00:11<00:23,  3.01it/s]"
     ]
    },
    {
     "name": "stdout",
     "output_type": "stream",
     "text": [
      "nb 10 and feat nb 60\n",
      "nb 1 and feat nb 60\n",
      "nb 2 and feat nb 60\n",
      "nb 3 and feat nb 60\n",
      "nb 4 and feat nb 60\n",
      "nb 5 and feat nb 60\n"
     ]
    },
    {
     "name": "stderr",
     "output_type": "stream",
     "text": [
      " 30%|███       | 30/100 [00:12<00:18,  3.70it/s]"
     ]
    },
    {
     "name": "stdout",
     "output_type": "stream",
     "text": [
      "nb 1 and feat nb 60\n",
      "nb 2 and feat nb 60\n",
      "nb 3 and feat nb 60\n",
      "nb 4 and feat nb 60\n",
      "nb 5 and feat nb 60\n",
      "nb 6 and feat nb 60\n",
      "nb 1 and feat nb 60\n",
      "nb 2 and feat nb 60\n",
      "nb 3 and feat nb 60\n",
      "nb 4 and feat nb 60\n",
      "nb 5 and feat nb 60\n",
      "nb 1 and feat nb 60\n",
      "nb 2 and feat nb 60\n",
      "nb 3 and feat nb 60\n",
      "nb 4 and feat nb 60\n",
      "nb 5 and feat nb 60\n",
      "nb 6 and feat nb 60\n",
      "nb 7 and feat nb 60\n"
     ]
    },
    {
     "name": "stderr",
     "output_type": "stream",
     "text": [
      " 32%|███▏      | 32/100 [00:12<00:16,  4.16it/s]"
     ]
    },
    {
     "name": "stdout",
     "output_type": "stream",
     "text": [
      "nb 8 and feat nb 60\n",
      "nb 9 and feat nb 60\n",
      "nb 1 and feat nb 60\n",
      "nb 2 and feat nb 60\n",
      "nb 3 and feat nb 60\n",
      "nb 4 and feat nb 60\n",
      "nb 5 and feat nb 60\n",
      "nb 6 and feat nb 60\n",
      "nb 7 and feat nb 60\n",
      "nb 8 and feat nb 60\n",
      "nb 9 and feat nb 60\n",
      "nb 10 and feat nb 60\n",
      "nb 11 and feat nb 60\n",
      "nb 12 and feat nb 60\n"
     ]
    },
    {
     "name": "stderr",
     "output_type": "stream",
     "text": [
      " 34%|███▍      | 34/100 [00:13<00:16,  3.95it/s]"
     ]
    },
    {
     "name": "stdout",
     "output_type": "stream",
     "text": [
      "nb 13 and feat nb 60\n",
      "nb 1 and feat nb 60\n",
      "nb 2 and feat nb 60\n",
      "nb 3 and feat nb 60\n",
      "nb 4 and feat nb 60\n",
      "nb 5 and feat nb 60\n",
      "nb 6 and feat nb 60\n",
      "nb 7 and feat nb 60\n",
      "nb 1 and feat nb 60\n",
      "nb 2 and feat nb 60\n"
     ]
    },
    {
     "name": "stderr",
     "output_type": "stream",
     "text": [
      " 35%|███▌      | 35/100 [00:13<00:16,  3.98it/s]"
     ]
    },
    {
     "name": "stdout",
     "output_type": "stream",
     "text": [
      "nb 3 and feat nb 60\n",
      "nb 4 and feat nb 60\n",
      "nb 5 and feat nb 60\n",
      "nb 6 and feat nb 60\n",
      "nb 7 and feat nb 60\n",
      "nb 8 and feat nb 60\n",
      "nb 1 and feat nb 60\n",
      "nb 2 and feat nb 60\n"
     ]
    },
    {
     "name": "stderr",
     "output_type": "stream",
     "text": [
      " 36%|███▌      | 36/100 [00:13<00:14,  4.41it/s]"
     ]
    },
    {
     "name": "stdout",
     "output_type": "stream",
     "text": [
      "nb 3 and feat nb 60\n",
      "nb 4 and feat nb 60\n",
      "nb 5 and feat nb 60\n",
      "nb 6 and feat nb 60\n",
      "nb 1 and feat nb 60\n",
      "nb 2 and feat nb 60\n",
      "nb 3 and feat nb 60\n",
      "nb 4 and feat nb 60\n",
      "nb 5 and feat nb 60\n"
     ]
    },
    {
     "name": "stderr",
     "output_type": "stream",
     "text": [
      " 37%|███▋      | 37/100 [00:13<00:13,  4.51it/s]"
     ]
    },
    {
     "name": "stdout",
     "output_type": "stream",
     "text": [
      "nb 6 and feat nb 60\n",
      "nb 7 and feat nb 60\n",
      "nb 8 and feat nb 60\n",
      "nb 1 and feat nb 60\n",
      "nb 2 and feat nb 60\n",
      "nb 3 and feat nb 60\n",
      "nb 4 and feat nb 60\n",
      "nb 5 and feat nb 60\n",
      "nb 1 and feat nb 60\n",
      "nb 2 and feat nb 60\n",
      "nb 3 and feat nb 60\n"
     ]
    },
    {
     "name": "stderr",
     "output_type": "stream",
     "text": [
      " 39%|███▉      | 39/100 [00:13<00:10,  5.63it/s]"
     ]
    },
    {
     "name": "stdout",
     "output_type": "stream",
     "text": [
      "nb 4 and feat nb 60\n",
      "nb 5 and feat nb 60\n",
      "nb 6 and feat nb 60\n",
      "nb 1 and feat nb 60\n",
      "nb 2 and feat nb 60\n",
      "nb 3 and feat nb 60\n",
      "nb 4 and feat nb 60\n",
      "nb 5 and feat nb 60\n",
      "nb 6 and feat nb 60\n",
      "nb 7 and feat nb 60\n",
      "nb 8 and feat nb 60\n",
      "nb 9 and feat nb 60\n"
     ]
    },
    {
     "name": "stderr",
     "output_type": "stream",
     "text": [
      " 41%|████      | 41/100 [00:14<00:12,  4.63it/s]"
     ]
    },
    {
     "name": "stdout",
     "output_type": "stream",
     "text": [
      "nb 10 and feat nb 60\n",
      "nb 1 and feat nb 60\n",
      "nb 2 and feat nb 60\n",
      "nb 3 and feat nb 60\n",
      "nb 4 and feat nb 60\n",
      "nb 5 and feat nb 60\n",
      "nb 6 and feat nb 60\n",
      "nb 1 and feat nb 60\n",
      "nb 2 and feat nb 60\n",
      "nb 3 and feat nb 60\n",
      "nb 4 and feat nb 60\n",
      "nb 5 and feat nb 60\n",
      "nb 6 and feat nb 60\n",
      "nb 7 and feat nb 60\n",
      "nb 8 and feat nb 60\n",
      "nb 9 and feat nb 60\n",
      "nb 10 and feat nb 60\n",
      "nb 11 and feat nb 60\n"
     ]
    },
    {
     "name": "stderr",
     "output_type": "stream",
     "text": [
      " 42%|████▏     | 42/100 [00:15<00:19,  2.97it/s]"
     ]
    },
    {
     "name": "stdout",
     "output_type": "stream",
     "text": [
      "nb 12 and feat nb 60\n",
      "nb 13 and feat nb 60\n",
      "nb 14 and feat nb 60\n",
      "nb 15 and feat nb 60\n",
      "nb 16 and feat nb 60\n",
      "nb 1 and feat nb 60\n",
      "nb 2 and feat nb 60\n",
      "nb 3 and feat nb 60\n",
      "nb 4 and feat nb 60\n",
      "nb 5 and feat nb 60\n",
      "nb 6 and feat nb 60\n",
      "nb 1 and feat nb 60\n",
      "nb 2 and feat nb 60\n",
      "nb 3 and feat nb 60\n",
      "nb 4 and feat nb 60\n",
      "nb 5 and feat nb 60\n",
      "nb 6 and feat nb 60\n",
      "nb 7 and feat nb 60\n"
     ]
    },
    {
     "name": "stderr",
     "output_type": "stream",
     "text": [
      " 44%|████▍     | 44/100 [00:15<00:14,  3.81it/s]"
     ]
    },
    {
     "name": "stdout",
     "output_type": "stream",
     "text": [
      "nb 8 and feat nb 60\n",
      "nb 9 and feat nb 60\n",
      "nb 1 and feat nb 60\n",
      "nb 2 and feat nb 60\n",
      "nb 3 and feat nb 60\n",
      "nb 4 and feat nb 60\n"
     ]
    },
    {
     "name": "stderr",
     "output_type": "stream",
     "text": [
      " 45%|████▌     | 45/100 [00:15<00:13,  4.02it/s]"
     ]
    },
    {
     "name": "stdout",
     "output_type": "stream",
     "text": [
      "nb 5 and feat nb 60\n",
      "nb 6 and feat nb 60\n",
      "nb 1 and feat nb 60\n",
      "nb 2 and feat nb 60\n",
      "nb 3 and feat nb 60\n",
      "nb 4 and feat nb 60\n",
      "nb 5 and feat nb 60\n",
      "nb 6 and feat nb 60\n",
      "nb 7 and feat nb 60\n",
      "nb 8 and feat nb 60\n",
      "nb 9 and feat nb 60\n",
      "nb 10 and feat nb 60\n"
     ]
    },
    {
     "name": "stderr",
     "output_type": "stream",
     "text": [
      " 46%|████▌     | 46/100 [00:16<00:15,  3.45it/s]"
     ]
    },
    {
     "name": "stdout",
     "output_type": "stream",
     "text": [
      "nb 11 and feat nb 60\n",
      "nb 1 and feat nb 60\n",
      "nb 2 and feat nb 60\n",
      "nb 3 and feat nb 60\n",
      "nb 4 and feat nb 60\n",
      "nb 5 and feat nb 60\n",
      "nb 6 and feat nb 60\n",
      "nb 7 and feat nb 60\n"
     ]
    },
    {
     "name": "stderr",
     "output_type": "stream",
     "text": [
      " 47%|████▋     | 47/100 [00:16<00:14,  3.73it/s]"
     ]
    },
    {
     "name": "stdout",
     "output_type": "stream",
     "text": [
      "nb 8 and feat nb 60\n",
      "nb 1 and feat nb 60\n",
      "nb 2 and feat nb 60\n",
      "nb 3 and feat nb 60\n",
      "nb 4 and feat nb 60\n",
      "nb 5 and feat nb 60\n",
      "nb 6 and feat nb 60\n",
      "nb 7 and feat nb 60\n"
     ]
    },
    {
     "name": "stderr",
     "output_type": "stream",
     "text": [
      " 48%|████▊     | 48/100 [00:16<00:15,  3.35it/s]"
     ]
    },
    {
     "name": "stdout",
     "output_type": "stream",
     "text": [
      "nb 8 and feat nb 60\n",
      "nb 9 and feat nb 60\n",
      "nb 10 and feat nb 60\n",
      "nb 11 and feat nb 60\n",
      "nb 12 and feat nb 60\n",
      "nb 1 and feat nb 60\n",
      "nb 2 and feat nb 60\n",
      "nb 3 and feat nb 60\n"
     ]
    },
    {
     "name": "stderr",
     "output_type": "stream",
     "text": [
      " 49%|████▉     | 49/100 [00:16<00:13,  3.82it/s]"
     ]
    },
    {
     "name": "stdout",
     "output_type": "stream",
     "text": [
      "nb 4 and feat nb 60\n",
      "nb 5 and feat nb 60\n",
      "nb 6 and feat nb 60\n",
      "nb 7 and feat nb 60\n",
      "nb 1 and feat nb 60\n",
      "nb 2 and feat nb 60\n",
      "nb 3 and feat nb 60\n",
      "nb 4 and feat nb 60\n",
      "nb 5 and feat nb 60\n",
      "nb 6 and feat nb 60\n"
     ]
    },
    {
     "name": "stderr",
     "output_type": "stream",
     "text": [
      " 50%|█████     | 50/100 [00:16<00:11,  4.26it/s]"
     ]
    },
    {
     "name": "stdout",
     "output_type": "stream",
     "text": [
      "nb 7 and feat nb 60\n",
      "nb 8 and feat nb 60\n",
      "nb 1 and feat nb 60\n",
      "nb 2 and feat nb 60\n",
      "nb 3 and feat nb 60\n",
      "nb 4 and feat nb 60\n",
      "nb 5 and feat nb 60\n",
      "nb 6 and feat nb 60\n",
      "nb 7 and feat nb 60\n",
      "nb 8 and feat nb 60\n",
      "nb 9 and feat nb 60\n",
      "nb 10 and feat nb 60\n"
     ]
    },
    {
     "name": "stderr",
     "output_type": "stream",
     "text": [
      " 51%|█████     | 51/100 [00:17<00:16,  2.99it/s]"
     ]
    },
    {
     "name": "stdout",
     "output_type": "stream",
     "text": [
      "nb 11 and feat nb 60\n",
      "nb 12 and feat nb 60\n",
      "nb 13 and feat nb 60\n",
      "nb 14 and feat nb 60\n",
      "nb 1 and feat nb 60\n",
      "nb 2 and feat nb 60\n",
      "nb 3 and feat nb 60\n",
      "nb 4 and feat nb 60\n",
      "nb 5 and feat nb 60\n"
     ]
    },
    {
     "name": "stderr",
     "output_type": "stream",
     "text": [
      " 52%|█████▏    | 52/100 [00:17<00:14,  3.36it/s]"
     ]
    },
    {
     "name": "stdout",
     "output_type": "stream",
     "text": [
      "nb 6 and feat nb 60\n",
      "nb 7 and feat nb 60\n",
      "nb 8 and feat nb 60\n",
      "nb 9 and feat nb 60\n",
      "nb 1 and feat nb 60\n",
      "nb 2 and feat nb 60\n",
      "nb 3 and feat nb 60\n",
      "nb 4 and feat nb 60\n",
      "nb 5 and feat nb 60\n",
      "nb 6 and feat nb 60\n"
     ]
    },
    {
     "name": "stderr",
     "output_type": "stream",
     "text": [
      " 53%|█████▎    | 53/100 [00:17<00:11,  4.03it/s]"
     ]
    },
    {
     "name": "stdout",
     "output_type": "stream",
     "text": [
      "nb 7 and feat nb 60\n",
      "nb 8 and feat nb 60\n",
      "nb 1 and feat nb 60\n",
      "nb 2 and feat nb 60\n",
      "nb 3 and feat nb 60\n",
      "nb 4 and feat nb 60\n",
      "nb 5 and feat nb 60\n",
      "nb 1 and feat nb 60\n",
      "nb 2 and feat nb 60\n",
      "nb 3 and feat nb 60\n",
      "nb 4 and feat nb 60\n",
      "nb 5 and feat nb 60\n",
      "nb 1 and feat nb 60\n",
      "nb 2 and feat nb 60\n",
      "nb 3 and feat nb 60\n",
      "nb 4 and feat nb 60\n",
      "nb 5 and feat nb 60\n"
     ]
    },
    {
     "name": "stderr",
     "output_type": "stream",
     "text": [
      " 57%|█████▋    | 57/100 [00:18<00:05,  7.23it/s]"
     ]
    },
    {
     "name": "stdout",
     "output_type": "stream",
     "text": [
      "nb 6 and feat nb 60\n",
      "nb 1 and feat nb 60\n",
      "nb 2 and feat nb 60\n",
      "nb 3 and feat nb 60\n",
      "nb 4 and feat nb 60\n",
      "nb 5 and feat nb 60\n",
      "nb 6 and feat nb 60\n",
      "nb 7 and feat nb 60\n",
      "nb 1 and feat nb 60\n",
      "nb 2 and feat nb 60\n",
      "nb 3 and feat nb 60\n",
      "nb 4 and feat nb 60\n"
     ]
    },
    {
     "name": "stderr",
     "output_type": "stream",
     "text": [
      " 59%|█████▉    | 59/100 [00:18<00:05,  7.96it/s]"
     ]
    },
    {
     "name": "stdout",
     "output_type": "stream",
     "text": [
      "nb 5 and feat nb 60\n",
      "nb 1 and feat nb 60\n",
      "nb 2 and feat nb 60\n",
      "nb 3 and feat nb 60\n",
      "nb 4 and feat nb 60\n",
      "nb 5 and feat nb 60\n",
      "nb 6 and feat nb 60\n",
      "nb 1 and feat nb 60\n",
      "nb 2 and feat nb 60\n",
      "nb 3 and feat nb 60\n"
     ]
    },
    {
     "name": "stderr",
     "output_type": "stream",
     "text": [
      " 60%|██████    | 60/100 [00:18<00:06,  5.94it/s]"
     ]
    },
    {
     "name": "stdout",
     "output_type": "stream",
     "text": [
      "nb 4 and feat nb 60\n",
      "nb 5 and feat nb 60\n",
      "nb 6 and feat nb 60\n",
      "nb 7 and feat nb 60\n",
      "nb 8 and feat nb 60\n",
      "nb 9 and feat nb 60\n",
      "nb 1 and feat nb 60\n",
      "nb 2 and feat nb 60\n",
      "nb 3 and feat nb 60\n",
      "nb 4 and feat nb 60\n",
      "nb 5 and feat nb 60\n"
     ]
    },
    {
     "name": "stderr",
     "output_type": "stream",
     "text": [
      " 61%|██████    | 61/100 [00:18<00:06,  5.94it/s]"
     ]
    },
    {
     "name": "stdout",
     "output_type": "stream",
     "text": [
      "nb 6 and feat nb 60\n",
      "nb 7 and feat nb 60\n",
      "nb 8 and feat nb 60\n",
      "nb 9 and feat nb 60\n",
      "nb 1 and feat nb 60\n",
      "nb 2 and feat nb 60\n",
      "nb 3 and feat nb 60\n",
      "nb 4 and feat nb 60\n",
      "nb 5 and feat nb 60\n",
      "nb 6 and feat nb 60\n",
      "nb 1 and feat nb 60\n",
      "nb 2 and feat nb 60\n",
      "nb 3 and feat nb 60\n",
      "nb 4 and feat nb 60\n",
      "nb 5 and feat nb 60\n",
      "nb 6 and feat nb 60\n",
      "nb 1 and feat nb 60\n",
      "nb 2 and feat nb 60\n",
      "nb 3 and feat nb 60\n",
      "nb 4 and feat nb 60\n",
      "nb 5 and feat nb 60\n",
      "nb 1 and feat nb 60\n",
      "nb 2 and feat nb 60\n",
      "nb 3 and feat nb 60\n",
      "nb 4 and feat nb 60\n",
      "nb 5 and feat nb 60\n",
      "nb 1 and feat nb 60\n",
      "nb 2 and feat nb 60\n",
      "nb 3 and feat nb 60\n",
      "nb 4 and feat nb 60\n",
      "nb 1 and feat nb 60\n",
      "nb 2 and feat nb 60\n",
      "nb 3 and feat nb 60\n",
      "nb 4 and feat nb 60\n",
      "nb 5 and feat nb 60\n",
      "nb 6 and feat nb 60\n",
      "nb 7 and feat nb 60\n",
      "nb 8 and feat nb 60\n",
      "nb 9 and feat nb 60\n",
      "nb 10 and feat nb 60\n",
      "nb 11 and feat nb 60\n"
     ]
    },
    {
     "name": "stderr",
     "output_type": "stream",
     "text": [
      " 67%|██████▋   | 67/100 [00:19<00:03,  8.26it/s]"
     ]
    },
    {
     "name": "stdout",
     "output_type": "stream",
     "text": [
      "nb 12 and feat nb 60\n",
      "nb 1 and feat nb 60\n",
      "nb 2 and feat nb 60\n",
      "nb 3 and feat nb 60\n",
      "nb 4 and feat nb 60\n",
      "nb 1 and feat nb 60\n",
      "nb 2 and feat nb 60\n",
      "nb 3 and feat nb 60\n",
      "nb 4 and feat nb 60\n",
      "nb 1 and feat nb 60\n",
      "nb 2 and feat nb 60\n",
      "nb 3 and feat nb 60\n",
      "nb 4 and feat nb 60\n",
      "nb 5 and feat nb 60\n",
      "nb 6 and feat nb 60\n"
     ]
    },
    {
     "name": "stderr",
     "output_type": "stream",
     "text": [
      " 70%|███████   | 70/100 [00:19<00:03,  9.58it/s]"
     ]
    },
    {
     "name": "stdout",
     "output_type": "stream",
     "text": [
      "nb 7 and feat nb 60\n",
      "nb 1 and feat nb 60\n",
      "nb 2 and feat nb 60\n",
      "nb 3 and feat nb 60\n",
      "nb 4 and feat nb 60\n",
      "nb 5 and feat nb 60\n",
      "nb 1 and feat nb 60\n",
      "nb 2 and feat nb 60\n",
      "nb 3 and feat nb 60\n",
      "nb 4 and feat nb 60\n",
      "nb 5 and feat nb 60\n"
     ]
    },
    {
     "name": "stderr",
     "output_type": "stream",
     "text": [
      " 72%|███████▏  | 72/100 [00:20<00:03,  8.13it/s]"
     ]
    },
    {
     "name": "stdout",
     "output_type": "stream",
     "text": [
      "nb 6 and feat nb 60\n",
      "nb 7 and feat nb 60\n",
      "nb 8 and feat nb 60\n",
      "nb 9 and feat nb 60\n",
      "nb 1 and feat nb 60\n",
      "nb 2 and feat nb 60\n",
      "nb 3 and feat nb 60\n",
      "nb 4 and feat nb 60\n"
     ]
    },
    {
     "name": "stderr",
     "output_type": "stream",
     "text": [
      " 73%|███████▎  | 73/100 [00:20<00:03,  7.72it/s]"
     ]
    },
    {
     "name": "stdout",
     "output_type": "stream",
     "text": [
      "nb 5 and feat nb 60\n",
      "nb 6 and feat nb 60\n",
      "nb 7 and feat nb 60\n",
      "nb 1 and feat nb 60\n",
      "nb 2 and feat nb 60\n",
      "nb 3 and feat nb 60\n",
      "nb 4 and feat nb 60\n",
      "nb 5 and feat nb 60\n",
      "nb 1 and feat nb 60\n",
      "nb 2 and feat nb 60\n",
      "nb 3 and feat nb 60\n",
      "nb 4 and feat nb 60\n",
      "nb 5 and feat nb 60\n",
      "nb 6 and feat nb 60\n",
      "nb 7 and feat nb 60\n",
      "nb 8 and feat nb 60\n",
      "nb 9 and feat nb 60\n"
     ]
    },
    {
     "name": "stderr",
     "output_type": "stream",
     "text": [
      " 75%|███████▌  | 75/100 [00:20<00:04,  6.10it/s]"
     ]
    },
    {
     "name": "stdout",
     "output_type": "stream",
     "text": [
      "nb 10 and feat nb 60\n",
      "nb 11 and feat nb 60\n",
      "nb 12 and feat nb 60\n",
      "nb 1 and feat nb 60\n",
      "nb 2 and feat nb 60\n",
      "nb 3 and feat nb 60\n",
      "nb 4 and feat nb 60\n",
      "nb 5 and feat nb 60\n",
      "nb 1 and feat nb 60\n",
      "nb 2 and feat nb 60\n",
      "nb 3 and feat nb 60\n",
      "nb 4 and feat nb 60\n",
      "nb 5 and feat nb 60\n",
      "nb 6 and feat nb 60\n",
      "nb 1 and feat nb 60\n",
      "nb 2 and feat nb 60\n"
     ]
    },
    {
     "name": "stderr",
     "output_type": "stream",
     "text": [
      " 78%|███████▊  | 78/100 [00:20<00:02,  7.51it/s]"
     ]
    },
    {
     "name": "stdout",
     "output_type": "stream",
     "text": [
      "nb 3 and feat nb 60\n",
      "nb 4 and feat nb 60\n",
      "nb 5 and feat nb 60\n",
      "nb 6 and feat nb 60\n",
      "nb 1 and feat nb 60\n",
      "nb 2 and feat nb 60\n",
      "nb 3 and feat nb 60\n"
     ]
    },
    {
     "name": "stderr",
     "output_type": "stream",
     "text": [
      " 79%|███████▉  | 79/100 [00:21<00:03,  6.13it/s]"
     ]
    },
    {
     "name": "stdout",
     "output_type": "stream",
     "text": [
      "nb 4 and feat nb 60\n",
      "nb 5 and feat nb 60\n",
      "nb 6 and feat nb 60\n",
      "nb 7 and feat nb 60\n",
      "nb 8 and feat nb 60\n",
      "nb 9 and feat nb 60\n",
      "nb 1 and feat nb 60\n",
      "nb 2 and feat nb 60\n",
      "nb 3 and feat nb 60\n",
      "nb 4 and feat nb 60\n",
      "nb 5 and feat nb 60\n",
      "nb 6 and feat nb 60\n",
      "nb 7 and feat nb 60\n",
      "nb 1 and feat nb 60\n",
      "nb 2 and feat nb 60\n",
      "nb 3 and feat nb 60\n",
      "nb 4 and feat nb 60\n",
      "nb 5 and feat nb 60\n",
      "nb 6 and feat nb 60\n",
      "nb 7 and feat nb 60\n"
     ]
    },
    {
     "name": "stderr",
     "output_type": "stream",
     "text": [
      " 81%|████████  | 81/100 [00:21<00:03,  6.09it/s]"
     ]
    },
    {
     "name": "stdout",
     "output_type": "stream",
     "text": [
      "nb 8 and feat nb 60\n",
      "nb 9 and feat nb 60\n",
      "nb 1 and feat nb 60\n",
      "nb 2 and feat nb 60\n",
      "nb 3 and feat nb 60\n",
      "nb 4 and feat nb 60\n",
      "nb 5 and feat nb 60\n",
      "nb 6 and feat nb 60\n"
     ]
    },
    {
     "name": "stderr",
     "output_type": "stream",
     "text": [
      " 82%|████████▏ | 82/100 [00:21<00:03,  5.82it/s]"
     ]
    },
    {
     "name": "stdout",
     "output_type": "stream",
     "text": [
      "nb 7 and feat nb 60\n",
      "nb 1 and feat nb 60\n",
      "nb 2 and feat nb 60\n",
      "nb 3 and feat nb 60\n",
      "nb 4 and feat nb 60\n",
      "nb 5 and feat nb 60\n",
      "nb 6 and feat nb 60\n",
      "nb 7 and feat nb 60\n",
      "nb 8 and feat nb 60\n"
     ]
    },
    {
     "name": "stderr",
     "output_type": "stream",
     "text": [
      " 83%|████████▎ | 83/100 [00:22<00:03,  5.07it/s]"
     ]
    },
    {
     "name": "stdout",
     "output_type": "stream",
     "text": [
      "nb 9 and feat nb 60\n",
      "nb 10 and feat nb 60\n",
      "nb 11 and feat nb 60\n",
      "nb 1 and feat nb 60\n",
      "nb 2 and feat nb 60\n",
      "nb 3 and feat nb 60\n",
      "nb 4 and feat nb 60\n",
      "nb 5 and feat nb 60\n"
     ]
    },
    {
     "name": "stderr",
     "output_type": "stream",
     "text": [
      " 84%|████████▍ | 84/100 [00:22<00:02,  5.52it/s]"
     ]
    },
    {
     "name": "stdout",
     "output_type": "stream",
     "text": [
      "nb 6 and feat nb 60\n",
      "nb 1 and feat nb 60\n",
      "nb 2 and feat nb 60\n",
      "nb 3 and feat nb 60\n",
      "nb 4 and feat nb 60\n",
      "nb 5 and feat nb 60\n",
      "nb 6 and feat nb 60\n"
     ]
    },
    {
     "name": "stderr",
     "output_type": "stream",
     "text": [
      " 85%|████████▌ | 85/100 [00:22<00:02,  5.07it/s]"
     ]
    },
    {
     "name": "stdout",
     "output_type": "stream",
     "text": [
      "nb 7 and feat nb 60\n",
      "nb 8 and feat nb 60\n",
      "nb 1 and feat nb 60\n",
      "nb 2 and feat nb 60\n",
      "nb 3 and feat nb 60\n",
      "nb 4 and feat nb 60\n",
      "nb 5 and feat nb 60\n",
      "nb 6 and feat nb 60\n"
     ]
    },
    {
     "name": "stderr",
     "output_type": "stream",
     "text": [
      " 86%|████████▌ | 86/100 [00:22<00:02,  4.76it/s]"
     ]
    },
    {
     "name": "stdout",
     "output_type": "stream",
     "text": [
      "nb 7 and feat nb 60\n",
      "nb 8 and feat nb 60\n",
      "nb 1 and feat nb 60\n",
      "nb 2 and feat nb 60\n",
      "nb 3 and feat nb 60\n",
      "nb 4 and feat nb 60\n",
      "nb 5 and feat nb 60\n",
      "nb 6 and feat nb 60\n",
      "nb 7 and feat nb 60\n",
      "nb 8 and feat nb 60\n",
      "nb 9 and feat nb 60\n"
     ]
    },
    {
     "name": "stderr",
     "output_type": "stream",
     "text": [
      " 88%|████████▊ | 88/100 [00:23<00:02,  5.24it/s]"
     ]
    },
    {
     "name": "stdout",
     "output_type": "stream",
     "text": [
      "nb 10 and feat nb 60\n",
      "nb 1 and feat nb 60\n",
      "nb 2 and feat nb 60\n",
      "nb 3 and feat nb 60\n",
      "nb 4 and feat nb 60\n",
      "nb 5 and feat nb 60\n",
      "nb 6 and feat nb 60\n",
      "nb 7 and feat nb 60\n",
      "nb 8 and feat nb 60\n",
      "nb 1 and feat nb 60\n",
      "nb 2 and feat nb 60\n",
      "nb 3 and feat nb 60\n",
      "nb 4 and feat nb 60\n",
      "nb 5 and feat nb 60\n",
      "nb 6 and feat nb 60\n",
      "nb 7 and feat nb 60\n",
      "nb 8 and feat nb 60\n",
      "nb 1 and feat nb 60\n",
      "nb 2 and feat nb 60\n",
      "nb 3 and feat nb 60\n",
      "nb 4 and feat nb 60\n",
      "nb 5 and feat nb 60\n",
      "nb 6 and feat nb 60\n"
     ]
    },
    {
     "name": "stderr",
     "output_type": "stream",
     "text": [
      " 90%|█████████ | 90/100 [00:23<00:01,  6.18it/s]"
     ]
    },
    {
     "name": "stdout",
     "output_type": "stream",
     "text": [
      "nb 7 and feat nb 60\n",
      "nb 1 and feat nb 60\n",
      "nb 2 and feat nb 60\n",
      "nb 3 and feat nb 60\n",
      "nb 4 and feat nb 60\n",
      "nb 5 and feat nb 60\n",
      "nb 6 and feat nb 60\n",
      "nb 1 and feat nb 60\n",
      "nb 2 and feat nb 60\n",
      "nb 3 and feat nb 60\n",
      "nb 4 and feat nb 60\n",
      "nb 5 and feat nb 60\n",
      "nb 6 and feat nb 60\n",
      "nb 1 and feat nb 60\n",
      "nb 2 and feat nb 60\n",
      "nb 3 and feat nb 60\n",
      "nb 4 and feat nb 60\n",
      "nb 5 and feat nb 60\n",
      "nb 6 and feat nb 60\n",
      "nb 1 and feat nb 60\n",
      "nb 2 and feat nb 60\n",
      "nb 3 and feat nb 60\n",
      "nb 4 and feat nb 60\n",
      "nb 5 and feat nb 60\n"
     ]
    },
    {
     "name": "stderr",
     "output_type": "stream",
     "text": [
      "100%|██████████| 100/100 [00:23<00:00,  4.24it/s]"
     ]
    },
    {
     "name": "stdout",
     "output_type": "stream",
     "text": [
      "nb 6 and feat nb 60\n",
      "nb 1 and feat nb 60\n",
      "nb 2 and feat nb 60\n",
      "nb 3 and feat nb 60\n",
      "nb 4 and feat nb 60\n",
      "nb 5 and feat nb 60\n",
      "nb 1 and feat nb 60\n",
      "nb 2 and feat nb 60\n",
      "nb 3 and feat nb 60\n",
      "nb 4 and feat nb 60\n",
      "nb 5 and feat nb 60\n",
      "nb 1 and feat nb 60\n",
      "nb 2 and feat nb 60\n",
      "nb 3 and feat nb 60\n",
      "nb 4 and feat nb 60\n",
      "nb 1 and feat nb 60\n",
      "nb 2 and feat nb 60\n",
      "nb 3 and feat nb 60\n",
      "nb 4 and feat nb 60\n",
      "nb 1 and feat nb 60\n",
      "nb 2 and feat nb 60\n",
      "nb 3 and feat nb 60\n",
      "nb 4 and feat nb 60\n",
      "nb 1 and feat nb 60\n",
      "nb 2 and feat nb 60\n",
      "nb 3 and feat nb 60\n",
      "nb 4 and feat nb 60\n",
      "---------- Results ----------\n"
     ]
    },
    {
     "name": "stderr",
     "output_type": "stream",
     "text": [
      "\n"
     ]
    }
   ],
   "source": [
    "results = test.fit_predict(X, y)"
   ]
  },
  {
   "cell_type": "code",
   "execution_count": 8,
   "metadata": {},
   "outputs": [
    {
     "data": {
      "text/plain": [
       "([(0,\n",
       "   1,\n",
       "   2,\n",
       "   3,\n",
       "   4,\n",
       "   5,\n",
       "   6,\n",
       "   7,\n",
       "   8,\n",
       "   9,\n",
       "   10,\n",
       "   11,\n",
       "   12,\n",
       "   13,\n",
       "   14,\n",
       "   15,\n",
       "   16,\n",
       "   17,\n",
       "   18,\n",
       "   19,\n",
       "   20,\n",
       "   21,\n",
       "   22,\n",
       "   23,\n",
       "   24,\n",
       "   25,\n",
       "   26,\n",
       "   27,\n",
       "   28,\n",
       "   29,\n",
       "   30,\n",
       "   31,\n",
       "   32,\n",
       "   33,\n",
       "   34,\n",
       "   35,\n",
       "   36,\n",
       "   37,\n",
       "   38,\n",
       "   39,\n",
       "   40,\n",
       "   41,\n",
       "   42,\n",
       "   43,\n",
       "   44,\n",
       "   45,\n",
       "   46,\n",
       "   47,\n",
       "   48,\n",
       "   49,\n",
       "   50,\n",
       "   51,\n",
       "   52,\n",
       "   53,\n",
       "   54,\n",
       "   55,\n",
       "   56,\n",
       "   57,\n",
       "   58,\n",
       "   59),\n",
       "  array([ 9., 10.,  7.,  5., 12.,  5.,  4., 11., 11.,  6., 10., 12., 67.,\n",
       "         10.,  8., 11., 11.,  9., 19., 11., 81.,  8.,  9., 12.,  7.,  9.,\n",
       "         51., 10., 10.,  6.,  4.,  7., 10.,  7.,  9., 14., 23., 13., 10.,\n",
       "         15., 11.,  1., 11.,  3., 23., 24., 13., 48.,  7.,  6.,  9., 11.,\n",
       "          6.,  8., 11., 13., 10.,  8., 12., 11.]),\n",
       "  (-0.007824173784856616,\n",
       "   1.0408340855860842e-18,\n",
       "   -0.03238482617632117,\n",
       "   -0.0622324097101248,\n",
       "   -0.006791844658661369,\n",
       "   -0.011478260869565202,\n",
       "   -0.0035869565217391186,\n",
       "   0.006561001355743032,\n",
       "   0.014321487325565213,\n",
       "   0.000529224736413063,\n",
       "   -0.017217391304347802,\n",
       "   -0.013954800221048558,\n",
       "   0.07673246096726943,\n",
       "   -0.006797144889367007,\n",
       "   0.007427902414254332,\n",
       "   0.013017391316999988,\n",
       "   -0.026047693134260863,\n",
       "   -0.004509507055059616,\n",
       "   0.01894472600441128,\n",
       "   0.007865481037246706,\n",
       "   0.07762771684681463,\n",
       "   0.00583044920363042,\n",
       "   0.012721417212239976,\n",
       "   0.009625955500019153,\n",
       "   -0.012231896014976398,\n",
       "   -0.011095652173913043,\n",
       "   0.06727025986840339,\n",
       "   -0.020959743009408643,\n",
       "   7.44327192901597e-05,\n",
       "   -0.0065505000677893955,\n",
       "   -0.028695652173913087,\n",
       "   0.004182965750640444,\n",
       "   -0.019839998681298425,\n",
       "   -0.008074741180767078,\n",
       "   -0.026780196345578,\n",
       "   0.00825060384131875,\n",
       "   0.0232586755376492,\n",
       "   -0.008661656677039057,\n",
       "   0.008608695652173929,\n",
       "   0.006956493554346864,\n",
       "   -0.0025700534014489393,\n",
       "   -0.05739130434782612,\n",
       "   -0.020566061043651388,\n",
       "   -0.019130434782608705,\n",
       "   0.018844676756083135,\n",
       "   0.015681223448900414,\n",
       "   0.012096549477244301,\n",
       "   0.05856643948075377,\n",
       "   -0.03857020342693653,\n",
       "   -0.009565217391304353,\n",
       "   -0.02978939286504081,\n",
       "   0.013349264497079209,\n",
       "   -0.011956521739130454,\n",
       "   0.005380434782608691,\n",
       "   -0.011739130434782601,\n",
       "   -0.016276612214973077,\n",
       "   -0.03381365128985083,\n",
       "   -0.010524630418298852,\n",
       "   -0.008369565217391307,\n",
       "   -0.02297038229886911),\n",
       "  array([ 3, 41, 48, 56,  2, 50, 30, 34, 16, 59, 27, 42, 32, 43, 10, 55, 11,\n",
       "         24, 52, 54,  5, 25, 57, 49, 37, 58, 33,  0, 13,  4, 29, 17,  6, 40,\n",
       "          1, 28,  9, 31, 53, 21,  7, 39, 14, 19, 35, 38, 23, 46, 22, 15, 51,\n",
       "          8, 45, 44, 18, 36, 47, 26, 12, 20])],\n",
       " 809)"
      ]
     },
     "execution_count": 8,
     "metadata": {},
     "output_type": "execute_result"
    }
   ],
   "source": [
    "results"
   ]
  },
  {
   "cell_type": "code",
   "execution_count": 10,
   "metadata": {},
   "outputs": [
    {
     "data": {
      "text/plain": [
       "{0: [State(number=[0, 0], description=[], v_value=0.11539116324839077, reward=0.75, nb_visited=0)],\n",
       " 1: [State(number=[1, 0], description=[29], v_value=-0.0717391304347826, reward=0.6231884057971014, nb_visited=1),\n",
       "  State(number=[1, 1], description=[55], v_value=0.02869565217391306, reward=0.5652173913043478, nb_visited=1),\n",
       "  State(number=[1, 4], description=[9], v_value=0.0, reward=0.6956521739130435, nb_visited=1),\n",
       "  State(number=[1, 6], description=[32], v_value=0.02869565217391306, reward=0.5797101449275363, nb_visited=1),\n",
       "  State(number=[1, 7], description=[57], v_value=0.014347826086956476, reward=0.5797101449275363, nb_visited=1),\n",
       "  State(number=[1, 8], description=[14], v_value=-0.0717391304347826, reward=0.6376811594202898, nb_visited=1),\n",
       "  State(number=[1, 5], description=[50], v_value=0.057965217391304384, reward=0.6376811594202898, nb_visited=2),\n",
       "  State(number=[1, 9], description=[21], v_value=0.10043478260869566, reward=0.5217391304347826, nb_visited=1),\n",
       "  State(number=[1, 10], description=[0], v_value=0.11478260869565213, reward=0.5797101449275363, nb_visited=1),\n",
       "  State(number=[1, 11], description=[45], v_value=0.04304347826086965, reward=0.6376811594202898, nb_visited=1),\n",
       "  State(number=[1, 12], description=[17], v_value=0.18652173913043474, reward=0.5072463768115942, nb_visited=1),\n",
       "  State(number=[1, 13], description=[47], v_value=0.10072173913043478, reward=0.6521739130434783, nb_visited=2),\n",
       "  State(number=[1, 15], description=[37], v_value=0.20086956521739133, reward=0.5507246376811594, nb_visited=1),\n",
       "  State(number=[1, 16], description=[34], v_value=0.17217391304347826, reward=0.5652173913043478, nb_visited=1),\n",
       "  State(number=[1, 2], description=[3], v_value=0.12927391304347827, reward=0.5797101449275363, nb_visited=2),\n",
       "  State(number=[1, 17], description=[56], v_value=-0.04304347826086954, reward=0.5507246376811594, nb_visited=1),\n",
       "  State(number=[1, 14], description=[51], v_value=0.10115217391304349, reward=0.6086956521739131, nb_visited=2),\n",
       "  State(number=[1, 18], description=[2], v_value=0.02869565217391306, reward=0.5797101449275363, nb_visited=1),\n",
       "  State(number=[1, 19], description=[48], v_value=-0.04304347826086965, reward=0.6811594202898551, nb_visited=1),\n",
       "  State(number=[1, 21], description=[39], v_value=0.1424767969565217, reward=0.6086956521739131, nb_visited=1),\n",
       "  State(number=[1, 22], description=[13], v_value=0.15782608695652167, reward=0.5797101449275363, nb_visited=1),\n",
       "  State(number=[1, 23], description=[42], v_value=-0.04304347826086965, reward=0.6086956521739131, nb_visited=1),\n",
       "  State(number=[1, 24], description=[59], v_value=0.08608695652173913, reward=0.463768115942029, nb_visited=1),\n",
       "  State(number=[1, 25], description=[11], v_value=0.0, reward=0.6956521739130435, nb_visited=1),\n",
       "  State(number=[1, 27], description=[4], v_value=0.05739130434782612, reward=0.5942028985507246, nb_visited=1),\n",
       "  State(number=[1, 26], description=[27], v_value=0.14519999999999997, reward=0.5217391304347826, nb_visited=2),\n",
       "  State(number=[1, 3], description=[20], v_value=0.15750945133650662, reward=0.7101449275362319, nb_visited=50),\n",
       "  State(number=[1, 20], description=[12], v_value=0.22997123752830462, reward=0.6376811594202898, nb_visited=19)],\n",
       " 2: [State(number=[2, 0], description=[29, 34], v_value=0.10043478260869566, reward=0.5507246376811594, nb_visited=1),\n",
       "  State(number=[2, 1], description=[55, 54], v_value=0.04304347826086954, reward=0.5942028985507246, nb_visited=1),\n",
       "  State(number=[2, 2], description=[3, 7], v_value=0.10043478260869566, reward=0.5942028985507246, nb_visited=1),\n",
       "  State(number=[2, 3], description=[20, 8], v_value=-0.014347826086956585, reward=0.6811594202898551, nb_visited=1),\n",
       "  State(number=[2, 4], description=[9, 13], v_value=0.0717391304347826, reward=0.6956521739130435, nb_visited=1),\n",
       "  State(number=[2, 5], description=[50, 32], v_value=0.0, reward=0.6956521739130435, nb_visited=1),\n",
       "  State(number=[2, 6], description=[32, 21], v_value=0.1291304347826086, reward=0.6086956521739131, nb_visited=1),\n",
       "  State(number=[2, 7], description=[57, 35], v_value=0.014347826086956585, reward=0.5942028985507246, nb_visited=1),\n",
       "  State(number=[2, 8], description=[14, 55], v_value=0.11478260869565224, reward=0.5652173913043478, nb_visited=1),\n",
       "  State(number=[2, 9], description=[50, 21], v_value=-0.0717391304347826, reward=0.6956521739130435, nb_visited=1),\n",
       "  State(number=[2, 10], description=[21, 0], v_value=0.04304347826086954, reward=0.6231884057971014, nb_visited=1),\n",
       "  State(number=[2, 11], description=[0, 45], v_value=0.014347826086956585, reward=0.6956521739130435, nb_visited=1),\n",
       "  State(number=[2, 12], description=[45, 17], v_value=0.0, reward=0.6811594202898551, nb_visited=1),\n",
       "  State(number=[2, 13], description=[17, 47], v_value=0.02869565217391306, reward=0.6956521739130435, nb_visited=1),\n",
       "  State(number=[2, 14], description=[47, 46], v_value=-0.02869565217391306, reward=0.6811594202898551, nb_visited=1),\n",
       "  State(number=[2, 15], description=[47, 51], v_value=0.0, reward=0.7536231884057971, nb_visited=1),\n",
       "  State(number=[2, 16], description=[51, 18], v_value=0.0, reward=0.6811594202898551, nb_visited=1),\n",
       "  State(number=[2, 17], description=[37, 20], v_value=-0.014347826086956585, reward=0.7536231884057971, nb_visited=1),\n",
       "  State(number=[2, 19], description=[34, 20], v_value=0.014347826086956585, reward=0.7391304347826086, nb_visited=1),\n",
       "  State(number=[2, 21], description=[3, 20], v_value=0.0, reward=0.7101449275362319, nb_visited=1),\n",
       "  State(number=[2, 20], description=[20, 45], v_value=-0.0001434782608695645, reward=0.7681159420289855, nb_visited=2),\n",
       "  State(number=[2, 22], description=[20, 36], v_value=0.014347826086956476, reward=0.6521739130434783, nb_visited=1),\n",
       "  State(number=[2, 23], description=[56, 32], v_value=0.04304347826086954, reward=0.5072463768115942, nb_visited=1),\n",
       "  State(number=[2, 24], description=[51, 20], v_value=0.014347826086956476, reward=0.7101449275362319, nb_visited=1),\n",
       "  State(number=[2, 25], description=[2, 4], v_value=0.028695652173912952, reward=0.6086956521739131, nb_visited=1),\n",
       "  State(number=[2, 27], description=[48, 30], v_value=0.15782608695652178, reward=0.6376811594202898, nb_visited=1),\n",
       "  State(number=[2, 18], description=[20, 39], v_value=0.07258863623478261, reward=0.6956521739130435, nb_visited=3),\n",
       "  State(number=[2, 28], description=[13, 20], v_value=0.04304347826086965, reward=0.7391304347826086, nb_visited=1),\n",
       "  State(number=[2, 29], description=[42, 54], v_value=0.04304347826086965, reward=0.5652173913043478, nb_visited=1),\n",
       "  State(number=[2, 30], description=[12, 55], v_value=0.0717391304347826, reward=0.6521739130434783, nb_visited=1),\n",
       "  State(number=[2, 31], description=[20, 40], v_value=0.04304347826086954, reward=0.6811594202898551, nb_visited=1),\n",
       "  State(number=[2, 32], description=[59, 57], v_value=0.05739130434782612, reward=0.5507246376811594, nb_visited=1),\n",
       "  State(number=[2, 33], description=[20, 19], v_value=0.11478260869565224, reward=0.6666666666666666, nb_visited=1),\n",
       "  State(number=[2, 34], description=[11, 28], v_value=-0.014347826086956476, reward=0.6956521739130435, nb_visited=1),\n",
       "  State(number=[2, 35], description=[27, 15], v_value=-0.0717391304347826, reward=0.6956521739130435, nb_visited=1),\n",
       "  State(number=[2, 36], description=[4, 20], v_value=-0.02869565217391306, reward=0.6521739130434783, nb_visited=1),\n",
       "  State(number=[2, 37], description=[27, 12], v_value=0.10043478260869566, reward=0.6666666666666666, nb_visited=1),\n",
       "  State(number=[2, 38], description=[12, 56], v_value=0.1282738695652174, reward=0.6521739130434783, nb_visited=1),\n",
       "  State(number=[2, 39], description=[20, 59], v_value=0.014347826086956585, reward=0.6666666666666666, nb_visited=1),\n",
       "  State(number=[2, 26], description=[20, 12], v_value=0.11518073936115825, reward=0.7536231884057971, nb_visited=58)],\n",
       " 3: [State(number=[3, 0], description=[29, 34, 55], v_value=0.0, reward=0.6521739130434783, nb_visited=1),\n",
       "  State(number=[3, 1], description=[55, 54, 11], v_value=0.02869565217391306, reward=0.6376811594202898, nb_visited=1),\n",
       "  State(number=[3, 2], description=[3, 7, 20], v_value=0.02869565217391306, reward=0.6956521739130435, nb_visited=1),\n",
       "  State(number=[3, 3], description=[20, 8, 30], v_value=0.05739130434782612, reward=0.6666666666666666, nb_visited=1),\n",
       "  State(number=[3, 4], description=[9, 13, 50], v_value=0.0, reward=0.7681159420289855, nb_visited=1),\n",
       "  State(number=[3, 5], description=[50, 32, 31], v_value=0.0, reward=0.6956521739130435, nb_visited=1),\n",
       "  State(number=[3, 6], description=[32, 21, 8], v_value=-0.08608695652173907, reward=0.7391304347826086, nb_visited=1),\n",
       "  State(number=[3, 7], description=[57, 35, 58], v_value=0.014347826086956476, reward=0.6086956521739131, nb_visited=1),\n",
       "  State(number=[3, 8], description=[14, 55, 45], v_value=0.0, reward=0.6811594202898551, nb_visited=1),\n",
       "  State(number=[3, 9], description=[50, 21, 28], v_value=0.0717391304347826, reward=0.6231884057971014, nb_visited=1),\n",
       "  State(number=[3, 10], description=[21, 0, 1], v_value=-0.04304347826086954, reward=0.6666666666666666, nb_visited=1),\n",
       "  State(number=[3, 11], description=[0, 45, 59], v_value=-0.04304347826086965, reward=0.7101449275362319, nb_visited=1),\n",
       "  State(number=[3, 12], description=[45, 17, 32], v_value=0.0, reward=0.6811594202898551, nb_visited=1),\n",
       "  State(number=[3, 13], description=[17, 47, 53], v_value=0.02869565217391306, reward=0.7246376811594203, nb_visited=1),\n",
       "  State(number=[3, 14], description=[47, 46, 6], v_value=0.014347826086956476, reward=0.6521739130434783, nb_visited=1),\n",
       "  State(number=[3, 15], description=[47, 51, 8], v_value=0.014347826086956476, reward=0.7536231884057971, nb_visited=1),\n",
       "  State(number=[3, 16], description=[51, 18, 46], v_value=0.02869565217391306, reward=0.6811594202898551, nb_visited=1),\n",
       "  State(number=[3, 17], description=[37, 20, 13], v_value=0.04304347826086965, reward=0.7391304347826086, nb_visited=1),\n",
       "  State(number=[3, 18], description=[20, 39, 7], v_value=0.014347826086956476, reward=0.7101449275362319, nb_visited=1),\n",
       "  State(number=[3, 19], description=[34, 20, 45], v_value=0.02869565217391306, reward=0.7536231884057971, nb_visited=1),\n",
       "  State(number=[3, 20], description=[20, 45, 28], v_value=0.014347826086956476, reward=0.7536231884057971, nb_visited=1),\n",
       "  State(number=[3, 21], description=[3, 20, 45], v_value=0.014347826086956476, reward=0.7101449275362319, nb_visited=1),\n",
       "  State(number=[3, 23], description=[20, 36, 56], v_value=0.08608695652173919, reward=0.6666666666666666, nb_visited=1),\n",
       "  State(number=[3, 24], description=[56, 32, 22], v_value=0.12913043478260872, reward=0.5507246376811594, nb_visited=1),\n",
       "  State(number=[3, 25], description=[51, 20, 37], v_value=0.014347826086956476, reward=0.7246376811594203, nb_visited=1),\n",
       "  State(number=[3, 26], description=[2, 4, 57], v_value=-0.028695652173912952, reward=0.6376811594202898, nb_visited=1),\n",
       "  State(number=[3, 27], description=[48, 30, 20], v_value=-0.014347826086956476, reward=0.7971014492753623, nb_visited=1),\n",
       "  State(number=[3, 28], description=[20, 12, 46], v_value=-0.04304347826086954, reward=0.7971014492753623, nb_visited=1),\n",
       "  State(number=[3, 29], description=[20, 39, 12], v_value=-0.013337796521739187, reward=0.7536231884057971, nb_visited=2),\n",
       "  State(number=[3, 30], description=[20, 12, 7], v_value=0.02869565217391306, reward=0.7536231884057971, nb_visited=1),\n",
       "  State(number=[3, 31], description=[20, 12, 36], v_value=-0.02927100000000002, reward=0.782608695652174, nb_visited=3),\n",
       "  State(number=[3, 33], description=[13, 20, 12], v_value=0.014347826086956476, reward=0.782608695652174, nb_visited=1),\n",
       "  State(number=[3, 34], description=[20, 12, 28], v_value=-0.02869565217391306, reward=0.7536231884057971, nb_visited=1),\n",
       "  State(number=[3, 35], description=[42, 54, 14], v_value=0.028695652173912952, reward=0.6086956521739131, nb_visited=1),\n",
       "  State(number=[3, 22], description=[20, 45, 12], v_value=0.05653617405652177, reward=0.7681159420289855, nb_visited=5),\n",
       "  State(number=[3, 37], description=[12, 55, 17], v_value=-0.02869565217391306, reward=0.7246376811594203, nb_visited=1),\n",
       "  State(number=[3, 38], description=[20, 40, 47], v_value=0.0, reward=0.7246376811594203, nb_visited=1),\n",
       "  State(number=[3, 39], description=[59, 57, 17], v_value=0.05739130434782601, reward=0.6086956521739131, nb_visited=1),\n",
       "  State(number=[3, 40], description=[20, 19, 44], v_value=0.02869565217391306, reward=0.782608695652174, nb_visited=1),\n",
       "  State(number=[3, 41], description=[11, 28, 49], v_value=0.0, reward=0.6811594202898551, nb_visited=1),\n",
       "  State(number=[3, 43], description=[27, 15, 42], v_value=0.014347826086956476, reward=0.6231884057971014, nb_visited=1),\n",
       "  State(number=[3, 44], description=[4, 20, 22], v_value=0.05739130434782612, reward=0.6231884057971014, nb_visited=1),\n",
       "  State(number=[3, 45], description=[20, 12, 31], v_value=0.04304347826086965, reward=0.7391304347826086, nb_visited=1),\n",
       "  State(number=[3, 46], description=[27, 12, 45], v_value=0.0, reward=0.7681159420289855, nb_visited=1),\n",
       "  State(number=[3, 32], description=[20, 12, 23], v_value=-0.014634782608695607, reward=0.7971014492753623, nb_visited=2),\n",
       "  State(number=[3, 47], description=[20, 12, 29], v_value=-0.0717391304347826, reward=0.782608695652174, nb_visited=1),\n",
       "  State(number=[3, 42], description=[20, 12, 56], v_value=0.04347391304347834, reward=0.7391304347826086, nb_visited=2),\n",
       "  State(number=[3, 48], description=[20, 12, 24], v_value=0.014347826086956476, reward=0.7536231884057971, nb_visited=1),\n",
       "  State(number=[3, 49], description=[20, 59, 4], v_value=-0.014347826086956585, reward=0.6811594202898551, nb_visited=1),\n",
       "  State(number=[3, 36], description=[20, 12, 26], v_value=0.10170503609779101, reward=0.7681159420289855, nb_visited=42)],\n",
       " 4: [State(number=[4, 0], description=[29, 34, 55, 25], v_value=0.02869565217391306, reward=0.6521739130434783, nb_visited=1),\n",
       "  State(number=[4, 1], description=[55, 54, 11, 51], v_value=0.04304347826086965, reward=0.6666666666666666, nb_visited=1),\n",
       "  State(number=[4, 2], description=[3, 7, 20, 47], v_value=0.04304347826086954, reward=0.7246376811594203, nb_visited=1),\n",
       "  State(number=[4, 3], description=[20, 8, 30, 15], v_value=0.014347826086956476, reward=0.7246376811594203, nb_visited=1),\n",
       "  State(number=[4, 4], description=[9, 13, 50, 59], v_value=-0.014347826086956476, reward=0.7681159420289855, nb_visited=1),\n",
       "  State(number=[4, 5], description=[50, 32, 31, 26], v_value=0.08608695652173919, reward=0.6956521739130435, nb_visited=1),\n",
       "  State(number=[4, 6], description=[32, 21, 8, 50], v_value=0.02869565217391306, reward=0.6521739130434783, nb_visited=1),\n",
       "  State(number=[4, 7], description=[57, 35, 58, 55], v_value=0.0717391304347826, reward=0.6231884057971014, nb_visited=1),\n",
       "  State(number=[4, 8], description=[14, 55, 45, 52], v_value=-0.05739130434782612, reward=0.6811594202898551, nb_visited=1),\n",
       "  State(number=[4, 9], description=[50, 21, 28, 36], v_value=0.02869565217391306, reward=0.6956521739130435, nb_visited=1),\n",
       "  State(number=[4, 10], description=[21, 0, 1, 2], v_value=0.05739130434782612, reward=0.6231884057971014, nb_visited=1),\n",
       "  State(number=[4, 11], description=[0, 45, 59, 52], v_value=0.04304347826086965, reward=0.6666666666666666, nb_visited=1),\n",
       "  State(number=[4, 12], description=[45, 17, 32, 57], v_value=0.04304347826086954, reward=0.6811594202898551, nb_visited=1),\n",
       "  State(number=[4, 13], description=[17, 47, 53, 8], v_value=0.014347826086956476, reward=0.7536231884057971, nb_visited=1),\n",
       "  State(number=[4, 14], description=[47, 46, 6, 49], v_value=-0.014347826086956476, reward=0.6666666666666666, nb_visited=1),\n",
       "  State(number=[4, 15], description=[47, 51, 8, 27], v_value=0.0, reward=0.7681159420289855, nb_visited=1),\n",
       "  State(number=[4, 16], description=[51, 18, 46, 44], v_value=0.014347826086956476, reward=0.7101449275362319, nb_visited=1),\n",
       "  State(number=[4, 17], description=[37, 20, 13, 23], v_value=-0.08608695652173919, reward=0.782608695652174, nb_visited=1),\n",
       "  State(number=[4, 18], description=[20, 39, 7, 28], v_value=0.014347826086956476, reward=0.7246376811594203, nb_visited=1),\n",
       "  State(number=[4, 19], description=[34, 20, 45, 5], v_value=-0.02869565217391306, reward=0.782608695652174, nb_visited=1),\n",
       "  State(number=[4, 20], description=[20, 45, 28, 50], v_value=-0.02869565217391306, reward=0.7681159420289855, nb_visited=1),\n",
       "  State(number=[4, 21], description=[3, 20, 45, 4], v_value=0.0, reward=0.7246376811594203, nb_visited=1),\n",
       "  State(number=[4, 22], description=[20, 45, 12, 9], v_value=0.014347826086956476, reward=0.782608695652174, nb_visited=1),\n",
       "  State(number=[4, 23], description=[20, 36, 56, 12], v_value=0.04304347826086954, reward=0.7536231884057971, nb_visited=1),\n",
       "  State(number=[4, 24], description=[56, 32, 22, 7], v_value=0.0, reward=0.6811594202898551, nb_visited=1),\n",
       "  State(number=[4, 25], description=[51, 20, 37, 0], v_value=-0.028695652173912952, reward=0.7391304347826086, nb_visited=1),\n",
       "  State(number=[4, 26], description=[2, 4, 57, 19], v_value=0.08608695652173907, reward=0.6086956521739131, nb_visited=1),\n",
       "  State(number=[4, 27], description=[20, 45, 12, 50], v_value=0.04304347826086965, reward=0.7681159420289855, nb_visited=1),\n",
       "  State(number=[4, 28], description=[48, 30, 20, 57], v_value=-0.04304347826086965, reward=0.782608695652174, nb_visited=1),\n",
       "  State(number=[4, 31], description=[20, 12, 46, 54], v_value=0.02869565217391306, reward=0.7536231884057971, nb_visited=1),\n",
       "  State(number=[4, 30], description=[20, 45, 12, 39], v_value=0.013771043478260928, reward=0.7971014492753623, nb_visited=3),\n",
       "  State(number=[4, 32], description=[20, 12, 7, 13], v_value=-0.05739130434782612, reward=0.782608695652174, nb_visited=1),\n",
       "  State(number=[4, 33], description=[20, 12, 36, 44], v_value=0.02869565217391306, reward=0.7681159420289855, nb_visited=1),\n",
       "  State(number=[4, 34], description=[20, 12, 36, 27], v_value=0.014347826086956476, reward=0.7246376811594203, nb_visited=1),\n",
       "  State(number=[4, 35], description=[20, 12, 36, 45], v_value=-0.04304347826086954, reward=0.7536231884057971, nb_visited=1),\n",
       "  State(number=[4, 36], description=[20, 12, 23, 47], v_value=0.04304347826086965, reward=0.7681159420289855, nb_visited=1),\n",
       "  State(number=[4, 37], description=[13, 20, 12, 26], v_value=-0.014347826086956476, reward=0.7971014492753623, nb_visited=1),\n",
       "  State(number=[4, 38], description=[20, 12, 28, 54], v_value=0.04304347826086954, reward=0.7246376811594203, nb_visited=1),\n",
       "  State(number=[4, 39], description=[42, 54, 14, 45], v_value=0.014347826086956585, reward=0.6376811594202898, nb_visited=1),\n",
       "  State(number=[4, 29], description=[20, 45, 12, 26], v_value=0.0001492173913043484, reward=0.7681159420289855, nb_visited=3),\n",
       "  State(number=[4, 40], description=[12, 55, 17, 15], v_value=0.08608695652173919, reward=0.6956521739130435, nb_visited=1),\n",
       "  State(number=[4, 41], description=[20, 40, 47, 26], v_value=0.04304347826086954, reward=0.7246376811594203, nb_visited=1),\n",
       "  State(number=[4, 42], description=[20, 12, 26, 44], v_value=-0.014347826086956585, reward=0.8115942028985508, nb_visited=1),\n",
       "  State(number=[4, 43], description=[20, 12, 26, 16], v_value=0.014347826086956476, reward=0.782608695652174, nb_visited=1),\n",
       "  State(number=[4, 45], description=[59, 57, 17, 44], v_value=0.04304347826086965, reward=0.6666666666666666, nb_visited=1),\n",
       "  State(number=[4, 46], description=[20, 12, 26, 14], v_value=-0.02869565217391306, reward=0.782608695652174, nb_visited=1),\n",
       "  State(number=[4, 47], description=[20, 12, 26, 39], v_value=0.04304347826086954, reward=0.7971014492753623, nb_visited=1),\n",
       "  State(number=[4, 48], description=[20, 19, 44, 27], v_value=0.0, reward=0.8115942028985508, nb_visited=1),\n",
       "  State(number=[4, 49], description=[11, 28, 49, 0], v_value=0.02869565217391306, reward=0.6811594202898551, nb_visited=1),\n",
       "  State(number=[4, 50], description=[20, 12, 56, 26], v_value=0.02869565217391306, reward=0.782608695652174, nb_visited=1),\n",
       "  State(number=[4, 51], description=[27, 15, 42, 51], v_value=0.05739130434782612, reward=0.6376811594202898, nb_visited=1),\n",
       "  State(number=[4, 52], description=[20, 12, 26, 33], v_value=0.05739130434782612, reward=0.7536231884057971, nb_visited=1),\n",
       "  State(number=[4, 53], description=[4, 20, 22, 0], v_value=0.014347826086956476, reward=0.6811594202898551, nb_visited=1),\n",
       "  State(number=[4, 54], description=[20, 12, 31, 19], v_value=0.0, reward=0.782608695652174, nb_visited=1),\n",
       "  State(number=[4, 55], description=[27, 12, 45, 37], v_value=0.05739130434782612, reward=0.7681159420289855, nb_visited=1),\n",
       "  State(number=[4, 56], description=[20, 12, 23, 26], v_value=0.014347826086956476, reward=0.782608695652174, nb_visited=1),\n",
       "  State(number=[4, 57], description=[20, 12, 29, 58], v_value=0.10043478260869566, reward=0.7101449275362319, nb_visited=1),\n",
       "  State(number=[4, 58], description=[20, 12, 26, 28], v_value=0.0, reward=0.782608695652174, nb_visited=1),\n",
       "  State(number=[4, 59], description=[20, 12, 56, 18], v_value=0.0, reward=0.782608695652174, nb_visited=1),\n",
       "  State(number=[4, 60], description=[20, 12, 24, 34], v_value=0.0, reward=0.7681159420289855, nb_visited=1),\n",
       "  State(number=[4, 61], description=[20, 12, 26, 35], v_value=0.0, reward=0.8260869565217391, nb_visited=1),\n",
       "  State(number=[4, 62], description=[20, 59, 4, 35], v_value=0.08608695652173919, reward=0.6666666666666666, nb_visited=1),\n",
       "  State(number=[4, 44], description=[20, 12, 26, 47], v_value=0.029536634325097653, reward=0.8405797101449275, nb_visited=27)],\n",
       " 5: [State(number=[5, 0], description=[29, 34, 55, 25, 11], v_value=0.02869565217391306, reward=0.6811594202898551, nb_visited=1),\n",
       "  State(number=[5, 1], description=[55, 54, 11, 51, 10], v_value=0.028695652173912952, reward=0.7101449275362319, nb_visited=1),\n",
       "  State(number=[5, 2], description=[3, 7, 20, 47, 31], v_value=0.0, reward=0.7681159420289855, nb_visited=1),\n",
       "  State(number=[5, 3], description=[20, 8, 30, 15, 38], v_value=0.014347826086956585, reward=0.7391304347826086, nb_visited=1),\n",
       "  State(number=[5, 4], description=[9, 13, 50, 59, 18], v_value=0.014347826086956476, reward=0.7536231884057971, nb_visited=1),\n",
       "  State(number=[5, 5], description=[50, 32, 31, 26, 20], v_value=0.0, reward=0.782608695652174, nb_visited=1),\n",
       "  State(number=[5, 6], description=[32, 21, 8, 50, 11], v_value=0.05739130434782601, reward=0.6811594202898551, nb_visited=1),\n",
       "  State(number=[5, 7], description=[57, 35, 58, 55, 42], v_value=0.05739130434782612, reward=0.6956521739130435, nb_visited=1),\n",
       "  State(number=[5, 8], description=[14, 55, 45, 52, 41], v_value=0.17217391304347826, reward=0.6231884057971014, nb_visited=1),\n",
       "  State(number=[5, 9], description=[50, 21, 28, 36, 39], v_value=-0.014347826086956476, reward=0.7246376811594203, nb_visited=1),\n",
       "  State(number=[5, 10], description=[21, 0, 1, 2, 17], v_value=0.014347826086956476, reward=0.6811594202898551, nb_visited=1),\n",
       "  State(number=[5, 11], description=[0, 45, 59, 52, 39], v_value=0.05739130434782601, reward=0.7101449275362319, nb_visited=1),\n",
       "  State(number=[5, 12], description=[45, 17, 32, 57, 44], v_value=0.02869565217391306, reward=0.7246376811594203, nb_visited=1),\n",
       "  State(number=[5, 13], description=[17, 47, 53, 8, 11], v_value=0.014347826086956585, reward=0.7681159420289855, nb_visited=1),\n",
       "  State(number=[5, 14], description=[47, 46, 6, 49, 54], v_value=-0.02869565217391306, reward=0.6521739130434783, nb_visited=1),\n",
       "  State(number=[5, 15], description=[47, 51, 8, 27, 48], v_value=0.04304347826086965, reward=0.7681159420289855, nb_visited=1),\n",
       "  State(number=[5, 16], description=[51, 18, 46, 44, 32], v_value=-0.014347826086956476, reward=0.7246376811594203, nb_visited=1),\n",
       "  State(number=[5, 17], description=[37, 20, 13, 23, 53], v_value=0.04304347826086954, reward=0.6956521739130435, nb_visited=1),\n",
       "  State(number=[5, 18], description=[20, 39, 7, 28, 18], v_value=0.02869565217391306, reward=0.7391304347826086, nb_visited=1),\n",
       "  State(number=[5, 19], description=[34, 20, 45, 5, 55], v_value=0.05739130434782612, reward=0.7536231884057971, nb_visited=1),\n",
       "  State(number=[5, 20], description=[20, 45, 28, 50, 8], v_value=-0.04304347826086954, reward=0.7391304347826086, nb_visited=1),\n",
       "  State(number=[5, 21], description=[3, 20, 45, 4, 53], v_value=-0.04304347826086954, reward=0.7246376811594203, nb_visited=1),\n",
       "  State(number=[5, 22], description=[20, 45, 12, 9, 46], v_value=0.05739130434782612, reward=0.7971014492753623, nb_visited=1),\n",
       "  State(number=[5, 23], description=[20, 36, 56, 12, 26], v_value=0.0, reward=0.7971014492753623, nb_visited=1),\n",
       "  State(number=[5, 24], description=[56, 32, 22, 7, 52], v_value=-0.014347826086956585, reward=0.6811594202898551, nb_visited=1),\n",
       "  State(number=[5, 25], description=[51, 20, 37, 0, 55], v_value=0.014347826086956476, reward=0.7101449275362319, nb_visited=1),\n",
       "  State(number=[5, 26], description=[2, 4, 57, 19, 28], v_value=0.05739130434782612, reward=0.6956521739130435, nb_visited=1),\n",
       "  State(number=[5, 27], description=[20, 45, 12, 50, 19], v_value=-0.014347826086956585, reward=0.8115942028985508, nb_visited=1),\n",
       "  State(number=[5, 28], description=[20, 45, 12, 26, 42], v_value=-0.0717391304347826, reward=0.8260869565217391, nb_visited=1),\n",
       "  State(number=[5, 29], description=[20, 12, 46, 54, 36], v_value=0.0, reward=0.782608695652174, nb_visited=1),\n",
       "  State(number=[5, 30], description=[20, 45, 12, 39, 15], v_value=0.07173913043478271, reward=0.7391304347826086, nb_visited=1),\n",
       "  State(number=[5, 31], description=[20, 45, 12, 39, 36], v_value=-0.04304347826086965, reward=0.8115942028985508, nb_visited=1),\n",
       "  State(number=[5, 32], description=[20, 12, 7, 13, 5], v_value=0.02869565217391306, reward=0.7246376811594203, nb_visited=1),\n",
       "  State(number=[5, 33], description=[20, 12, 36, 44, 19], v_value=-0.014347826086956476, reward=0.7971014492753623, nb_visited=1),\n",
       "  State(number=[5, 34], description=[20, 12, 36, 27, 58], v_value=0.05739130434782612, reward=0.7391304347826086, nb_visited=1),\n",
       "  State(number=[5, 35], description=[20, 12, 23, 47, 19], v_value=-0.02869565217391306, reward=0.8115942028985508, nb_visited=1),\n",
       "  State(number=[5, 36], description=[13, 20, 12, 26, 27], v_value=0.0, reward=0.782608695652174, nb_visited=1),\n",
       "  State(number=[5, 37], description=[20, 12, 28, 54, 24], v_value=-0.02869565217391306, reward=0.7681159420289855, nb_visited=1),\n",
       "  State(number=[5, 38], description=[42, 54, 14, 45, 59], v_value=0.02869565217391306, reward=0.6521739130434783, nb_visited=1),\n",
       "  State(number=[5, 39], description=[20, 45, 12, 26, 25], v_value=-0.02869565217391306, reward=0.782608695652174, nb_visited=1),\n",
       "  State(number=[5, 40], description=[20, 45, 12, 26, 46], v_value=0.02869565217391306, reward=0.7681159420289855, nb_visited=1),\n",
       "  State(number=[5, 41], description=[12, 55, 17, 15, 27], v_value=-0.02869565217391306, reward=0.782608695652174, nb_visited=1),\n",
       "  State(number=[5, 42], description=[20, 40, 47, 26, 13], v_value=0.05739130434782612, reward=0.7681159420289855, nb_visited=1),\n",
       "  State(number=[5, 43], description=[20, 12, 26, 44, 54], v_value=0.014347826086956585, reward=0.7971014492753623, nb_visited=1),\n",
       "  State(number=[5, 44], description=[20, 12, 26, 16, 23], v_value=0.04304347826086954, reward=0.7971014492753623, nb_visited=1),\n",
       "  State(number=[5, 45], description=[20, 12, 26, 47, 40], v_value=0.02869565217391306, reward=0.782608695652174, nb_visited=1),\n",
       "  State(number=[5, 46], description=[20, 12, 26, 47, 19], v_value=0.014347826086956476, reward=0.8115942028985508, nb_visited=1),\n",
       "  State(number=[5, 47], description=[59, 57, 17, 44, 38], v_value=0.028695652173912952, reward=0.7101449275362319, nb_visited=1),\n",
       "  State(number=[5, 49], description=[20, 12, 26, 47, 22], v_value=-0.04304347826086954, reward=0.8405797101449275, nb_visited=1),\n",
       "  State(number=[5, 50], description=[20, 12, 26, 47, 45], v_value=0.0, reward=0.8405797101449275, nb_visited=1),\n",
       "  State(number=[5, 51], description=[20, 12, 26, 39, 23], v_value=-0.028695652173912952, reward=0.8405797101449275, nb_visited=1),\n",
       "  State(number=[5, 52], description=[20, 19, 44, 27, 55], v_value=0.028695652173912952, reward=0.8115942028985508, nb_visited=1),\n",
       "  State(number=[5, 53], description=[11, 28, 49, 0, 58], v_value=0.0, reward=0.7101449275362319, nb_visited=1),\n",
       "  State(number=[5, 54], description=[20, 12, 56, 26, 0], v_value=0.0, reward=0.8115942028985508, nb_visited=1),\n",
       "  State(number=[5, 55], description=[27, 15, 42, 51, 18], v_value=-0.02869565217391306, reward=0.6956521739130435, nb_visited=1),\n",
       "  State(number=[5, 56], description=[20, 12, 26, 33, 40], v_value=-0.05739130434782612, reward=0.8115942028985508, nb_visited=1),\n",
       "  State(number=[5, 57], description=[4, 20, 22, 0, 38], v_value=0.05739130434782612, reward=0.6956521739130435, nb_visited=1),\n",
       "  State(number=[5, 58], description=[20, 12, 31, 19, 1], v_value=-0.05739130434782612, reward=0.782608695652174, nb_visited=1),\n",
       "  State(number=[5, 59], description=[27, 12, 45, 37, 38], v_value=0.0, reward=0.8260869565217391, nb_visited=1),\n",
       "  State(number=[5, 48], description=[20, 12, 26, 47, 44], v_value=-0.014921739129043106, reward=0.855072463768116, nb_visited=7),\n",
       "  State(number=[5, 60], description=[20, 12, 23, 26, 47], v_value=0.05739130434782612, reward=0.7971014492753623, nb_visited=1),\n",
       "  State(number=[5, 61], description=[20, 12, 29, 58, 36], v_value=0.04304347826086954, reward=0.8115942028985508, nb_visited=1),\n",
       "  State(number=[5, 63], description=[20, 12, 26, 28, 18], v_value=-0.04304347826086965, reward=0.782608695652174, nb_visited=1),\n",
       "  State(number=[5, 64], description=[20, 12, 56, 18, 23], v_value=-0.02869565217391306, reward=0.782608695652174, nb_visited=1),\n",
       "  State(number=[5, 65], description=[20, 12, 24, 34, 17], v_value=-0.0717391304347826, reward=0.7681159420289855, nb_visited=1),\n",
       "  State(number=[5, 62], description=[20, 12, 26, 47, 18], v_value=0.028982608695652192, reward=0.8260869565217391, nb_visited=2),\n",
       "  State(number=[5, 66], description=[20, 12, 26, 47, 14], v_value=0.02869565217391306, reward=0.8260869565217391, nb_visited=1),\n",
       "  State(number=[5, 68], description=[20, 12, 26, 35, 18], v_value=0.014347826086956476, reward=0.8260869565217391, nb_visited=1),\n",
       "  State(number=[5, 67], description=[20, 12, 26, 47, 36], v_value=0.015195838295449522, reward=0.855072463768116, nb_visited=4),\n",
       "  State(number=[5, 69], description=[20, 59, 4, 35, 8], v_value=-0.02869565217391306, reward=0.7536231884057971, nb_visited=1)],\n",
       " 6: [State(number=[6, 0], description=[29, 34, 55, 25, 11, 12], v_value=0.014347826086956476, reward=0.7101449275362319, nb_visited=1),\n",
       "  State(number=[6, 1], description=[55, 54, 11, 51, 10, 21], v_value=-0.028695652173912952, reward=0.7391304347826086, nb_visited=1),\n",
       "  State(number=[6, 2], description=[3, 7, 20, 47, 31, 40], v_value=-0.04304347826086954, reward=0.7681159420289855, nb_visited=1),\n",
       "  State(number=[6, 3], description=[20, 8, 30, 15, 38, 19], v_value=0.05739130434782612, reward=0.7536231884057971, nb_visited=1),\n",
       "  State(number=[6, 4], description=[9, 13, 50, 59, 18, 35], v_value=0.04304347826086965, reward=0.7681159420289855, nb_visited=1),\n",
       "  State(number=[6, 5], description=[50, 32, 31, 26, 20, 55], v_value=0.0, reward=0.782608695652174, nb_visited=1),\n",
       "  State(number=[6, 6], description=[32, 21, 8, 50, 11, 57], v_value=0.0, reward=0.7391304347826086, nb_visited=1),\n",
       "  State(number=[6, 7], description=[57, 35, 58, 55, 42, 47], v_value=-0.10043478260869566, reward=0.7536231884057971, nb_visited=1),\n",
       "  State(number=[6, 8], description=[14, 55, 45, 52, 41, 21], v_value=-0.1434782608695652, reward=0.7971014492753623, nb_visited=1),\n",
       "  State(number=[6, 9], description=[50, 21, 28, 36, 39, 32], v_value=0.014347826086956476, reward=0.7101449275362319, nb_visited=1),\n",
       "  State(number=[6, 10], description=[21, 0, 1, 2, 17, 20], v_value=0.04304347826086954, reward=0.6956521739130435, nb_visited=1),\n",
       "  State(number=[6, 11], description=[0, 45, 59, 52, 39, 32], v_value=-0.02869565217391306, reward=0.7681159420289855, nb_visited=1),\n",
       "  State(number=[6, 12], description=[45, 17, 32, 57, 44, 5], v_value=0.0717391304347826, reward=0.7536231884057971, nb_visited=1),\n",
       "  State(number=[6, 13], description=[17, 47, 53, 8, 11, 4], v_value=-0.014347826086956585, reward=0.782608695652174, nb_visited=1),\n",
       "  State(number=[6, 14], description=[47, 51, 8, 27, 48, 20], v_value=0.014347826086956476, reward=0.8115942028985508, nb_visited=1),\n",
       "  State(number=[6, 15], description=[51, 18, 46, 44, 32, 17], v_value=0.04304347826086954, reward=0.7101449275362319, nb_visited=1),\n",
       "  State(number=[6, 16], description=[37, 20, 13, 23, 53, 39], v_value=0.0, reward=0.7391304347826086, nb_visited=1),\n",
       "  State(number=[6, 17], description=[20, 39, 7, 28, 18, 38], v_value=-0.02869565217391306, reward=0.7681159420289855, nb_visited=1),\n",
       "  State(number=[6, 18], description=[34, 20, 45, 5, 55, 51], v_value=-0.04304347826086965, reward=0.8115942028985508, nb_visited=1),\n",
       "  State(number=[6, 19], description=[3, 20, 45, 4, 53, 48], v_value=0.02869565217391306, reward=0.6811594202898551, nb_visited=1),\n",
       "  State(number=[6, 20], description=[20, 45, 12, 9, 46, 36], v_value=-0.02869565217391306, reward=0.855072463768116, nb_visited=1),\n",
       "  State(number=[6, 21], description=[20, 36, 56, 12, 26, 32], v_value=-0.02869565217391306, reward=0.7971014492753623, nb_visited=1),\n",
       "  State(number=[6, 22], description=[56, 32, 22, 7, 52, 35], v_value=0.0, reward=0.6666666666666666, nb_visited=1),\n",
       "  State(number=[6, 23], description=[51, 20, 37, 0, 55, 39], v_value=0.014347826086956476, reward=0.7246376811594203, nb_visited=1),\n",
       "  State(number=[6, 24], description=[2, 4, 57, 19, 28, 27], v_value=-0.02869565217391306, reward=0.7536231884057971, nb_visited=1),\n",
       "  State(number=[6, 25], description=[20, 45, 12, 50, 19, 7], v_value=0.0, reward=0.7971014492753623, nb_visited=1),\n",
       "  State(number=[6, 26], description=[20, 12, 46, 54, 36, 18], v_value=-0.05739130434782612, reward=0.782608695652174, nb_visited=1),\n",
       "  State(number=[6, 27], description=[20, 45, 12, 39, 15, 35], v_value=0.04304347826086954, reward=0.8115942028985508, nb_visited=1),\n",
       "  State(number=[6, 28], description=[20, 45, 12, 39, 36, 2], v_value=-0.04304347826086954, reward=0.7681159420289855, nb_visited=1),\n",
       "  State(number=[6, 29], description=[20, 12, 7, 13, 5, 53], v_value=0.014347826086956476, reward=0.7536231884057971, nb_visited=1),\n",
       "  State(number=[6, 30], description=[20, 12, 36, 27, 58, 37], v_value=0.0, reward=0.7971014492753623, nb_visited=1),\n",
       "  State(number=[6, 31], description=[13, 20, 12, 26, 27, 18], v_value=0.0, reward=0.782608695652174, nb_visited=1),\n",
       "  State(number=[6, 32], description=[42, 54, 14, 45, 59, 58], v_value=-0.0717391304347826, reward=0.6811594202898551, nb_visited=1),\n",
       "  State(number=[6, 33], description=[20, 45, 12, 26, 46, 53], v_value=0.014347826086956585, reward=0.7971014492753623, nb_visited=1),\n",
       "  State(number=[6, 34], description=[20, 40, 47, 26, 13, 18], v_value=0.0, reward=0.8260869565217391, nb_visited=1),\n",
       "  State(number=[6, 35], description=[20, 12, 26, 44, 54, 24], v_value=-0.014347826086956585, reward=0.8115942028985508, nb_visited=1),\n",
       "  State(number=[6, 36], description=[20, 12, 26, 16, 23, 47], v_value=-0.05739130434782601, reward=0.8405797101449275, nb_visited=1),\n",
       "  State(number=[6, 37], description=[20, 12, 26, 47, 40, 16], v_value=-0.014347826086956585, reward=0.8115942028985508, nb_visited=1),\n",
       "  State(number=[6, 38], description=[20, 12, 26, 47, 19, 40], v_value=0.014347826086956476, reward=0.8260869565217391, nb_visited=1),\n",
       "  State(number=[6, 39], description=[59, 57, 17, 44, 38, 14], v_value=0.0, reward=0.7391304347826086, nb_visited=1),\n",
       "  State(number=[6, 40], description=[20, 12, 26, 47, 44, 4], v_value=0.0, reward=0.8115942028985508, nb_visited=1),\n",
       "  State(number=[6, 41], description=[20, 12, 26, 47, 44, 14], v_value=-0.02869565217391306, reward=0.8695652173913043, nb_visited=1),\n",
       "  State(number=[6, 42], description=[20, 12, 26, 47, 45, 7], v_value=-0.028695652173912952, reward=0.8405797101449275, nb_visited=1),\n",
       "  State(number=[6, 43], description=[20, 19, 44, 27, 55, 37], v_value=0.0, reward=0.8405797101449275, nb_visited=1),\n",
       "  State(number=[6, 44], description=[20, 12, 26, 47, 44, 35], v_value=0.02869565217391306, reward=0.855072463768116, nb_visited=1),\n",
       "  State(number=[6, 45], description=[11, 28, 49, 0, 58, 52], v_value=-0.014347826086956585, reward=0.7101449275362319, nb_visited=1),\n",
       "  State(number=[6, 46], description=[20, 12, 56, 26, 0, 37], v_value=-0.02869565217391306, reward=0.8115942028985508, nb_visited=1),\n",
       "  State(number=[6, 47], description=[27, 15, 42, 51, 18, 5], v_value=0.08608695652173919, reward=0.6666666666666666, nb_visited=1),\n",
       "  State(number=[6, 48], description=[20, 12, 26, 33, 40, 10], v_value=-0.04304347826086954, reward=0.7536231884057971, nb_visited=1),\n",
       "  State(number=[6, 49], description=[4, 20, 22, 0, 38, 35], v_value=-0.014347826086956585, reward=0.7536231884057971, nb_visited=1),\n",
       "  State(number=[6, 50], description=[27, 12, 45, 37, 38, 29], v_value=-0.08608695652173919, reward=0.8260869565217391, nb_visited=1),\n",
       "  State(number=[6, 51], description=[20, 12, 26, 47, 44, 46], v_value=-0.014347826086956476, reward=0.8405797101449275, nb_visited=1),\n",
       "  State(number=[6, 52], description=[20, 12, 23, 26, 47, 18], v_value=0.014347826086956476, reward=0.855072463768116, nb_visited=1),\n",
       "  State(number=[6, 53], description=[20, 12, 29, 58, 36, 47], v_value=-0.05739130434782612, reward=0.855072463768116, nb_visited=1),\n",
       "  State(number=[6, 55], description=[20, 12, 56, 18, 23, 43], v_value=0.04304347826086954, reward=0.7536231884057971, nb_visited=1),\n",
       "  State(number=[6, 56], description=[20, 12, 24, 34, 17, 16], v_value=0.02869565217391306, reward=0.6956521739130435, nb_visited=1),\n",
       "  State(number=[6, 57], description=[20, 12, 26, 47, 14, 36], v_value=-0.04304347826086954, reward=0.855072463768116, nb_visited=1),\n",
       "  State(number=[6, 54], description=[20, 12, 26, 47, 18, 36], v_value=0.015349304347826043, reward=0.855072463768116, nb_visited=3),\n",
       "  State(number=[6, 58], description=[20, 12, 26, 35, 18, 33], v_value=-0.04304347826086954, reward=0.8405797101449275, nb_visited=1)],\n",
       " 7: [State(number=[7, 0], description=[29, 34, 55, 25, 11, 12, 38], v_value=-0.05739130434782612, reward=0.7246376811594203, nb_visited=1),\n",
       "  State(number=[7, 1], description=[55, 54, 11, 51, 10, 21, 36], v_value=0.014347826086956476, reward=0.7101449275362319, nb_visited=1),\n",
       "  State(number=[7, 2], description=[3, 7, 20, 47, 31, 40, 23], v_value=0.04304347826086954, reward=0.7246376811594203, nb_visited=1),\n",
       "  State(number=[7, 3], description=[20, 8, 30, 15, 38, 19, 9], v_value=-0.014347826086956585, reward=0.8115942028985508, nb_visited=1),\n",
       "  State(number=[7, 4], description=[9, 13, 50, 59, 18, 35, 28], v_value=-0.014347826086956585, reward=0.8115942028985508, nb_visited=1),\n",
       "  State(number=[7, 5], description=[50, 32, 31, 26, 20, 55, 11], v_value=0.02869565217391306, reward=0.782608695652174, nb_visited=1),\n",
       "  State(number=[7, 6], description=[32, 21, 8, 50, 11, 57, 35], v_value=0.0, reward=0.7391304347826086, nb_visited=1),\n",
       "  State(number=[7, 7], description=[57, 35, 58, 55, 42, 47, 24], v_value=0.0717391304347826, reward=0.6521739130434783, nb_visited=1),\n",
       "  State(number=[7, 8], description=[50, 21, 28, 36, 39, 32, 7], v_value=0.05739130434782612, reward=0.7246376811594203, nb_visited=1),\n",
       "  State(number=[7, 9], description=[21, 0, 1, 2, 17, 20, 36], v_value=-0.028695652173912952, reward=0.7391304347826086, nb_visited=1),\n",
       "  State(number=[7, 10], description=[0, 45, 59, 52, 39, 32, 7], v_value=-0.028695652173912952, reward=0.7391304347826086, nb_visited=1),\n",
       "  State(number=[7, 11], description=[45, 17, 32, 57, 44, 5, 51], v_value=-0.0717391304347826, reward=0.8260869565217391, nb_visited=1),\n",
       "  State(number=[7, 12], description=[17, 47, 53, 8, 11, 4, 31], v_value=0.014347826086956585, reward=0.7681159420289855, nb_visited=1),\n",
       "  State(number=[7, 13], description=[47, 51, 8, 27, 48, 20, 15], v_value=0.014347826086956476, reward=0.8260869565217391, nb_visited=1),\n",
       "  State(number=[7, 14], description=[51, 18, 46, 44, 32, 17, 37], v_value=0.014347826086956476, reward=0.7536231884057971, nb_visited=1),\n",
       "  State(number=[7, 15], description=[37, 20, 13, 23, 53, 39, 35], v_value=0.04304347826086965, reward=0.7391304347826086, nb_visited=1),\n",
       "  State(number=[7, 16], description=[20, 39, 7, 28, 18, 38, 1], v_value=-0.028695652173912952, reward=0.7391304347826086, nb_visited=1),\n",
       "  State(number=[7, 17], description=[34, 20, 45, 5, 55, 51, 13], v_value=-0.04304347826086954, reward=0.7681159420289855, nb_visited=1),\n",
       "  State(number=[7, 18], description=[3, 20, 45, 4, 53, 48, 39], v_value=0.04304347826086954, reward=0.7101449275362319, nb_visited=1),\n",
       "  State(number=[7, 19], description=[20, 45, 12, 9, 46, 36, 16], v_value=0.0, reward=0.8260869565217391, nb_visited=1),\n",
       "  State(number=[7, 20], description=[20, 36, 56, 12, 26, 32, 44], v_value=0.04304347826086965, reward=0.7681159420289855, nb_visited=1),\n",
       "  State(number=[7, 21], description=[56, 32, 22, 7, 52, 35, 11], v_value=0.0717391304347826, reward=0.6666666666666666, nb_visited=1),\n",
       "  State(number=[7, 22], description=[51, 20, 37, 0, 55, 39, 24], v_value=0.0, reward=0.7391304347826086, nb_visited=1),\n",
       "  State(number=[7, 23], description=[2, 4, 57, 19, 28, 27, 30], v_value=0.014347826086956476, reward=0.7246376811594203, nb_visited=1),\n",
       "  State(number=[7, 24], description=[20, 45, 12, 50, 19, 7, 1], v_value=0.02869565217391306, reward=0.7971014492753623, nb_visited=1),\n",
       "  State(number=[7, 25], description=[20, 12, 46, 54, 36, 18, 45], v_value=0.05739130434782612, reward=0.7246376811594203, nb_visited=1),\n",
       "  State(number=[7, 26], description=[20, 45, 12, 39, 15, 35, 44], v_value=0.0, reward=0.855072463768116, nb_visited=1),\n",
       "  State(number=[7, 27], description=[20, 12, 7, 13, 5, 53, 23], v_value=-0.02869565217391306, reward=0.7681159420289855, nb_visited=1),\n",
       "  State(number=[7, 28], description=[20, 12, 36, 27, 58, 37, 56], v_value=-0.04304347826086954, reward=0.7971014492753623, nb_visited=1),\n",
       "  State(number=[7, 29], description=[13, 20, 12, 26, 27, 18, 22], v_value=0.02869565217391306, reward=0.782608695652174, nb_visited=1),\n",
       "  State(number=[7, 30], description=[42, 54, 14, 45, 59, 58, 16], v_value=0.04304347826086954, reward=0.6086956521739131, nb_visited=1),\n",
       "  State(number=[7, 31], description=[20, 45, 12, 26, 46, 53, 39], v_value=0.014347826086956476, reward=0.8115942028985508, nb_visited=1),\n",
       "  State(number=[7, 32], description=[20, 40, 47, 26, 13, 18, 51], v_value=0.0, reward=0.8260869565217391, nb_visited=1),\n",
       "  State(number=[7, 33], description=[20, 12, 26, 44, 54, 24, 15], v_value=-0.014347826086956476, reward=0.7971014492753623, nb_visited=1),\n",
       "  State(number=[7, 34], description=[20, 12, 26, 16, 23, 47, 57], v_value=0.014347826086956476, reward=0.782608695652174, nb_visited=1),\n",
       "  State(number=[7, 35], description=[20, 12, 26, 47, 19, 40, 31], v_value=-0.014347826086956476, reward=0.8405797101449275, nb_visited=1),\n",
       "  State(number=[7, 36], description=[59, 57, 17, 44, 38, 14, 16], v_value=0.0, reward=0.7391304347826086, nb_visited=1),\n",
       "  State(number=[7, 37], description=[20, 12, 26, 47, 44, 4, 59], v_value=0.028695652173912952, reward=0.8115942028985508, nb_visited=1),\n",
       "  State(number=[7, 38], description=[20, 12, 26, 47, 44, 14, 58], v_value=-0.0717391304347826, reward=0.8405797101449275, nb_visited=1),\n",
       "  State(number=[7, 39], description=[20, 19, 44, 27, 55, 37, 0], v_value=-0.028695652173912952, reward=0.8405797101449275, nb_visited=1),\n",
       "  State(number=[7, 40], description=[20, 12, 26, 47, 44, 35, 37], v_value=-0.02869565217391306, reward=0.8840579710144928, nb_visited=1),\n",
       "  State(number=[7, 41], description=[11, 28, 49, 0, 58, 52, 39], v_value=0.04304347826086954, reward=0.6956521739130435, nb_visited=1),\n",
       "  State(number=[7, 42], description=[27, 15, 42, 51, 18, 5, 46], v_value=0.02869565217391306, reward=0.7536231884057971, nb_visited=1),\n",
       "  State(number=[7, 43], description=[4, 20, 22, 0, 38, 35, 57], v_value=0.05739130434782612, reward=0.7391304347826086, nb_visited=1),\n",
       "  State(number=[7, 44], description=[27, 12, 45, 37, 38, 29, 47], v_value=0.02869565217391306, reward=0.7391304347826086, nb_visited=1),\n",
       "  State(number=[7, 45], description=[20, 12, 23, 26, 47, 18, 34], v_value=-0.04304347826086954, reward=0.8695652173913043, nb_visited=1),\n",
       "  State(number=[7, 46], description=[20, 12, 26, 47, 18, 36, 37], v_value=-0.0717391304347826, reward=0.855072463768116, nb_visited=1),\n",
       "  State(number=[7, 47], description=[20, 12, 56, 18, 23, 43, 25], v_value=-0.014347826086956476, reward=0.7971014492753623, nb_visited=1),\n",
       "  State(number=[7, 48], description=[20, 12, 24, 34, 17, 16, 22], v_value=-0.02869565217391306, reward=0.7246376811594203, nb_visited=1),\n",
       "  State(number=[7, 50], description=[20, 12, 26, 47, 14, 36, 46], v_value=-0.02869565217391306, reward=0.8115942028985508, nb_visited=1),\n",
       "  State(number=[7, 49], description=[20, 12, 26, 47, 18, 36, 44], v_value=-0.028982608695652192, reward=0.8985507246376812, nb_visited=2)],\n",
       " 8: [State(number=[8, 0], description=[29, 34, 55, 25, 11, 12, 38, 42], v_value=0.05739130434782612, reward=0.6666666666666666, nb_visited=1),\n",
       "  State(number=[8, 1], description=[55, 54, 11, 51, 10, 21, 36, 42], v_value=0.0, reward=0.7246376811594203, nb_visited=1),\n",
       "  State(number=[8, 2], description=[3, 7, 20, 47, 31, 40, 23, 54], v_value=0.0, reward=0.7681159420289855, nb_visited=1),\n",
       "  State(number=[8, 3], description=[9, 13, 50, 59, 18, 35, 28, 8], v_value=-0.014347826086956476, reward=0.7971014492753623, nb_visited=1),\n",
       "  State(number=[8, 4], description=[50, 32, 31, 26, 20, 55, 11, 9], v_value=-0.014347826086956585, reward=0.8115942028985508, nb_visited=1),\n",
       "  State(number=[8, 5], description=[32, 21, 8, 50, 11, 57, 35, 55], v_value=0.02869565217391306, reward=0.7391304347826086, nb_visited=1),\n",
       "  State(number=[8, 6], description=[57, 35, 58, 55, 42, 47, 24, 15], v_value=-0.10043478260869566, reward=0.7246376811594203, nb_visited=1),\n",
       "  State(number=[8, 7], description=[50, 21, 28, 36, 39, 32, 7, 29], v_value=-0.014347826086956585, reward=0.782608695652174, nb_visited=1),\n",
       "  State(number=[8, 8], description=[21, 0, 1, 2, 17, 20, 36, 5], v_value=0.028695652173912952, reward=0.7101449275362319, nb_visited=1),\n",
       "  State(number=[8, 9], description=[45, 17, 32, 57, 44, 5, 51, 25], v_value=0.0, reward=0.7536231884057971, nb_visited=1),\n",
       "  State(number=[8, 10], description=[17, 47, 53, 8, 11, 4, 31, 23], v_value=0.0, reward=0.782608695652174, nb_visited=1),\n",
       "  State(number=[8, 11], description=[47, 51, 8, 27, 48, 20, 15, 33], v_value=-0.028695652173912952, reward=0.8405797101449275, nb_visited=1),\n",
       "  State(number=[8, 12], description=[51, 18, 46, 44, 32, 17, 37, 4], v_value=-0.04304347826086954, reward=0.7681159420289855, nb_visited=1),\n",
       "  State(number=[8, 13], description=[37, 20, 13, 23, 53, 39, 35, 40], v_value=0.014347826086956476, reward=0.782608695652174, nb_visited=1),\n",
       "  State(number=[8, 14], description=[20, 39, 7, 28, 18, 38, 1, 50], v_value=0.04304347826086954, reward=0.7101449275362319, nb_visited=1),\n",
       "  State(number=[8, 15], description=[3, 20, 45, 4, 53, 48, 39, 16], v_value=-0.014347826086956585, reward=0.7536231884057971, nb_visited=1),\n",
       "  State(number=[8, 16], description=[20, 45, 12, 9, 46, 36, 16, 2], v_value=0.014347826086956476, reward=0.8260869565217391, nb_visited=1),\n",
       "  State(number=[8, 17], description=[20, 36, 56, 12, 26, 32, 44, 54], v_value=-0.014347826086956585, reward=0.8115942028985508, nb_visited=1),\n",
       "  State(number=[8, 18], description=[56, 32, 22, 7, 52, 35, 11, 13], v_value=-0.028695652173912952, reward=0.7391304347826086, nb_visited=1),\n",
       "  State(number=[8, 19], description=[51, 20, 37, 0, 55, 39, 24, 17], v_value=0.08608695652173919, reward=0.7391304347826086, nb_visited=1),\n",
       "  State(number=[8, 20], description=[2, 4, 57, 19, 28, 27, 30, 13], v_value=0.0, reward=0.7391304347826086, nb_visited=1),\n",
       "  State(number=[8, 21], description=[20, 45, 12, 50, 19, 7, 1, 51], v_value=0.0, reward=0.8260869565217391, nb_visited=1),\n",
       "  State(number=[8, 22], description=[20, 12, 46, 54, 36, 18, 45, 39], v_value=-0.014347826086956585, reward=0.782608695652174, nb_visited=1),\n",
       "  State(number=[8, 23], description=[20, 45, 12, 39, 15, 35, 44, 53], v_value=0.014347826086956476, reward=0.855072463768116, nb_visited=1),\n",
       "  State(number=[8, 24], description=[13, 20, 12, 26, 27, 18, 22, 35], v_value=-0.014347826086956585, reward=0.8115942028985508, nb_visited=1),\n",
       "  State(number=[8, 25], description=[42, 54, 14, 45, 59, 58, 16, 34], v_value=0.014347826086956476, reward=0.6521739130434783, nb_visited=1),\n",
       "  State(number=[8, 26], description=[20, 45, 12, 26, 46, 53, 39, 23], v_value=-0.02869565217391306, reward=0.8260869565217391, nb_visited=1),\n",
       "  State(number=[8, 27], description=[20, 40, 47, 26, 13, 18, 51, 44], v_value=-0.02869565217391306, reward=0.8260869565217391, nb_visited=1),\n",
       "  State(number=[8, 28], description=[20, 12, 26, 16, 23, 47, 57, 13], v_value=0.014347826086956585, reward=0.7971014492753623, nb_visited=1),\n",
       "  State(number=[8, 29], description=[59, 57, 17, 44, 38, 14, 16, 1], v_value=-0.05739130434782601, reward=0.7391304347826086, nb_visited=1),\n",
       "  State(number=[8, 30], description=[20, 12, 26, 47, 44, 4, 59, 40], v_value=-0.028695652173912952, reward=0.8405797101449275, nb_visited=1),\n",
       "  State(number=[8, 31], description=[20, 19, 44, 27, 55, 37, 0, 36], v_value=-0.02869565217391306, reward=0.8115942028985508, nb_visited=1),\n",
       "  State(number=[8, 32], description=[20, 12, 26, 47, 44, 35, 37, 1], v_value=-0.04304347826086954, reward=0.855072463768116, nb_visited=1),\n",
       "  State(number=[8, 33], description=[11, 28, 49, 0, 58, 52, 39, 22], v_value=0.0, reward=0.7391304347826086, nb_visited=1),\n",
       "  State(number=[8, 34], description=[27, 15, 42, 51, 18, 5, 46, 10], v_value=-0.04304347826086965, reward=0.782608695652174, nb_visited=1),\n",
       "  State(number=[8, 35], description=[4, 20, 22, 0, 38, 35, 57, 46], v_value=0.0, reward=0.7971014492753623, nb_visited=1),\n",
       "  State(number=[8, 36], description=[27, 12, 45, 37, 38, 29, 47, 4], v_value=-0.05739130434782601, reward=0.7681159420289855, nb_visited=1),\n",
       "  State(number=[8, 37], description=[20, 12, 23, 26, 47, 18, 34, 10], v_value=-0.02869565217391306, reward=0.8260869565217391, nb_visited=1),\n",
       "  State(number=[8, 38], description=[20, 12, 26, 47, 18, 36, 37, 35], v_value=0.04304347826086954, reward=0.782608695652174, nb_visited=1),\n",
       "  State(number=[8, 39], description=[20, 12, 26, 47, 18, 36, 44, 9], v_value=0.014347826086956585, reward=0.8695652173913043, nb_visited=1)],\n",
       " 9: [State(number=[9, 0], description=[29, 34, 55, 25, 11, 12, 38, 42, 3], v_value=0.02869565217391306, reward=0.7246376811594203, nb_visited=1),\n",
       "  State(number=[9, 1], description=[55, 54, 11, 51, 10, 21, 36, 42, 2], v_value=-0.014347826086956476, reward=0.7246376811594203, nb_visited=1),\n",
       "  State(number=[9, 2], description=[3, 7, 20, 47, 31, 40, 23, 54, 2], v_value=-0.02869565217391306, reward=0.7681159420289855, nb_visited=1),\n",
       "  State(number=[9, 3], description=[50, 32, 31, 26, 20, 55, 11, 9, 27], v_value=-0.04304347826086954, reward=0.7971014492753623, nb_visited=1),\n",
       "  State(number=[9, 4], description=[32, 21, 8, 50, 11, 57, 35, 55, 34], v_value=0.02869565217391306, reward=0.7681159420289855, nb_visited=1),\n",
       "  State(number=[9, 5], description=[57, 35, 58, 55, 42, 47, 24, 15, 16], v_value=0.11478260869565213, reward=0.6231884057971014, nb_visited=1),\n",
       "  State(number=[9, 6], description=[21, 0, 1, 2, 17, 20, 36, 5, 51], v_value=0.0, reward=0.7391304347826086, nb_visited=1),\n",
       "  State(number=[9, 7], description=[45, 17, 32, 57, 44, 5, 51, 25, 55], v_value=-0.014347826086956585, reward=0.7536231884057971, nb_visited=1),\n",
       "  State(number=[9, 8], description=[17, 47, 53, 8, 11, 4, 31, 23, 44], v_value=-0.014347826086956585, reward=0.782608695652174, nb_visited=1),\n",
       "  State(number=[9, 9], description=[47, 51, 8, 27, 48, 20, 15, 33, 38], v_value=-0.02869565217391306, reward=0.8115942028985508, nb_visited=1),\n",
       "  State(number=[9, 10], description=[51, 18, 46, 44, 32, 17, 37, 4, 56], v_value=-0.0717391304347826, reward=0.7246376811594203, nb_visited=1),\n",
       "  State(number=[9, 11], description=[37, 20, 13, 23, 53, 39, 35, 40, 18], v_value=0.0, reward=0.7971014492753623, nb_visited=1),\n",
       "  State(number=[9, 12], description=[20, 39, 7, 28, 18, 38, 1, 50, 53], v_value=0.0, reward=0.7536231884057971, nb_visited=1),\n",
       "  State(number=[9, 13], description=[3, 20, 45, 4, 53, 48, 39, 16, 13], v_value=0.02869565217391306, reward=0.7391304347826086, nb_visited=1),\n",
       "  State(number=[9, 14], description=[20, 45, 12, 9, 46, 36, 16, 2, 19], v_value=0.0, reward=0.8405797101449275, nb_visited=1),\n",
       "  State(number=[9, 15], description=[51, 20, 37, 0, 55, 39, 24, 17, 48], v_value=0.0, reward=0.8260869565217391, nb_visited=1),\n",
       "  State(number=[9, 16], description=[2, 4, 57, 19, 28, 27, 30, 13, 10], v_value=0.04304347826086965, reward=0.7391304347826086, nb_visited=1),\n",
       "  State(number=[9, 17], description=[20, 45, 12, 50, 19, 7, 1, 51, 6], v_value=-0.04304347826086954, reward=0.8260869565217391, nb_visited=1),\n",
       "  State(number=[9, 18], description=[20, 45, 12, 39, 15, 35, 44, 53, 21], v_value=0.0, reward=0.8695652173913043, nb_visited=1),\n",
       "  State(number=[9, 19], description=[13, 20, 12, 26, 27, 18, 22, 35, 4], v_value=-0.014347826086956476, reward=0.7971014492753623, nb_visited=1),\n",
       "  State(number=[9, 20], description=[42, 54, 14, 45, 59, 58, 16, 34, 4], v_value=0.0, reward=0.6666666666666666, nb_visited=1),\n",
       "  State(number=[9, 21], description=[20, 40, 47, 26, 13, 18, 51, 44, 28], v_value=0.04304347826086954, reward=0.7971014492753623, nb_visited=1),\n",
       "  State(number=[9, 22], description=[20, 12, 26, 16, 23, 47, 57, 13, 52], v_value=0.028695652173912952, reward=0.8115942028985508, nb_visited=1),\n",
       "  State(number=[9, 23], description=[59, 57, 17, 44, 38, 14, 16, 1, 54], v_value=0.05739130434782601, reward=0.6811594202898551, nb_visited=1),\n",
       "  State(number=[9, 24], description=[11, 28, 49, 0, 58, 52, 39, 22, 19], v_value=0.014347826086956585, reward=0.7391304347826086, nb_visited=1),\n",
       "  State(number=[9, 25], description=[4, 20, 22, 0, 38, 35, 57, 46, 59], v_value=0.0, reward=0.7971014492753623, nb_visited=1),\n",
       "  State(number=[9, 26], description=[20, 12, 26, 47, 18, 36, 37, 35, 4], v_value=0.02869565217391306, reward=0.8260869565217391, nb_visited=1),\n",
       "  State(number=[9, 27], description=[20, 12, 26, 47, 18, 36, 44, 9, 29], v_value=-0.04304347826086965, reward=0.8840579710144928, nb_visited=1)],\n",
       " 10: [State(number=[10, 0], description=[29, 34, 55, 25, 11, 12, 38, 42, 3, 45], v_value=-0.014347826086956585, reward=0.7536231884057971, nb_visited=1),\n",
       "  State(number=[10, 1], description=[55, 54, 11, 51, 10, 21, 36, 42, 2, 40], v_value=0.014347826086956476, reward=0.7101449275362319, nb_visited=1),\n",
       "  State(number=[10, 2], description=[3, 7, 20, 47, 31, 40, 23, 54, 2, 18], v_value=0.02869565217391306, reward=0.7391304347826086, nb_visited=1),\n",
       "  State(number=[10, 3], description=[50, 32, 31, 26, 20, 55, 11, 9, 27, 28], v_value=0.04304347826086954, reward=0.7536231884057971, nb_visited=1),\n",
       "  State(number=[10, 4], description=[32, 21, 8, 50, 11, 57, 35, 55, 34, 1], v_value=-0.02869565217391306, reward=0.7971014492753623, nb_visited=1),\n",
       "  State(number=[10, 5], description=[57, 35, 58, 55, 42, 47, 24, 15, 16, 14], v_value=0.0, reward=0.7391304347826086, nb_visited=1),\n",
       "  State(number=[10, 6], description=[21, 0, 1, 2, 17, 20, 36, 5, 51, 19], v_value=-0.014347826086956476, reward=0.7391304347826086, nb_visited=1),\n",
       "  State(number=[10, 7], description=[45, 17, 32, 57, 44, 5, 51, 25, 55, 58], v_value=-0.014347826086956476, reward=0.7391304347826086, nb_visited=1),\n",
       "  State(number=[10, 8], description=[17, 47, 53, 8, 11, 4, 31, 23, 44, 34], v_value=0.0, reward=0.7681159420289855, nb_visited=1),\n",
       "  State(number=[10, 9], description=[47, 51, 8, 27, 48, 20, 15, 33, 38, 49], v_value=0.02869565217391306, reward=0.782608695652174, nb_visited=1),\n",
       "  State(number=[10, 10], description=[37, 20, 13, 23, 53, 39, 35, 40, 18, 1], v_value=-0.05739130434782612, reward=0.7971014492753623, nb_visited=1),\n",
       "  State(number=[10, 11], description=[20, 39, 7, 28, 18, 38, 1, 50, 53, 15], v_value=-0.014347826086956585, reward=0.7536231884057971, nb_visited=1),\n",
       "  State(number=[10, 12], description=[3, 20, 45, 4, 53, 48, 39, 16, 13, 59], v_value=-0.014347826086956476, reward=0.7681159420289855, nb_visited=1),\n",
       "  State(number=[10, 13], description=[20, 45, 12, 9, 46, 36, 16, 2, 19, 3], v_value=-0.014347826086956476, reward=0.8405797101449275, nb_visited=1),\n",
       "  State(number=[10, 14], description=[51, 20, 37, 0, 55, 39, 24, 17, 48, 6], v_value=0.02869565217391306, reward=0.8260869565217391, nb_visited=1),\n",
       "  State(number=[10, 15], description=[2, 4, 57, 19, 28, 27, 30, 13, 10, 59], v_value=-0.04304347826086965, reward=0.782608695652174, nb_visited=1),\n",
       "  State(number=[10, 16], description=[20, 45, 12, 39, 15, 35, 44, 53, 21, 38], v_value=0.014347826086956585, reward=0.8695652173913043, nb_visited=1),\n",
       "  State(number=[10, 17], description=[42, 54, 14, 45, 59, 58, 16, 34, 4, 49], v_value=0.0, reward=0.6666666666666666, nb_visited=1),\n",
       "  State(number=[10, 18], description=[20, 40, 47, 26, 13, 18, 51, 44, 28, 58], v_value=-0.014347826086956476, reward=0.8405797101449275, nb_visited=1),\n",
       "  State(number=[10, 19], description=[20, 12, 26, 16, 23, 47, 57, 13, 52, 51], v_value=0.014347826086956585, reward=0.8405797101449275, nb_visited=1),\n",
       "  State(number=[10, 20], description=[59, 57, 17, 44, 38, 14, 16, 1, 54, 8], v_value=-0.028695652173912952, reward=0.7391304347826086, nb_visited=1),\n",
       "  State(number=[10, 21], description=[11, 28, 49, 0, 58, 52, 39, 22, 19, 36], v_value=0.014347826086956476, reward=0.7536231884057971, nb_visited=1),\n",
       "  State(number=[10, 22], description=[4, 20, 22, 0, 38, 35, 57, 46, 59, 56], v_value=0.02869565217391306, reward=0.7971014492753623, nb_visited=1),\n",
       "  State(number=[10, 23], description=[20, 12, 26, 47, 18, 36, 37, 35, 4, 39], v_value=-0.02869565217391306, reward=0.855072463768116, nb_visited=1)],\n",
       " 11: [State(number=[11, 0], description=[55, 54, 11, 51, 10, 21, 36, 42, 2, 40, 22], v_value=0.014347826086956476, reward=0.7246376811594203, nb_visited=1),\n",
       "  State(number=[11, 1], description=[3, 7, 20, 47, 31, 40, 23, 54, 2, 18, 44], v_value=0.02869565217391306, reward=0.7681159420289855, nb_visited=1),\n",
       "  State(number=[11, 2], description=[50, 32, 31, 26, 20, 55, 11, 9, 27, 28, 46], v_value=0.0, reward=0.7971014492753623, nb_visited=1),\n",
       "  State(number=[11, 3], description=[32, 21, 8, 50, 11, 57, 35, 55, 34, 1, 16], v_value=0.014347826086956585, reward=0.7681159420289855, nb_visited=1),\n",
       "  State(number=[11, 4], description=[57, 35, 58, 55, 42, 47, 24, 15, 16, 14, 53], v_value=-0.04304347826086954, reward=0.7391304347826086, nb_visited=1),\n",
       "  State(number=[11, 5], description=[17, 47, 53, 8, 11, 4, 31, 23, 44, 34, 49], v_value=0.02869565217391306, reward=0.7681159420289855, nb_visited=1),\n",
       "  State(number=[11, 6], description=[47, 51, 8, 27, 48, 20, 15, 33, 38, 49, 31], v_value=-0.04304347826086965, reward=0.8115942028985508, nb_visited=1),\n",
       "  State(number=[11, 7], description=[51, 20, 37, 0, 55, 39, 24, 17, 48, 6, 25], v_value=-0.04304347826086954, reward=0.855072463768116, nb_visited=1),\n",
       "  State(number=[11, 8], description=[20, 45, 12, 39, 15, 35, 44, 53, 21, 38, 37], v_value=0.0, reward=0.8840579710144928, nb_visited=1),\n",
       "  State(number=[11, 9], description=[42, 54, 14, 45, 59, 58, 16, 34, 4, 49, 10], v_value=0.02869565217391306, reward=0.6666666666666666, nb_visited=1),\n",
       "  State(number=[11, 10], description=[20, 12, 26, 16, 23, 47, 57, 13, 52, 51, 59], v_value=-0.0717391304347826, reward=0.855072463768116, nb_visited=1),\n",
       "  State(number=[11, 11], description=[59, 57, 17, 44, 38, 14, 16, 1, 54, 8, 34], v_value=0.04304347826086954, reward=0.7101449275362319, nb_visited=1),\n",
       "  State(number=[11, 12], description=[11, 28, 49, 0, 58, 52, 39, 22, 19, 36, 21], v_value=-0.04304347826086954, reward=0.7681159420289855, nb_visited=1),\n",
       "  State(number=[11, 13], description=[4, 20, 22, 0, 38, 35, 57, 46, 59, 56, 2], v_value=-0.02869565217391306, reward=0.8260869565217391, nb_visited=1)],\n",
       " 12: [State(number=[12, 0], description=[55, 54, 11, 51, 10, 21, 36, 42, 2, 40, 22, 7], v_value=-0.014347826086956476, reward=0.7391304347826086, nb_visited=1),\n",
       "  State(number=[12, 1], description=[3, 7, 20, 47, 31, 40, 23, 54, 2, 18, 44, 36], v_value=-0.014347826086956476, reward=0.7971014492753623, nb_visited=1),\n",
       "  State(number=[12, 2], description=[50, 32, 31, 26, 20, 55, 11, 9, 27, 28, 46, 54], v_value=0.014347826086956585, reward=0.7971014492753623, nb_visited=1),\n",
       "  State(number=[12, 3], description=[32, 21, 8, 50, 11, 57, 35, 55, 34, 1, 16, 43], v_value=0.014347826086956476, reward=0.782608695652174, nb_visited=1),\n",
       "  State(number=[12, 4], description=[17, 47, 53, 8, 11, 4, 31, 23, 44, 34, 49, 26], v_value=-0.014347826086956476, reward=0.7971014492753623, nb_visited=1),\n",
       "  State(number=[12, 5], description=[51, 20, 37, 0, 55, 39, 24, 17, 48, 6, 25, 56], v_value=-0.02869565217391306, reward=0.8115942028985508, nb_visited=1),\n",
       "  State(number=[12, 6], description=[20, 45, 12, 39, 15, 35, 44, 53, 21, 38, 37, 47], v_value=-0.04304347826086965, reward=0.8840579710144928, nb_visited=1),\n",
       "  State(number=[12, 7], description=[42, 54, 14, 45, 59, 58, 16, 34, 4, 49, 10, 47], v_value=0.04304347826086954, reward=0.6956521739130435, nb_visited=1),\n",
       "  State(number=[12, 8], description=[59, 57, 17, 44, 38, 14, 16, 1, 54, 8, 34, 47], v_value=0.0, reward=0.7536231884057971, nb_visited=1)],\n",
       " 13: [State(number=[13, 0], description=[50, 32, 31, 26, 20, 55, 11, 9, 27, 28, 46, 54, 6], v_value=0.028695652173912952, reward=0.8115942028985508, nb_visited=1),\n",
       "  State(number=[13, 1], description=[32, 21, 8, 50, 11, 57, 35, 55, 34, 1, 16, 43, 42], v_value=-0.04304347826086954, reward=0.7971014492753623, nb_visited=1),\n",
       "  State(number=[13, 2], description=[42, 54, 14, 45, 59, 58, 16, 34, 4, 49, 10, 47, 20], v_value=0.014347826086956585, reward=0.7391304347826086, nb_visited=1),\n",
       "  State(number=[13, 3], description=[59, 57, 17, 44, 38, 14, 16, 1, 54, 8, 34, 47, 25], v_value=-0.02869565217391306, reward=0.7536231884057971, nb_visited=1)],\n",
       " 14: [State(number=[14, 0], description=[50, 32, 31, 26, 20, 55, 11, 9, 27, 28, 46, 54, 6, 22], v_value=0.0, reward=0.8405797101449275, nb_visited=1),\n",
       "  State(number=[14, 1], description=[42, 54, 14, 45, 59, 58, 16, 34, 4, 49, 10, 47, 20, 46], v_value=0.014347826086956476, reward=0.7536231884057971, nb_visited=1)],\n",
       " 15: [State(number=[15, 0], description=[50, 32, 31, 26, 20, 55, 11, 9, 27, 28, 46, 54, 6, 22, 15], v_value=-0.014347826086956476, reward=0.8405797101449275, nb_visited=1),\n",
       "  State(number=[15, 1], description=[42, 54, 14, 45, 59, 58, 16, 34, 4, 49, 10, 47, 20, 46, 1], v_value=-0.02869565217391306, reward=0.7681159420289855, nb_visited=1)]}"
      ]
     },
     "execution_count": 10,
     "metadata": {},
     "output_type": "execute_result"
    }
   ],
   "source": [
    "test.feature_structure"
   ]
  },
  {
   "cell_type": "code",
   "execution_count": 8,
   "metadata": {},
   "outputs": [
    {
     "name": "stdout",
     "output_type": "stream",
     "text": [
      "---------- Data Processing ----------\n",
      "---------- Score ----------\n",
      "Set of variables : Benchmark : [0, 2, 3, 4, 5, 6, 7, 8, 9, 10, 11, 12, 13, 14, 15, 16, 17, 18, 19, 20, 21, 22, 23, 24, 25, 26, 27, 28, 29, 30, 31, 32, 33, 34, 35, 36, 37, 38, 39, 40, 41, 42, 43, 44, 45, 46, 47, 48, 49, 50, 51, 52, 53, 54, 55, 56, 57, 58, 59] and RL : [55 42 14  6 54  2 34 24 13 43 40 39 58 41 36 56  1 37 49 52 11  3 47 15\n",
      " 31 57  0 30 48 26  8  5 12 53 35 33 28 18 10 59  7 16 21 45 38 23 32  4\n",
      " 27 50 17 29 22 20 19 51 44  9 46]\n",
      "Benchmark accuracy : 0.7971014492753623, RL accuracy : 0.782608695652174 with 59 variables [0]\n",
      "Set of variables : Benchmark : [0, 1, 2, 3, 4, 5, 6, 7, 8, 9, 10, 11, 12, 13, 14, 15, 16, 17, 18, 19, 20, 21, 22, 23, 24, 25, 26, 27, 28, 29, 30, 31, 32, 33, 34, 35, 36, 37, 38, 39, 40, 41, 42, 43, 44, 45, 46, 47, 48, 49, 50, 51, 53, 54, 55, 56, 57, 59] and RL : [42 14  6 54  2 34 24 13 43 40 39 58 41 36 56  1 37 49 52 11  3 47 15 31\n",
      " 57  0 30 48 26  8  5 12 53 35 33 28 18 10 59  7 16 21 45 38 23 32  4 27\n",
      " 50 17 29 22 20 19 51 44  9 46]\n",
      "Benchmark accuracy : 0.8695652173913043, RL accuracy : 0.7536231884057971 with 58 variables [0, 0]\n",
      "Set of variables : Benchmark : [0, 2, 3, 4, 5, 6, 7, 8, 9, 10, 11, 12, 13, 14, 15, 16, 17, 18, 19, 20, 21, 22, 23, 24, 25, 26, 27, 28, 29, 30, 31, 32, 33, 34, 35, 36, 38, 39, 40, 41, 42, 43, 44, 45, 46, 47, 48, 49, 50, 51, 52, 54, 55, 56, 57, 58, 59] and RL : [14  6 54  2 34 24 13 43 40 39 58 41 36 56  1 37 49 52 11  3 47 15 31 57\n",
      "  0 30 48 26  8  5 12 53 35 33 28 18 10 59  7 16 21 45 38 23 32  4 27 50\n",
      " 17 29 22 20 19 51 44  9 46]\n",
      "Benchmark accuracy : 0.8260869565217391, RL accuracy : 0.7971014492753623 with 57 variables [0, 0, 0]\n",
      "Set of variables : Benchmark : [1, 2, 3, 4, 5, 6, 7, 8, 9, 10, 11, 12, 13, 14, 15, 16, 17, 18, 19, 20, 21, 22, 23, 24, 25, 26, 27, 28, 29, 30, 31, 33, 34, 35, 36, 37, 38, 39, 40, 41, 42, 43, 44, 45, 46, 47, 48, 49, 50, 51, 52, 53, 54, 57, 58, 59] and RL : [ 6 54  2 34 24 13 43 40 39 58 41 36 56  1 37 49 52 11  3 47 15 31 57  0\n",
      " 30 48 26  8  5 12 53 35 33 28 18 10 59  7 16 21 45 38 23 32  4 27 50 17\n",
      " 29 22 20 19 51 44  9 46]\n",
      "Benchmark accuracy : 0.8260869565217391, RL accuracy : 0.7971014492753623 with 56 variables [0, 0, 0, 0]\n",
      "Set of variables : Benchmark : [0, 1, 2, 3, 4, 5, 6, 7, 8, 9, 10, 11, 12, 13, 14, 15, 16, 17, 19, 20, 21, 22, 24, 25, 26, 27, 28, 30, 31, 33, 34, 35, 36, 37, 39, 40, 41, 42, 43, 44, 45, 46, 47, 48, 49, 50, 51, 52, 53, 54, 55, 56, 57, 58, 59] and RL : [54  2 34 24 13 43 40 39 58 41 36 56  1 37 49 52 11  3 47 15 31 57  0 30\n",
      " 48 26  8  5 12 53 35 33 28 18 10 59  7 16 21 45 38 23 32  4 27 50 17 29\n",
      " 22 20 19 51 44  9 46]\n",
      "Benchmark accuracy : 0.8405797101449275, RL accuracy : 0.8115942028985508 with 55 variables [0, 0, 0, 0, 0]\n",
      "Set of variables : Benchmark : [0, 1, 2, 3, 4, 5, 7, 8, 9, 10, 11, 12, 13, 14, 15, 16, 17, 18, 19, 20, 21, 22, 23, 24, 25, 26, 27, 28, 29, 30, 31, 33, 34, 35, 36, 38, 39, 40, 42, 43, 44, 45, 46, 47, 48, 49, 50, 51, 52, 54, 56, 57, 58, 59] and RL : [ 2 34 24 13 43 40 39 58 41 36 56  1 37 49 52 11  3 47 15 31 57  0 30 48\n",
      " 26  8  5 12 53 35 33 28 18 10 59  7 16 21 45 38 23 32  4 27 50 17 29 22\n",
      " 20 19 51 44  9 46]\n",
      "Benchmark accuracy : 0.7536231884057971, RL accuracy : 0.8115942028985508 with 54 variables [0, 0, 0, 0, 0, 1]\n",
      "Set of variables : Benchmark : [0, 1, 2, 3, 4, 5, 6, 7, 8, 9, 10, 11, 12, 13, 14, 15, 16, 17, 18, 19, 20, 21, 22, 23, 25, 26, 27, 28, 29, 30, 31, 32, 33, 34, 35, 36, 38, 39, 41, 42, 43, 44, 45, 46, 47, 48, 49, 50, 51, 53, 54, 58, 59] and RL : [34 24 13 43 40 39 58 41 36 56  1 37 49 52 11  3 47 15 31 57  0 30 48 26\n",
      "  8  5 12 53 35 33 28 18 10 59  7 16 21 45 38 23 32  4 27 50 17 29 22 20\n",
      " 19 51 44  9 46]\n",
      "Benchmark accuracy : 0.8115942028985508, RL accuracy : 0.8115942028985508 with 53 variables [0, 0, 0, 0, 0, 1, 1]\n",
      "Set of variables : Benchmark : [0, 1, 2, 3, 4, 5, 6, 7, 8, 9, 10, 11, 12, 13, 14, 16, 17, 19, 20, 21, 22, 24, 25, 26, 27, 29, 30, 31, 32, 34, 35, 36, 37, 39, 40, 41, 42, 43, 44, 45, 46, 47, 48, 49, 50, 51, 52, 53, 54, 56, 58, 59] and RL : [24 13 43 40 39 58 41 36 56  1 37 49 52 11  3 47 15 31 57  0 30 48 26  8\n",
      "  5 12 53 35 33 28 18 10 59  7 16 21 45 38 23 32  4 27 50 17 29 22 20 19\n",
      " 51 44  9 46]\n",
      "Benchmark accuracy : 0.8405797101449275, RL accuracy : 0.8260869565217391 with 52 variables [0, 0, 0, 0, 0, 1, 1, 0]\n",
      "Set of variables : Benchmark : [1, 3, 4, 5, 6, 7, 8, 9, 10, 11, 13, 14, 15, 16, 17, 18, 19, 20, 21, 22, 24, 25, 26, 27, 28, 29, 30, 32, 34, 35, 36, 37, 38, 40, 41, 42, 44, 45, 46, 47, 48, 49, 50, 51, 52, 53, 54, 56, 57, 58, 59] and RL : [13 43 40 39 58 41 36 56  1 37 49 52 11  3 47 15 31 57  0 30 48 26  8  5\n",
      " 12 53 35 33 28 18 10 59  7 16 21 45 38 23 32  4 27 50 17 29 22 20 19 51\n",
      " 44  9 46]\n",
      "Benchmark accuracy : 0.855072463768116, RL accuracy : 0.8260869565217391 with 51 variables [0, 0, 0, 0, 0, 1, 1, 0, 0]\n",
      "Set of variables : Benchmark : [0, 1, 2, 3, 4, 5, 6, 7, 8, 9, 10, 11, 12, 14, 15, 16, 17, 19, 20, 21, 22, 25, 26, 27, 28, 30, 31, 33, 34, 35, 36, 37, 38, 39, 40, 41, 42, 43, 44, 45, 46, 47, 48, 50, 51, 53, 54, 55, 58, 59] and RL : [43 40 39 58 41 36 56  1 37 49 52 11  3 47 15 31 57  0 30 48 26  8  5 12\n",
      " 53 35 33 28 18 10 59  7 16 21 45 38 23 32  4 27 50 17 29 22 20 19 51 44\n",
      "  9 46]\n",
      "Benchmark accuracy : 0.8260869565217391, RL accuracy : 0.782608695652174 with 50 variables [0, 0, 0, 0, 0, 1, 1, 0, 0, 0]\n",
      "Set of variables : Benchmark : [0, 2, 3, 4, 5, 7, 8, 9, 10, 11, 12, 14, 15, 16, 17, 19, 20, 21, 22, 25, 26, 27, 30, 31, 33, 34, 35, 36, 37, 38, 39, 40, 41, 42, 43, 44, 45, 46, 47, 48, 49, 50, 51, 53, 54, 56, 57, 58, 59] and RL : [40 39 58 41 36 56  1 37 49 52 11  3 47 15 31 57  0 30 48 26  8  5 12 53\n",
      " 35 33 28 18 10 59  7 16 21 45 38 23 32  4 27 50 17 29 22 20 19 51 44  9\n",
      " 46]\n",
      "Benchmark accuracy : 0.8115942028985508, RL accuracy : 0.8840579710144928 with 49 variables [0, 0, 0, 0, 0, 1, 1, 0, 0, 0, 1]\n",
      "Set of variables : Benchmark : [0, 1, 2, 3, 4, 5, 6, 7, 8, 9, 10, 11, 12, 13, 14, 15, 16, 17, 19, 20, 21, 22, 23, 25, 26, 27, 30, 31, 34, 35, 36, 37, 39, 40, 41, 42, 43, 44, 45, 46, 47, 48, 50, 51, 53, 54, 58, 59] and RL : [39 58 41 36 56  1 37 49 52 11  3 47 15 31 57  0 30 48 26  8  5 12 53 35\n",
      " 33 28 18 10 59  7 16 21 45 38 23 32  4 27 50 17 29 22 20 19 51 44  9 46]\n",
      "Benchmark accuracy : 0.8260869565217391, RL accuracy : 0.8115942028985508 with 48 variables [0, 0, 0, 0, 0, 1, 1, 0, 0, 0, 1, 0]\n",
      "Set of variables : Benchmark : [0, 1, 2, 3, 4, 7, 8, 9, 10, 11, 12, 13, 14, 15, 16, 17, 18, 19, 20, 21, 22, 25, 26, 27, 28, 29, 30, 31, 34, 35, 36, 37, 38, 39, 42, 43, 44, 45, 46, 47, 48, 49, 50, 51, 53, 56, 58] and RL : [58 41 36 56  1 37 49 52 11  3 47 15 31 57  0 30 48 26  8  5 12 53 35 33\n",
      " 28 18 10 59  7 16 21 45 38 23 32  4 27 50 17 29 22 20 19 51 44  9 46]\n",
      "Benchmark accuracy : 0.8115942028985508, RL accuracy : 0.7971014492753623 with 47 variables [0, 0, 0, 0, 0, 1, 1, 0, 0, 0, 1, 0, 0]\n",
      "Set of variables : Benchmark : [0, 1, 2, 3, 4, 5, 6, 8, 9, 10, 11, 12, 13, 14, 15, 16, 17, 18, 19, 20, 21, 22, 23, 25, 26, 27, 30, 31, 34, 35, 36, 37, 39, 41, 42, 43, 44, 45, 46, 47, 48, 49, 50, 51, 56, 58] and RL : [41 36 56  1 37 49 52 11  3 47 15 31 57  0 30 48 26  8  5 12 53 35 33 28\n",
      " 18 10 59  7 16 21 45 38 23 32  4 27 50 17 29 22 20 19 51 44  9 46]\n",
      "Benchmark accuracy : 0.855072463768116, RL accuracy : 0.8115942028985508 with 46 variables [0, 0, 0, 0, 0, 1, 1, 0, 0, 0, 1, 0, 0, 0]\n",
      "Set of variables : Benchmark : [0, 2, 3, 4, 5, 6, 7, 8, 9, 10, 11, 12, 13, 14, 15, 16, 17, 19, 20, 21, 22, 25, 26, 27, 28, 30, 33, 34, 35, 36, 37, 39, 40, 42, 43, 44, 45, 46, 47, 48, 49, 50, 51, 53, 58] and RL : [36 56  1 37 49 52 11  3 47 15 31 57  0 30 48 26  8  5 12 53 35 33 28 18\n",
      " 10 59  7 16 21 45 38 23 32  4 27 50 17 29 22 20 19 51 44  9 46]\n",
      "Benchmark accuracy : 0.7681159420289855, RL accuracy : 0.7971014492753623 with 45 variables [0, 0, 0, 0, 0, 1, 1, 0, 0, 0, 1, 0, 0, 0, 1]\n",
      "Set of variables : Benchmark : [2, 3, 4, 5, 6, 7, 8, 9, 10, 11, 12, 13, 14, 15, 16, 17, 19, 20, 22, 24, 25, 26, 27, 29, 30, 31, 34, 35, 36, 38, 39, 40, 42, 43, 44, 45, 46, 47, 48, 49, 50, 51, 53, 58] and RL : [56  1 37 49 52 11  3 47 15 31 57  0 30 48 26  8  5 12 53 35 33 28 18 10\n",
      " 59  7 16 21 45 38 23 32  4 27 50 17 29 22 20 19 51 44  9 46]\n",
      "Benchmark accuracy : 0.7971014492753623, RL accuracy : 0.8260869565217391 with 44 variables [0, 0, 0, 0, 0, 1, 1, 0, 0, 0, 1, 0, 0, 0, 1, 1]\n",
      "Set of variables : Benchmark : [0, 1, 2, 3, 4, 5, 7, 8, 9, 10, 11, 12, 14, 15, 16, 17, 18, 19, 20, 21, 24, 25, 26, 27, 30, 34, 35, 36, 38, 39, 40, 41, 42, 43, 44, 45, 46, 47, 48, 50, 51, 54, 58] and RL : [ 1 37 49 52 11  3 47 15 31 57  0 30 48 26  8  5 12 53 35 33 28 18 10 59\n",
      "  7 16 21 45 38 23 32  4 27 50 17 29 22 20 19 51 44  9 46]\n",
      "Benchmark accuracy : 0.7536231884057971, RL accuracy : 0.782608695652174 with 43 variables [0, 0, 0, 0, 0, 1, 1, 0, 0, 0, 1, 0, 0, 0, 1, 1, 1]\n",
      "Set of variables : Benchmark : [0, 2, 3, 4, 7, 8, 9, 10, 11, 12, 14, 15, 16, 17, 19, 20, 21, 23, 25, 26, 27, 28, 30, 31, 32, 34, 35, 36, 38, 39, 42, 43, 44, 45, 46, 47, 48, 49, 50, 51, 54, 58] and RL : [37 49 52 11  3 47 15 31 57  0 30 48 26  8  5 12 53 35 33 28 18 10 59  7\n",
      " 16 21 45 38 23 32  4 27 50 17 29 22 20 19 51 44  9 46]\n",
      "Benchmark accuracy : 0.7971014492753623, RL accuracy : 0.782608695652174 with 42 variables [0, 0, 0, 0, 0, 1, 1, 0, 0, 0, 1, 0, 0, 0, 1, 1, 1, 0]\n",
      "Set of variables : Benchmark : [0, 2, 3, 4, 5, 7, 8, 9, 10, 11, 12, 13, 14, 15, 16, 17, 19, 20, 22, 25, 26, 27, 28, 30, 31, 35, 36, 42, 43, 44, 45, 46, 47, 48, 49, 50, 51, 53, 54, 57, 58] and RL : [49 52 11  3 47 15 31 57  0 30 48 26  8  5 12 53 35 33 28 18 10 59  7 16\n",
      " 21 45 38 23 32  4 27 50 17 29 22 20 19 51 44  9 46]\n",
      "Benchmark accuracy : 0.7971014492753623, RL accuracy : 0.8260869565217391 with 41 variables [0, 0, 0, 0, 0, 1, 1, 0, 0, 0, 1, 0, 0, 0, 1, 1, 1, 0, 1]\n",
      "Set of variables : Benchmark : [0, 2, 3, 4, 5, 6, 7, 8, 9, 10, 11, 12, 13, 14, 15, 16, 17, 18, 19, 20, 22, 26, 27, 30, 34, 35, 36, 38, 41, 42, 43, 44, 45, 46, 47, 48, 50, 51, 54, 58] and RL : [52 11  3 47 15 31 57  0 30 48 26  8  5 12 53 35 33 28 18 10 59  7 16 21\n",
      " 45 38 23 32  4 27 50 17 29 22 20 19 51 44  9 46]\n",
      "Benchmark accuracy : 0.8115942028985508, RL accuracy : 0.8115942028985508 with 40 variables [0, 0, 0, 0, 0, 1, 1, 0, 0, 0, 1, 0, 0, 0, 1, 1, 1, 0, 1, 1]\n",
      "Set of variables : Benchmark : [0, 3, 4, 7, 8, 9, 10, 11, 12, 13, 14, 15, 16, 17, 18, 19, 20, 21, 25, 26, 27, 28, 30, 31, 34, 35, 36, 38, 42, 43, 44, 45, 46, 47, 48, 50, 51, 53, 54] and RL : [11  3 47 15 31 57  0 30 48 26  8  5 12 53 35 33 28 18 10 59  7 16 21 45\n",
      " 38 23 32  4 27 50 17 29 22 20 19 51 44  9 46]\n",
      "Benchmark accuracy : 0.855072463768116, RL accuracy : 0.7971014492753623 with 39 variables [0, 0, 0, 0, 0, 1, 1, 0, 0, 0, 1, 0, 0, 0, 1, 1, 1, 0, 1, 1, 0]\n",
      "Set of variables : Benchmark : [0, 2, 3, 4, 5, 7, 8, 9, 10, 11, 12, 14, 15, 16, 17, 19, 20, 21, 25, 26, 27, 30, 31, 34, 35, 36, 39, 42, 43, 44, 45, 46, 47, 48, 49, 50, 51, 53] and RL : [ 3 47 15 31 57  0 30 48 26  8  5 12 53 35 33 28 18 10 59  7 16 21 45 38\n",
      " 23 32  4 27 50 17 29 22 20 19 51 44  9 46]\n",
      "Benchmark accuracy : 0.8260869565217391, RL accuracy : 0.8405797101449275 with 38 variables [0, 0, 0, 0, 0, 1, 1, 0, 0, 0, 1, 0, 0, 0, 1, 1, 1, 0, 1, 1, 0, 1]\n",
      "Set of variables : Benchmark : [3, 4, 5, 6, 7, 8, 9, 10, 11, 12, 14, 15, 16, 17, 18, 20, 25, 26, 27, 30, 34, 35, 36, 39, 42, 43, 44, 45, 46, 47, 48, 50, 51, 53, 54, 57, 58] and RL : [47 15 31 57  0 30 48 26  8  5 12 53 35 33 28 18 10 59  7 16 21 45 38 23\n",
      " 32  4 27 50 17 29 22 20 19 51 44  9 46]\n",
      "Benchmark accuracy : 0.8115942028985508, RL accuracy : 0.8695652173913043 with 37 variables [0, 0, 0, 0, 0, 1, 1, 0, 0, 0, 1, 0, 0, 0, 1, 1, 1, 0, 1, 1, 0, 1, 1]\n",
      "Set of variables : Benchmark : [0, 2, 3, 4, 5, 6, 7, 8, 9, 10, 11, 12, 14, 15, 16, 19, 25, 26, 27, 28, 30, 34, 35, 36, 38, 42, 43, 44, 45, 46, 47, 48, 50, 51, 53, 58] and RL : [15 31 57  0 30 48 26  8  5 12 53 35 33 28 18 10 59  7 16 21 45 38 23 32\n",
      "  4 27 50 17 29 22 20 19 51 44  9 46]\n",
      "Benchmark accuracy : 0.7391304347826086, RL accuracy : 0.855072463768116 with 36 variables [0, 0, 0, 0, 0, 1, 1, 0, 0, 0, 1, 0, 0, 0, 1, 1, 1, 0, 1, 1, 0, 1, 1, 1]\n",
      "Set of variables : Benchmark : [0, 3, 5, 7, 8, 9, 10, 11, 12, 14, 15, 16, 17, 19, 20, 21, 22, 25, 26, 27, 30, 34, 35, 36, 42, 43, 44, 46, 47, 48, 50, 51, 53, 54, 58] and RL : [31 57  0 30 48 26  8  5 12 53 35 33 28 18 10 59  7 16 21 45 38 23 32  4\n",
      " 27 50 17 29 22 20 19 51 44  9 46]\n",
      "Benchmark accuracy : 0.8260869565217391, RL accuracy : 0.8405797101449275 with 35 variables [0, 0, 0, 0, 0, 1, 1, 0, 0, 0, 1, 0, 0, 0, 1, 1, 1, 0, 1, 1, 0, 1, 1, 1, 1]\n",
      "Set of variables : Benchmark : [2, 3, 5, 6, 7, 8, 9, 10, 11, 12, 14, 15, 16, 17, 19, 25, 26, 27, 30, 34, 35, 36, 42, 43, 44, 45, 46, 47, 48, 50, 51, 53, 54, 58] and RL : [57  0 30 48 26  8  5 12 53 35 33 28 18 10 59  7 16 21 45 38 23 32  4 27\n",
      " 50 17 29 22 20 19 51 44  9 46]\n",
      "Benchmark accuracy : 0.8115942028985508, RL accuracy : 0.8695652173913043 with 34 variables [0, 0, 0, 0, 0, 1, 1, 0, 0, 0, 1, 0, 0, 0, 1, 1, 1, 0, 1, 1, 0, 1, 1, 1, 1, 1]\n",
      "Set of variables : Benchmark : [3, 4, 5, 7, 8, 9, 10, 11, 12, 14, 15, 16, 19, 20, 25, 26, 27, 30, 34, 35, 36, 38, 42, 43, 44, 45, 46, 47, 48, 50, 51, 53, 58] and RL : [ 0 30 48 26  8  5 12 53 35 33 28 18 10 59  7 16 21 45 38 23 32  4 27 50\n",
      " 17 29 22 20 19 51 44  9 46]\n",
      "Benchmark accuracy : 0.8115942028985508, RL accuracy : 0.8405797101449275 with 33 variables [0, 0, 0, 0, 0, 1, 1, 0, 0, 0, 1, 0, 0, 0, 1, 1, 1, 0, 1, 1, 0, 1, 1, 1, 1, 1, 1]\n",
      "Set of variables : Benchmark : [3, 4, 7, 8, 9, 10, 11, 12, 14, 15, 16, 17, 19, 20, 25, 26, 27, 30, 34, 35, 36, 39, 42, 44, 45, 46, 47, 48, 50, 51, 54, 58] and RL : [30 48 26  8  5 12 53 35 33 28 18 10 59  7 16 21 45 38 23 32  4 27 50 17\n",
      " 29 22 20 19 51 44  9 46]\n",
      "Benchmark accuracy : 0.7971014492753623, RL accuracy : 0.8405797101449275 with 32 variables [0, 0, 0, 0, 0, 1, 1, 0, 0, 0, 1, 0, 0, 0, 1, 1, 1, 0, 1, 1, 0, 1, 1, 1, 1, 1, 1, 1]\n",
      "Set of variables : Benchmark : [0, 2, 3, 4, 5, 8, 9, 10, 11, 12, 14, 15, 16, 20, 26, 27, 30, 34, 35, 36, 42, 44, 45, 46, 47, 48, 50, 51, 53, 54, 58] and RL : [48 26  8  5 12 53 35 33 28 18 10 59  7 16 21 45 38 23 32  4 27 50 17 29\n",
      " 22 20 19 51 44  9 46]\n",
      "Benchmark accuracy : 0.855072463768116, RL accuracy : 0.8260869565217391 with 31 variables [0, 0, 0, 0, 0, 1, 1, 0, 0, 0, 1, 0, 0, 0, 1, 1, 1, 0, 1, 1, 0, 1, 1, 1, 1, 1, 1, 1, 0]\n",
      "Set of variables : Benchmark : [3, 7, 8, 9, 10, 11, 12, 14, 15, 16, 17, 19, 20, 21, 25, 27, 34, 35, 36, 39, 42, 43, 44, 45, 46, 47, 48, 50, 51, 53] and RL : [26  8  5 12 53 35 33 28 18 10 59  7 16 21 45 38 23 32  4 27 50 17 29 22\n",
      " 20 19 51 44  9 46]\n",
      "Benchmark accuracy : 0.7391304347826086, RL accuracy : 0.8405797101449275 with 30 variables [0, 0, 0, 0, 0, 1, 1, 0, 0, 0, 1, 0, 0, 0, 1, 1, 1, 0, 1, 1, 0, 1, 1, 1, 1, 1, 1, 1, 0, 1]\n",
      "Set of variables : Benchmark : [3, 5, 7, 8, 9, 10, 11, 14, 15, 16, 17, 19, 25, 26, 27, 30, 34, 35, 36, 42, 43, 44, 45, 46, 47, 48, 50, 51, 53] and RL : [ 8  5 12 53 35 33 28 18 10 59  7 16 21 45 38 23 32  4 27 50 17 29 22 20\n",
      " 19 51 44  9 46]\n",
      "Benchmark accuracy : 0.782608695652174, RL accuracy : 0.7971014492753623 with 29 variables [0, 0, 0, 0, 0, 1, 1, 0, 0, 0, 1, 0, 0, 0, 1, 1, 1, 0, 1, 1, 0, 1, 1, 1, 1, 1, 1, 1, 0, 1, 1]\n",
      "Set of variables : Benchmark : [3, 4, 5, 8, 9, 10, 11, 14, 15, 16, 17, 19, 20, 24, 27, 30, 34, 35, 36, 42, 44, 45, 46, 47, 48, 50, 51, 58] and RL : [ 5 12 53 35 33 28 18 10 59  7 16 21 45 38 23 32  4 27 50 17 29 22 20 19\n",
      " 51 44  9 46]\n",
      "Benchmark accuracy : 0.8115942028985508, RL accuracy : 0.8405797101449275 with 28 variables [0, 0, 0, 0, 0, 1, 1, 0, 0, 0, 1, 0, 0, 0, 1, 1, 1, 0, 1, 1, 0, 1, 1, 1, 1, 1, 1, 1, 0, 1, 1, 1]\n",
      "Set of variables : Benchmark : [3, 4, 5, 8, 9, 10, 11, 14, 15, 16, 17, 19, 20, 26, 27, 35, 36, 42, 43, 44, 45, 46, 47, 48, 50, 51, 58] and RL : [12 53 35 33 28 18 10 59  7 16 21 45 38 23 32  4 27 50 17 29 22 20 19 51\n",
      " 44  9 46]\n",
      "Benchmark accuracy : 0.7971014492753623, RL accuracy : 0.8405797101449275 with 27 variables [0, 0, 0, 0, 0, 1, 1, 0, 0, 0, 1, 0, 0, 0, 1, 1, 1, 0, 1, 1, 0, 1, 1, 1, 1, 1, 1, 1, 0, 1, 1, 1, 1]\n",
      "Set of variables : Benchmark : [3, 4, 8, 9, 10, 11, 14, 15, 16, 17, 19, 20, 25, 26, 27, 34, 35, 36, 42, 44, 45, 46, 47, 48, 50, 51] and RL : [53 35 33 28 18 10 59  7 16 21 45 38 23 32  4 27 50 17 29 22 20 19 51 44\n",
      "  9 46]\n",
      "Benchmark accuracy : 0.7681159420289855, RL accuracy : 0.855072463768116 with 26 variables [0, 0, 0, 0, 0, 1, 1, 0, 0, 0, 1, 0, 0, 0, 1, 1, 1, 0, 1, 1, 0, 1, 1, 1, 1, 1, 1, 1, 0, 1, 1, 1, 1, 1]\n",
      "Set of variables : Benchmark : [3, 4, 8, 9, 10, 11, 14, 15, 16, 19, 27, 30, 34, 35, 36, 42, 43, 44, 45, 46, 47, 48, 50, 51, 53] and RL : [35 33 28 18 10 59  7 16 21 45 38 23 32  4 27 50 17 29 22 20 19 51 44  9\n",
      " 46]\n",
      "Benchmark accuracy : 0.7681159420289855, RL accuracy : 0.8115942028985508 with 25 variables [0, 0, 0, 0, 0, 1, 1, 0, 0, 0, 1, 0, 0, 0, 1, 1, 1, 0, 1, 1, 0, 1, 1, 1, 1, 1, 1, 1, 0, 1, 1, 1, 1, 1, 1]\n",
      "Set of variables : Benchmark : [3, 8, 9, 10, 11, 14, 15, 16, 17, 19, 25, 26, 27, 30, 34, 35, 36, 42, 44, 46, 47, 48, 50, 51] and RL : [33 28 18 10 59  7 16 21 45 38 23 32  4 27 50 17 29 22 20 19 51 44  9 46]\n",
      "Benchmark accuracy : 0.7971014492753623, RL accuracy : 0.855072463768116 with 24 variables [0, 0, 0, 0, 0, 1, 1, 0, 0, 0, 1, 0, 0, 0, 1, 1, 1, 0, 1, 1, 0, 1, 1, 1, 1, 1, 1, 1, 0, 1, 1, 1, 1, 1, 1, 1]\n",
      "Set of variables : Benchmark : [3, 4, 8, 9, 10, 11, 15, 16, 17, 25, 26, 27, 30, 34, 35, 36, 42, 44, 46, 47, 48, 50, 51] and RL : [28 18 10 59  7 16 21 45 38 23 32  4 27 50 17 29 22 20 19 51 44  9 46]\n",
      "Benchmark accuracy : 0.7681159420289855, RL accuracy : 0.8840579710144928 with 23 variables [0, 0, 0, 0, 0, 1, 1, 0, 0, 0, 1, 0, 0, 0, 1, 1, 1, 0, 1, 1, 0, 1, 1, 1, 1, 1, 1, 1, 0, 1, 1, 1, 1, 1, 1, 1, 1]\n",
      "Set of variables : Benchmark : [3, 4, 8, 9, 10, 11, 15, 16, 17, 27, 30, 34, 35, 36, 42, 44, 45, 46, 47, 48, 50, 51] and RL : [18 10 59  7 16 21 45 38 23 32  4 27 50 17 29 22 20 19 51 44  9 46]\n",
      "Benchmark accuracy : 0.7681159420289855, RL accuracy : 0.855072463768116 with 22 variables [0, 0, 0, 0, 0, 1, 1, 0, 0, 0, 1, 0, 0, 0, 1, 1, 1, 0, 1, 1, 0, 1, 1, 1, 1, 1, 1, 1, 0, 1, 1, 1, 1, 1, 1, 1, 1, 1]\n",
      "Set of variables : Benchmark : [3, 5, 8, 9, 10, 11, 15, 16, 19, 27, 30, 34, 35, 36, 42, 44, 45, 47, 48, 50, 51] and RL : [10 59  7 16 21 45 38 23 32  4 27 50 17 29 22 20 19 51 44  9 46]\n",
      "Benchmark accuracy : 0.7681159420289855, RL accuracy : 0.8405797101449275 with 21 variables [0, 0, 0, 0, 0, 1, 1, 0, 0, 0, 1, 0, 0, 0, 1, 1, 1, 0, 1, 1, 0, 1, 1, 1, 1, 1, 1, 1, 0, 1, 1, 1, 1, 1, 1, 1, 1, 1, 1]\n",
      "Set of variables : Benchmark : [3, 8, 9, 10, 11, 14, 16, 17, 20, 26, 27, 35, 36, 42, 44, 46, 47, 48, 51, 53] and RL : [59  7 16 21 45 38 23 32  4 27 50 17 29 22 20 19 51 44  9 46]\n",
      "Benchmark accuracy : 0.782608695652174, RL accuracy : 0.8840579710144928 with 20 variables [0, 0, 0, 0, 0, 1, 1, 0, 0, 0, 1, 0, 0, 0, 1, 1, 1, 0, 1, 1, 0, 1, 1, 1, 1, 1, 1, 1, 0, 1, 1, 1, 1, 1, 1, 1, 1, 1, 1, 1]\n",
      "Set of variables : Benchmark : [3, 4, 8, 9, 10, 11, 15, 16, 19, 25, 27, 35, 36, 42, 44, 46, 47, 48, 50] and RL : [ 7 16 21 45 38 23 32  4 27 50 17 29 22 20 19 51 44  9 46]\n",
      "Benchmark accuracy : 0.782608695652174, RL accuracy : 0.9130434782608695 with 19 variables [0, 0, 0, 0, 0, 1, 1, 0, 0, 0, 1, 0, 0, 0, 1, 1, 1, 0, 1, 1, 0, 1, 1, 1, 1, 1, 1, 1, 0, 1, 1, 1, 1, 1, 1, 1, 1, 1, 1, 1, 1]\n",
      "Set of variables : Benchmark : [3, 8, 9, 10, 11, 15, 16, 26, 34, 35, 36, 42, 44, 45, 47, 48, 50, 51] and RL : [16 21 45 38 23 32  4 27 50 17 29 22 20 19 51 44  9 46]\n",
      "Benchmark accuracy : 0.7536231884057971, RL accuracy : 0.8840579710144928 with 18 variables [0, 0, 0, 0, 0, 1, 1, 0, 0, 0, 1, 0, 0, 0, 1, 1, 1, 0, 1, 1, 0, 1, 1, 1, 1, 1, 1, 1, 0, 1, 1, 1, 1, 1, 1, 1, 1, 1, 1, 1, 1, 1]\n",
      "Set of variables : Benchmark : [3, 8, 9, 10, 11, 15, 16, 27, 34, 35, 36, 42, 44, 45, 47, 48, 50] and RL : [21 45 38 23 32  4 27 50 17 29 22 20 19 51 44  9 46]\n",
      "Benchmark accuracy : 0.7246376811594203, RL accuracy : 0.8840579710144928 with 17 variables [0, 0, 0, 0, 0, 1, 1, 0, 0, 0, 1, 0, 0, 0, 1, 1, 1, 0, 1, 1, 0, 1, 1, 1, 1, 1, 1, 1, 0, 1, 1, 1, 1, 1, 1, 1, 1, 1, 1, 1, 1, 1, 1]\n",
      "Set of variables : Benchmark : [3, 8, 9, 10, 11, 15, 16, 20, 27, 35, 36, 42, 44, 47, 48, 50] and RL : [45 38 23 32  4 27 50 17 29 22 20 19 51 44  9 46]\n",
      "Benchmark accuracy : 0.7681159420289855, RL accuracy : 0.8985507246376812 with 16 variables [0, 0, 0, 0, 0, 1, 1, 0, 0, 0, 1, 0, 0, 0, 1, 1, 1, 0, 1, 1, 0, 1, 1, 1, 1, 1, 1, 1, 0, 1, 1, 1, 1, 1, 1, 1, 1, 1, 1, 1, 1, 1, 1, 1]\n",
      "Set of variables : Benchmark : [3, 8, 9, 10, 11, 15, 16, 26, 35, 42, 44, 47, 48, 50, 51] and RL : [38 23 32  4 27 50 17 29 22 20 19 51 44  9 46]\n",
      "Benchmark accuracy : 0.8260869565217391, RL accuracy : 0.8985507246376812 with 15 variables [0, 0, 0, 0, 0, 1, 1, 0, 0, 0, 1, 0, 0, 0, 1, 1, 1, 0, 1, 1, 0, 1, 1, 1, 1, 1, 1, 1, 0, 1, 1, 1, 1, 1, 1, 1, 1, 1, 1, 1, 1, 1, 1, 1, 1]\n",
      "Set of variables : Benchmark : [3, 8, 9, 10, 11, 15, 16, 26, 35, 36, 42, 44, 47, 50] and RL : [23 32  4 27 50 17 29 22 20 19 51 44  9 46]\n",
      "Benchmark accuracy : 0.7971014492753623, RL accuracy : 0.8840579710144928 with 14 variables [0, 0, 0, 0, 0, 1, 1, 0, 0, 0, 1, 0, 0, 0, 1, 1, 1, 0, 1, 1, 0, 1, 1, 1, 1, 1, 1, 1, 0, 1, 1, 1, 1, 1, 1, 1, 1, 1, 1, 1, 1, 1, 1, 1, 1, 1]\n",
      "Set of variables : Benchmark : [3, 8, 9, 10, 11, 15, 16, 26, 35, 36, 42, 47, 48] and RL : [32  4 27 50 17 29 22 20 19 51 44  9 46]\n",
      "Benchmark accuracy : 0.7536231884057971, RL accuracy : 0.8695652173913043 with 13 variables [0, 0, 0, 0, 0, 1, 1, 0, 0, 0, 1, 0, 0, 0, 1, 1, 1, 0, 1, 1, 0, 1, 1, 1, 1, 1, 1, 1, 0, 1, 1, 1, 1, 1, 1, 1, 1, 1, 1, 1, 1, 1, 1, 1, 1, 1, 1]\n",
      "Set of variables : Benchmark : [3, 8, 9, 10, 11, 15, 16, 35, 36, 42, 47, 48] and RL : [ 4 27 50 17 29 22 20 19 51 44  9 46]\n",
      "Benchmark accuracy : 0.782608695652174, RL accuracy : 0.8985507246376812 with 12 variables [0, 0, 0, 0, 0, 1, 1, 0, 0, 0, 1, 0, 0, 0, 1, 1, 1, 0, 1, 1, 0, 1, 1, 1, 1, 1, 1, 1, 0, 1, 1, 1, 1, 1, 1, 1, 1, 1, 1, 1, 1, 1, 1, 1, 1, 1, 1, 1]\n",
      "Set of variables : Benchmark : [3, 8, 9, 10, 11, 16, 35, 36, 42, 44, 48] and RL : [27 50 17 29 22 20 19 51 44  9 46]\n",
      "Benchmark accuracy : 0.7681159420289855, RL accuracy : 0.8840579710144928 with 11 variables [0, 0, 0, 0, 0, 1, 1, 0, 0, 0, 1, 0, 0, 0, 1, 1, 1, 0, 1, 1, 0, 1, 1, 1, 1, 1, 1, 1, 0, 1, 1, 1, 1, 1, 1, 1, 1, 1, 1, 1, 1, 1, 1, 1, 1, 1, 1, 1, 1]\n",
      "Set of variables : Benchmark : [3, 8, 10, 11, 16, 35, 36, 42, 47, 48] and RL : [50 17 29 22 20 19 51 44  9 46]\n",
      "Benchmark accuracy : 0.782608695652174, RL accuracy : 0.8695652173913043 with 10 variables [0, 0, 0, 0, 0, 1, 1, 0, 0, 0, 1, 0, 0, 0, 1, 1, 1, 0, 1, 1, 0, 1, 1, 1, 1, 1, 1, 1, 0, 1, 1, 1, 1, 1, 1, 1, 1, 1, 1, 1, 1, 1, 1, 1, 1, 1, 1, 1, 1, 1]\n",
      "Set of variables : Benchmark : [3, 8, 9, 10, 11, 15, 35, 36, 42] and RL : [17 29 22 20 19 51 44  9 46]\n",
      "Benchmark accuracy : 0.7681159420289855, RL accuracy : 0.855072463768116 with 9 variables [0, 0, 0, 0, 0, 1, 1, 0, 0, 0, 1, 0, 0, 0, 1, 1, 1, 0, 1, 1, 0, 1, 1, 1, 1, 1, 1, 1, 0, 1, 1, 1, 1, 1, 1, 1, 1, 1, 1, 1, 1, 1, 1, 1, 1, 1, 1, 1, 1, 1, 1]\n",
      "Set of variables : Benchmark : [3, 8, 10, 11, 15, 16, 35, 44] and RL : [29 22 20 19 51 44  9 46]\n",
      "Benchmark accuracy : 0.7681159420289855, RL accuracy : 0.8260869565217391 with 8 variables [0, 0, 0, 0, 0, 1, 1, 0, 0, 0, 1, 0, 0, 0, 1, 1, 1, 0, 1, 1, 0, 1, 1, 1, 1, 1, 1, 1, 0, 1, 1, 1, 1, 1, 1, 1, 1, 1, 1, 1, 1, 1, 1, 1, 1, 1, 1, 1, 1, 1, 1, 1]\n",
      "Set of variables : Benchmark : [8, 10, 11, 35, 36, 42, 48] and RL : [22 20 19 51 44  9 46]\n",
      "Benchmark accuracy : 0.7391304347826086, RL accuracy : 0.8405797101449275 with 7 variables [0, 0, 0, 0, 0, 1, 1, 0, 0, 0, 1, 0, 0, 0, 1, 1, 1, 0, 1, 1, 0, 1, 1, 1, 1, 1, 1, 1, 0, 1, 1, 1, 1, 1, 1, 1, 1, 1, 1, 1, 1, 1, 1, 1, 1, 1, 1, 1, 1, 1, 1, 1, 1]\n",
      "Set of variables : Benchmark : [3, 8, 10, 11, 16, 36] and RL : [20 19 51 44  9 46]\n",
      "Benchmark accuracy : 0.7681159420289855, RL accuracy : 0.8260869565217391 with 6 variables [0, 0, 0, 0, 0, 1, 1, 0, 0, 0, 1, 0, 0, 0, 1, 1, 1, 0, 1, 1, 0, 1, 1, 1, 1, 1, 1, 1, 0, 1, 1, 1, 1, 1, 1, 1, 1, 1, 1, 1, 1, 1, 1, 1, 1, 1, 1, 1, 1, 1, 1, 1, 1, 1]\n",
      "Set of variables : Benchmark : [8, 10, 11, 16, 35] and RL : [19 51 44  9 46]\n",
      "Benchmark accuracy : 0.7536231884057971, RL accuracy : 0.8260869565217391 with 5 variables [0, 0, 0, 0, 0, 1, 1, 0, 0, 0, 1, 0, 0, 0, 1, 1, 1, 0, 1, 1, 0, 1, 1, 1, 1, 1, 1, 1, 0, 1, 1, 1, 1, 1, 1, 1, 1, 1, 1, 1, 1, 1, 1, 1, 1, 1, 1, 1, 1, 1, 1, 1, 1, 1, 1]\n",
      "Set of variables : Benchmark : [8, 10, 11, 16] and RL : [51 44  9 46]\n",
      "Benchmark accuracy : 0.7101449275362319, RL accuracy : 0.8405797101449275 with 4 variables [0, 0, 0, 0, 0, 1, 1, 0, 0, 0, 1, 0, 0, 0, 1, 1, 1, 0, 1, 1, 0, 1, 1, 1, 1, 1, 1, 1, 0, 1, 1, 1, 1, 1, 1, 1, 1, 1, 1, 1, 1, 1, 1, 1, 1, 1, 1, 1, 1, 1, 1, 1, 1, 1, 1, 1]\n",
      "Set of variables : Benchmark : [8, 10, 11] and RL : [44  9 46]\n",
      "Benchmark accuracy : 0.7101449275362319, RL accuracy : 0.8405797101449275 with 3 variables [0, 0, 0, 0, 0, 1, 1, 0, 0, 0, 1, 0, 0, 0, 1, 1, 1, 0, 1, 1, 0, 1, 1, 1, 1, 1, 1, 1, 0, 1, 1, 1, 1, 1, 1, 1, 1, 1, 1, 1, 1, 1, 1, 1, 1, 1, 1, 1, 1, 1, 1, 1, 1, 1, 1, 1, 1]\n",
      "Set of variables : Benchmark : [10, 11] and RL : [ 9 46]\n",
      "Benchmark accuracy : 0.6666666666666666, RL accuracy : 0.8260869565217391 with 2 variables [0, 0, 0, 0, 0, 1, 1, 0, 0, 0, 1, 0, 0, 0, 1, 1, 1, 0, 1, 1, 0, 1, 1, 1, 1, 1, 1, 1, 0, 1, 1, 1, 1, 1, 1, 1, 1, 1, 1, 1, 1, 1, 1, 1, 1, 1, 1, 1, 1, 1, 1, 1, 1, 1, 1, 1, 1, 1]\n",
      "Average benchmark accuracy : 0.7893553223388305, rl accuracy : 0.8375812093953026\n",
      "Median benchmark accuracy : 0.7971014492753623, rl accuracy : 0.8405797101449275\n"
     ]
    },
    {
     "data": {
      "image/png": "[encoded data removed]",
      "text/plain": [
       "<Figure size 640x480 with 1 Axes>"
      ]
     },
     "metadata": {},
     "output_type": "display_data"
    },
    {
     "data": {
      "text/plain": [
       "[0,\n",
       " 0,\n",
       " 0,\n",
       " 0,\n",
       " 0,\n",
       " 1,\n",
       " 1,\n",
       " 0,\n",
       " 0,\n",
       " 0,\n",
       " 1,\n",
       " 0,\n",
       " 0,\n",
       " 0,\n",
       " 1,\n",
       " 1,\n",
       " 1,\n",
       " 0,\n",
       " 1,\n",
       " 1,\n",
       " 0,\n",
       " 1,\n",
       " 1,\n",
       " 1,\n",
       " 1,\n",
       " 1,\n",
       " 1,\n",
       " 1,\n",
       " 0,\n",
       " 1,\n",
       " 1,\n",
       " 1,\n",
       " 1,\n",
       " 1,\n",
       " 1,\n",
       " 1,\n",
       " 1,\n",
       " 1,\n",
       " 1,\n",
       " 1,\n",
       " 1,\n",
       " 1,\n",
       " 1,\n",
       " 1,\n",
       " 1,\n",
       " 1,\n",
       " 1,\n",
       " 1,\n",
       " 1,\n",
       " 1,\n",
       " 1,\n",
       " 1,\n",
       " 1,\n",
       " 1,\n",
       " 1,\n",
       " 1,\n",
       " 1,\n",
       " 1]"
      ]
     },
     "execution_count": 8,
     "metadata": {},
     "output_type": "execute_result"
    }
   ],
   "source": [
    "test.compare_with_benchmark(X, y, results[0])"
   ]
  },
  {
   "cell_type": "code",
   "execution_count": 9,
   "metadata": {},
   "outputs": [
    {
     "data": {
      "image/png": "[encoded data removed]",
      "text/plain": [
       "<Figure size 640x480 with 1 Axes>"
      ]
     },
     "metadata": {},
     "output_type": "display_data"
    }
   ],
   "source": [
    "test.get_plot_ratio_exploration()"
   ]
  },
  {
   "cell_type": "code",
   "execution_count": 18,
   "metadata": {},
   "outputs": [
    {
     "data": {
      "text/plain": [
       "([State(number=[7, 29], description=[7, 3, 8, 4, 6, 11, 1], v_value=-0.02171052631578943, reward=0.8947368421052632, nb_visited=1),\n",
       "  0.8947368421052632],\n",
       " [State(number=[1, 8], description=[3], v_value=0.3428778104887635, reward=0.5175438596491229, nb_visited=2),\n",
       "  0.3428778104887635])"
      ]
     },
     "execution_count": 18,
     "metadata": {},
     "output_type": "execute_result"
    }
   ],
   "source": [
    "test.get_best_state()"
   ]
  },
  {
   "cell_type": "code",
   "execution_count": null,
   "metadata": {},
   "outputs": [],
   "source": []
  },
  {
   "cell_type": "code",
   "execution_count": null,
   "metadata": {},
   "outputs": [],
   "source": []
  },
  {
   "cell_type": "code",
   "execution_count": null,
   "metadata": {},
   "outputs": [],
   "source": []
  },
  {
   "cell_type": "code",
   "execution_count": 19,
   "metadata": {},
   "outputs": [],
   "source": [
    "from sklearn.feature_selection import RFE\n",
    "from sklearn.svm import SVR\n",
    "from sklearn.ensemble import RandomForestClassifier\n",
    "from sklearn.model_selection import train_test_split"
   ]
  },
  {
   "cell_type": "code",
   "execution_count": 20,
   "metadata": {},
   "outputs": [],
   "source": [
    "X_train, X_test, y_train, y_test = train_test_split(X, y, test_size=0.33, random_state=42)"
   ]
  },
  {
   "cell_type": "code",
   "execution_count": 21,
   "metadata": {},
   "outputs": [
    {
     "name": "stdout",
     "output_type": "stream",
     "text": [
      "0.8728070175438597\n",
      "0.8640350877192983\n"
     ]
    }
   ],
   "source": [
    "#From RL\n",
    "clf = RandomForestClassifier(max_depth=4)\n",
    "clf.fit(X_train[[7, 3, 8, 4, 6, 11, 1]], y_train)\n",
    "accuracy: float = clf.score(X_test[[7, 3, 8, 4, 6, 11, 1]], y_test)\n",
    "print(accuracy)\n",
    "\n",
    "#Benchmark\n",
    "estimator = RandomForestClassifier(max_depth=4)\n",
    "selector = RFE(estimator, n_features_to_select=7, step=1)\n",
    "selector = selector.fit(X_train, y_train)\n",
    "sele_acc = selector.score(X_test, y_test)\n",
    "print(sele_acc)"
   ]
  },
  {
   "cell_type": "code",
   "execution_count": null,
   "metadata": {},
   "outputs": [],
   "source": []
  },
  {
   "cell_type": "code",
   "execution_count": null,
   "metadata": {},
   "outputs": [],
   "source": []
  }
 ],
 "metadata": {
  "kernelspec": {
   "display_name": "Python 3.10.8 64-bit",
   "language": "python",
   "name": "python3"
  },
  "language_info": {
   "codemirror_mode": {
    "name": "ipython",
    "version": 3
   },
   "file_extension": ".py",
   "mimetype": "text/x-python",
   "name": "python",
   "nbconvert_exporter": "python",
   "pygments_lexer": "ipython3",
   "version": "3.10.8"
  },
  "orig_nbformat": 4,
  "vscode": {
   "interpreter": {
    "hash": "b0fa6594d8f4cbf19f97940f81e996739fb7646882a419484c72d19e05852a7e"
   }
  }
 },
 "nbformat": 4,
 "nbformat_minor": 2
}
