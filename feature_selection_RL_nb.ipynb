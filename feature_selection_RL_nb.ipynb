{
 "cells": [
  {
   "cell_type": "markdown",
   "metadata": {},
   "source": [
    "# Second version"
   ]
  },
  {
   "cell_type": "code",
   "execution_count": 35,
   "metadata": {},
   "outputs": [],
   "source": [
    "import feature_selection_RL_V2\n",
    "import numpy as np\n",
    "import pandas as pd\n",
    "from sklearn.model_selection import train_test_split\n",
    "import matplotlib.pyplot as plt"
   ]
  },
  {
   "cell_type": "code",
   "execution_count": 36,
   "metadata": {},
   "outputs": [],
   "source": [
    "#Data processing\n",
    "\n",
    "datContent = [i.strip().split() for i in open(\"australian_data.dat\").readlines()]\n",
    "import csv\n",
    "# write it as a new CSV file\n",
    "with open(\"australian_data.csv\", \"w\") as f:\n",
    "    writer = csv.writer(f)\n",
    "    writer.writerows(datContent)\n",
    "\n",
    "australian_data = pd.read_csv('australian_data.csv', sep=',', header=None)\n",
    "australian_data.rename(columns={14: 'label'}, inplace=True)\n",
    "X = australian_data.drop('label', axis=1)\n",
    "y = australian_data['label']\n",
    "X_train, X_test, y_train, y_test = train_test_split(X, y, test_size=0.33, random_state=42)\n"
   ]
  },
  {
   "cell_type": "code",
   "execution_count": 37,
   "metadata": {},
   "outputs": [
    {
     "name": "stdout",
     "output_type": "stream",
     "text": [
      "---------- AOR init ----------\n",
      "[array([0., 0., 0., 0., 0., 0., 0., 0., 0., 0., 0., 0., 0., 0.]), array([0., 0., 0., 0., 0., 0., 0., 0., 0., 0., 0., 0., 0., 0.])]\n",
      "---------- Process init ----------\n",
      "FeatureSelectionProcessV2(nb_of_features=14, eps=0.1, alpha=0.1, gamma=0.99, aor=[array([0., 0., 0., 0., 0., 0., 0., 0., 0., 0., 0., 0., 0., 0.]), array([0., 0., 0., 0., 0., 0., 0., 0., 0., 0., 0., 0., 0., 0.])], feature_structure={})\n",
      "---------- The process has been successfully init ----------\n"
     ]
    }
   ],
   "source": [
    "#Simulation\n",
    "feature_number: int = 14\n",
    "\n",
    "print('---------- AOR init ----------')\n",
    "aor: list = [np.zeros(feature_number), np.zeros(feature_number)]\n",
    "print(aor)\n",
    "\n",
    "print('---------- Process init ----------')\n",
    "feature_selection_process = feature_selection_RL_V2.FeatureSelectionProcessV2(feature_number, .1, .1, .99, aor, {})\n",
    "print(feature_selection_process)\n",
    "\n",
    "print('---------- The process has been successfully init ----------')"
   ]
  },
  {
   "cell_type": "code",
   "execution_count": 38,
   "metadata": {},
   "outputs": [],
   "source": [
    "nb_iter: int = 20\n",
    "nb_explored: list = []\n",
    "explored: int = 0"
   ]
  },
  {
   "cell_type": "code",
   "execution_count": 39,
   "metadata": {},
   "outputs": [
    {
     "name": "stdout",
     "output_type": "stream",
     "text": [
      "Current state selection 0 ---------\n",
      "State(number=[0, 0], description=[], v_value=0, reward=0.8728070175438597, nb_visited=0)\n",
      "State(number=[1, 0], description=[13], v_value=0, reward=0.8552631578947368, nb_visited=0)\n",
      "State(number=[2, 0], description=[13, 6], v_value=0, reward=0.8728070175438597, nb_visited=0)\n",
      "State(number=[3, 0], description=[13, 6, 5], v_value=0, reward=0.8596491228070176, nb_visited=0)\n",
      "State(number=[4, 0], description=[13, 6, 5, 3], v_value=0, reward=0.8596491228070176, nb_visited=0)\n",
      "State(number=[5, 0], description=[13, 6, 5, 3, 4], v_value=0, reward=0.868421052631579, nb_visited=0)\n",
      "State(number=[6, 0], description=[13, 6, 5, 3, 4, 10], v_value=0, reward=0.8596491228070176, nb_visited=0)\n",
      "State(number=[7, 0], description=[13, 6, 5, 3, 4, 10, 1], v_value=0, reward=0.8771929824561403, nb_visited=0)\n",
      "State(number=[8, 0], description=[13, 6, 5, 3, 4, 10, 1, 7], v_value=0, reward=0.868421052631579, nb_visited=0)\n",
      "State(number=[9, 0], description=[13, 6, 5, 3, 4, 10, 1, 7, 9], v_value=0, reward=0.8596491228070176, nb_visited=0)\n",
      "State(number=[10, 0], description=[13, 6, 5, 3, 4, 10, 1, 7, 9, 8], v_value=0, reward=0.8728070175438597, nb_visited=0)\n",
      "State(number=[11, 0], description=[13, 6, 5, 3, 4, 10, 1, 7, 9, 8, 0], v_value=0, reward=0.8640350877192983, nb_visited=0)\n",
      "State(number=[12, 0], description=[13, 6, 5, 3, 4, 10, 1, 7, 9, 8, 0, 11], v_value=0, reward=0.8464912280701754, nb_visited=0)\n",
      "State(number=[13, 0], description=[13, 6, 5, 3, 4, 10, 1, 7, 9, 8, 0, 11, 12], v_value=0, reward=0.8508771929824561, nb_visited=0)\n",
      "Current state selection 1 ---------\n",
      "State(number=[0, 0], description=[], v_value=0.08728070175438597, reward=0.8728070175438597, nb_visited=1)\n",
      "State(number=[1, 0], description=[1], v_value=0, reward=0.8508771929824561, nb_visited=0)\n",
      "State(number=[2, 0], description=[1, 12], v_value=0, reward=0.8728070175438597, nb_visited=0)\n",
      "State(number=[3, 0], description=[1, 12, 2], v_value=0, reward=0.868421052631579, nb_visited=0)\n",
      "State(number=[4, 0], description=[1, 12, 2, 11], v_value=0, reward=0.8508771929824561, nb_visited=0)\n",
      "State(number=[5, 0], description=[1, 12, 2, 11, 0], v_value=0, reward=0.8421052631578947, nb_visited=0)\n",
      "State(number=[6, 0], description=[1, 12, 2, 11, 0, 3], v_value=0, reward=0.8728070175438597, nb_visited=0)\n",
      "State(number=[7, 0], description=[1, 12, 2, 11, 0, 3, 4], v_value=0, reward=0.8508771929824561, nb_visited=0)\n",
      "State(number=[8, 0], description=[1, 12, 2, 11, 0, 3, 4, 7], v_value=0, reward=0.8640350877192983, nb_visited=0)\n",
      "State(number=[9, 0], description=[1, 12, 2, 11, 0, 3, 4, 7, 5], v_value=0, reward=0.8596491228070176, nb_visited=0)\n",
      "State(number=[10, 0], description=[1, 12, 2, 11, 0, 3, 4, 7, 5, 10], v_value=0, reward=0.8596491228070176, nb_visited=0)\n",
      "State(number=[11, 0], description=[1, 12, 2, 11, 0, 3, 4, 7, 5, 10, 8], v_value=0, reward=0.8596491228070176, nb_visited=0)\n",
      "State(number=[12, 0], description=[1, 12, 2, 11, 0, 3, 4, 7, 5, 10, 8, 6], v_value=0, reward=0.8596491228070176, nb_visited=0)\n",
      "State(number=[13, 0], description=[1, 12, 2, 11, 0, 3, 4, 7, 5, 10, 8, 6, 13], v_value=0, reward=0.8552631578947368, nb_visited=0)\n",
      "Current state selection 2 ---------\n",
      "State(number=[0, 0], description=[], v_value=0.16583333333333333, reward=0.8728070175438597, nb_visited=2)\n",
      "State(number=[1, 0], description=[2], v_value=0, reward=0.8552631578947368, nb_visited=0)\n",
      "State(number=[2, 0], description=[2, 5], v_value=0, reward=0.8771929824561403, nb_visited=0)\n",
      "State(number=[3, 0], description=[2, 5, 0], v_value=0, reward=0.8728070175438597, nb_visited=0)\n",
      "State(number=[4, 0], description=[2, 5, 0, 4], v_value=0, reward=0.8728070175438597, nb_visited=0)\n",
      "State(number=[5, 0], description=[2, 5, 0, 4, 12], v_value=0, reward=0.8508771929824561, nb_visited=0)\n",
      "State(number=[6, 0], description=[2, 5, 0, 4, 12, 7], v_value=0, reward=0.8596491228070176, nb_visited=0)\n",
      "State(number=[7, 0], description=[2, 5, 0, 4, 12, 7, 6], v_value=0, reward=0.8508771929824561, nb_visited=0)\n",
      "State(number=[8, 0], description=[2, 5, 0, 4, 12, 7, 6, 3], v_value=0, reward=0.8508771929824561, nb_visited=0)\n",
      "State(number=[9, 0], description=[2, 5, 0, 4, 12, 7, 6, 3, 8], v_value=0, reward=0.868421052631579, nb_visited=0)\n",
      "State(number=[10, 0], description=[2, 5, 0, 4, 12, 7, 6, 3, 8, 11], v_value=0, reward=0.8508771929824561, nb_visited=0)\n",
      "State(number=[11, 0], description=[2, 5, 0, 4, 12, 7, 6, 3, 8, 11, 1], v_value=0, reward=0.8596491228070176, nb_visited=0)\n",
      "State(number=[12, 0], description=[2, 5, 0, 4, 12, 7, 6, 3, 8, 11, 1, 13], v_value=0, reward=0.8728070175438597, nb_visited=0)\n",
      "State(number=[13, 0], description=[2, 5, 0, 4, 12, 7, 6, 3, 8, 11, 1, 13, 9], v_value=0, reward=0.868421052631579, nb_visited=0)\n",
      "Current state selection 3 ---------\n",
      "State(number=[0, 0], description=[], v_value=0.23653070175438595, reward=0.8728070175438597, nb_visited=3)\n",
      "State(number=[1, 0], description=[3], v_value=0, reward=0.8728070175438597, nb_visited=0)\n",
      "State(number=[2, 0], description=[3, 4], v_value=0, reward=0.8640350877192983, nb_visited=0)\n",
      "State(number=[3, 0], description=[3, 4, 9], v_value=0, reward=0.8552631578947368, nb_visited=0)\n",
      "State(number=[4, 0], description=[3, 4, 9, 1], v_value=0, reward=0.8640350877192983, nb_visited=0)\n",
      "State(number=[5, 0], description=[3, 4, 9, 1, 11], v_value=0, reward=0.8552631578947368, nb_visited=0)\n",
      "State(number=[6, 0], description=[3, 4, 9, 1, 11, 6], v_value=0, reward=0.868421052631579, nb_visited=0)\n",
      "State(number=[7, 0], description=[3, 4, 9, 1, 11, 6, 10], v_value=0, reward=0.8596491228070176, nb_visited=0)\n",
      "State(number=[8, 0], description=[3, 4, 9, 1, 11, 6, 10, 13], v_value=0, reward=0.8421052631578947, nb_visited=0)\n",
      "State(number=[9, 0], description=[3, 4, 9, 1, 11, 6, 10, 13, 8], v_value=0, reward=0.8508771929824561, nb_visited=0)\n",
      "State(number=[10, 0], description=[3, 4, 9, 1, 11, 6, 10, 13, 8, 0], v_value=0, reward=0.8596491228070176, nb_visited=0)\n",
      "State(number=[11, 0], description=[3, 4, 9, 1, 11, 6, 10, 13, 8, 0, 12], v_value=0, reward=0.8464912280701754, nb_visited=0)\n",
      "State(number=[12, 0], description=[3, 4, 9, 1, 11, 6, 10, 13, 8, 0, 12, 2], v_value=0, reward=0.8464912280701754, nb_visited=0)\n",
      "State(number=[13, 0], description=[3, 4, 9, 1, 11, 6, 10, 13, 8, 0, 12, 2, 5], v_value=0, reward=0.8552631578947368, nb_visited=0)\n",
      "Current state selection 4 ---------\n",
      "State(number=[0, 0], description=[], v_value=0.3001583333333333, reward=0.8728070175438597, nb_visited=4)\n",
      "State(number=[1, 0], description=[4], v_value=0, reward=0.8464912280701754, nb_visited=0)\n",
      "State(number=[2, 0], description=[4, 7], v_value=0, reward=0.8640350877192983, nb_visited=0)\n",
      "State(number=[3, 0], description=[4, 7, 3], v_value=0, reward=0.8640350877192983, nb_visited=0)\n",
      "State(number=[4, 0], description=[4, 7, 3, 2], v_value=0, reward=0.8596491228070176, nb_visited=0)\n",
      "State(number=[5, 0], description=[4, 7, 3, 2, 11], v_value=0, reward=0.8333333333333334, nb_visited=0)\n",
      "State(number=[6, 0], description=[4, 7, 3, 2, 11, 13], v_value=0, reward=0.8552631578947368, nb_visited=0)\n",
      "State(number=[7, 0], description=[4, 7, 3, 2, 11, 13, 1], v_value=0, reward=0.881578947368421, nb_visited=0)\n",
      "State(number=[8, 0], description=[4, 7, 3, 2, 11, 13, 1, 9], v_value=0, reward=0.8640350877192983, nb_visited=0)\n",
      "State(number=[9, 0], description=[4, 7, 3, 2, 11, 13, 1, 9, 8], v_value=0, reward=0.8596491228070176, nb_visited=0)\n",
      "State(number=[10, 0], description=[4, 7, 3, 2, 11, 13, 1, 9, 8, 5], v_value=0, reward=0.8552631578947368, nb_visited=0)\n",
      "State(number=[11, 0], description=[4, 7, 3, 2, 11, 13, 1, 9, 8, 5, 0], v_value=0, reward=0.8640350877192983, nb_visited=0)\n",
      "State(number=[12, 0], description=[4, 7, 3, 2, 11, 13, 1, 9, 8, 5, 0, 10], v_value=0, reward=0.8640350877192983, nb_visited=0)\n",
      "State(number=[13, 0], description=[4, 7, 3, 2, 11, 13, 1, 9, 8, 5, 0, 10, 6], v_value=0, reward=0.8596491228070176, nb_visited=0)\n",
      "Current state selection 5 ---------\n",
      "State(number=[0, 0], description=[], v_value=0.35742320175438597, reward=0.8728070175438597, nb_visited=5)\n",
      "State(number=[1, 0], description=[5], v_value=0, reward=0.8464912280701754, nb_visited=0)\n",
      "State(number=[2, 0], description=[5, 0], v_value=0, reward=0.8421052631578947, nb_visited=0)\n",
      "State(number=[3, 0], description=[5, 0, 7], v_value=0, reward=0.868421052631579, nb_visited=0)\n",
      "State(number=[4, 0], description=[5, 0, 7, 1], v_value=0, reward=0.868421052631579, nb_visited=0)\n",
      "State(number=[5, 0], description=[5, 0, 7, 1, 6], v_value=0, reward=0.8508771929824561, nb_visited=0)\n",
      "State(number=[6, 0], description=[5, 0, 7, 1, 6, 11], v_value=0, reward=0.8464912280701754, nb_visited=0)\n",
      "State(number=[7, 0], description=[5, 0, 7, 1, 6, 11, 4], v_value=0, reward=0.868421052631579, nb_visited=0)\n",
      "State(number=[8, 0], description=[5, 0, 7, 1, 6, 11, 4, 8], v_value=0, reward=0.8596491228070176, nb_visited=0)\n",
      "State(number=[9, 0], description=[5, 0, 7, 1, 6, 11, 4, 8, 12], v_value=0, reward=0.8640350877192983, nb_visited=0)\n",
      "State(number=[10, 0], description=[5, 0, 7, 1, 6, 11, 4, 8, 12, 3], v_value=0, reward=0.8640350877192983, nb_visited=0)\n",
      "State(number=[11, 0], description=[5, 0, 7, 1, 6, 11, 4, 8, 12, 3, 10], v_value=0, reward=0.8640350877192983, nb_visited=0)\n",
      "State(number=[12, 0], description=[5, 0, 7, 1, 6, 11, 4, 8, 12, 3, 10, 9], v_value=0, reward=0.8596491228070176, nb_visited=0)\n",
      "State(number=[13, 0], description=[5, 0, 7, 1, 6, 11, 4, 8, 12, 3, 10, 9, 2], v_value=0, reward=0.8640350877192983, nb_visited=0)\n",
      "Current state selection 6 ---------\n",
      "State(number=[0, 0], description=[], v_value=0.4089615833333333, reward=0.8728070175438597, nb_visited=6)\n",
      "State(number=[1, 0], description=[6], v_value=0, reward=0.8640350877192983, nb_visited=0)\n",
      "State(number=[2, 0], description=[6, 7], v_value=0, reward=0.868421052631579, nb_visited=0)\n",
      "State(number=[3, 0], description=[6, 7, 12], v_value=0, reward=0.8552631578947368, nb_visited=0)\n",
      "State(number=[4, 0], description=[6, 7, 12, 5], v_value=0, reward=0.8596491228070176, nb_visited=0)\n",
      "State(number=[5, 0], description=[6, 7, 12, 5, 3], v_value=0, reward=0.8552631578947368, nb_visited=0)\n",
      "State(number=[6, 0], description=[6, 7, 12, 5, 3, 13], v_value=0, reward=0.8640350877192983, nb_visited=0)\n",
      "State(number=[7, 0], description=[6, 7, 12, 5, 3, 13, 4], v_value=0, reward=0.8552631578947368, nb_visited=0)\n",
      "State(number=[8, 0], description=[6, 7, 12, 5, 3, 13, 4, 0], v_value=0, reward=0.8596491228070176, nb_visited=0)\n",
      "State(number=[9, 0], description=[6, 7, 12, 5, 3, 13, 4, 0, 10], v_value=0, reward=0.8728070175438597, nb_visited=0)\n",
      "State(number=[10, 0], description=[6, 7, 12, 5, 3, 13, 4, 0, 10, 11], v_value=0, reward=0.8464912280701754, nb_visited=0)\n",
      "State(number=[11, 0], description=[6, 7, 12, 5, 3, 13, 4, 0, 10, 11, 9], v_value=0, reward=0.8552631578947368, nb_visited=0)\n",
      "State(number=[12, 0], description=[6, 7, 12, 5, 3, 13, 4, 0, 10, 11, 9, 1], v_value=0, reward=0.8508771929824561, nb_visited=0)\n",
      "State(number=[13, 0], description=[6, 7, 12, 5, 3, 13, 4, 0, 10, 11, 9, 1, 2], v_value=0, reward=0.8596491228070176, nb_visited=0)\n",
      "Current state selection 7 ---------\n",
      "State(number=[0, 0], description=[], v_value=0.45534612675438596, reward=0.8728070175438597, nb_visited=7)\n",
      "State(number=[1, 0], description=[7], v_value=0, reward=0.8728070175438597, nb_visited=0)\n",
      "State(number=[2, 0], description=[7, 2], v_value=0, reward=0.8640350877192983, nb_visited=0)\n",
      "State(number=[3, 0], description=[7, 2, 3], v_value=0, reward=0.8640350877192983, nb_visited=0)\n",
      "State(number=[4, 0], description=[7, 2, 3, 6], v_value=0, reward=0.8640350877192983, nb_visited=0)\n",
      "State(number=[5, 0], description=[7, 2, 3, 6, 12], v_value=0, reward=0.868421052631579, nb_visited=0)\n",
      "State(number=[6, 0], description=[7, 2, 3, 6, 12, 9], v_value=0, reward=0.8640350877192983, nb_visited=0)\n",
      "State(number=[7, 0], description=[7, 2, 3, 6, 12, 9, 10], v_value=0, reward=0.868421052631579, nb_visited=0)\n",
      "State(number=[8, 0], description=[7, 2, 3, 6, 12, 9, 10, 4], v_value=0, reward=0.8640350877192983, nb_visited=0)\n",
      "State(number=[9, 0], description=[7, 2, 3, 6, 12, 9, 10, 4, 13], v_value=0, reward=0.8596491228070176, nb_visited=0)\n",
      "State(number=[10, 0], description=[7, 2, 3, 6, 12, 9, 10, 4, 13, 5], v_value=0, reward=0.8640350877192983, nb_visited=0)\n",
      "State(number=[11, 0], description=[7, 2, 3, 6, 12, 9, 10, 4, 13, 5, 11], v_value=0, reward=0.8596491228070176, nb_visited=0)\n",
      "State(number=[12, 0], description=[7, 2, 3, 6, 12, 9, 10, 4, 13, 5, 11, 0], v_value=0, reward=0.8508771929824561, nb_visited=0)\n",
      "State(number=[13, 0], description=[7, 2, 3, 6, 12, 9, 10, 4, 13, 5, 11, 0, 1], v_value=0, reward=0.8508771929824561, nb_visited=0)\n",
      "Current state selection 8 ---------\n",
      "State(number=[0, 0], description=[], v_value=0.49709221583333335, reward=0.8728070175438597, nb_visited=8)\n",
      "State(number=[1, 0], description=[8], v_value=0, reward=0.8552631578947368, nb_visited=0)\n",
      "State(number=[2, 0], description=[8, 5], v_value=0, reward=0.8508771929824561, nb_visited=0)\n",
      "State(number=[3, 0], description=[8, 5, 10], v_value=0, reward=0.8552631578947368, nb_visited=0)\n",
      "State(number=[4, 0], description=[8, 5, 10, 4], v_value=0, reward=0.8728070175438597, nb_visited=0)\n",
      "State(number=[5, 0], description=[8, 5, 10, 4, 13], v_value=0, reward=0.8640350877192983, nb_visited=0)\n",
      "State(number=[6, 0], description=[8, 5, 10, 4, 13, 9], v_value=0, reward=0.8640350877192983, nb_visited=0)\n",
      "State(number=[7, 0], description=[8, 5, 10, 4, 13, 9, 0], v_value=0, reward=0.868421052631579, nb_visited=0)\n",
      "State(number=[8, 0], description=[8, 5, 10, 4, 13, 9, 0, 2], v_value=0, reward=0.8508771929824561, nb_visited=0)\n",
      "State(number=[9, 0], description=[8, 5, 10, 4, 13, 9, 0, 2, 6], v_value=0, reward=0.8640350877192983, nb_visited=0)\n",
      "State(number=[10, 0], description=[8, 5, 10, 4, 13, 9, 0, 2, 6, 1], v_value=0, reward=0.8464912280701754, nb_visited=0)\n",
      "State(number=[11, 0], description=[8, 5, 10, 4, 13, 9, 0, 2, 6, 1, 3], v_value=0, reward=0.8640350877192983, nb_visited=0)\n",
      "State(number=[12, 0], description=[8, 5, 10, 4, 13, 9, 0, 2, 6, 1, 3, 11], v_value=0, reward=0.868421052631579, nb_visited=0)\n",
      "State(number=[13, 0], description=[8, 5, 10, 4, 13, 9, 0, 2, 6, 1, 3, 11, 12], v_value=0, reward=0.8640350877192983, nb_visited=0)\n",
      "Current state selection 9 ---------\n",
      "State(number=[0, 0], description=[], v_value=0.534663696004386, reward=0.8728070175438597, nb_visited=9)\n",
      "State(number=[1, 0], description=[9], v_value=0, reward=0.868421052631579, nb_visited=0)\n",
      "State(number=[2, 0], description=[9, 4], v_value=0, reward=0.8552631578947368, nb_visited=0)\n",
      "State(number=[3, 0], description=[9, 4, 8], v_value=0, reward=0.8508771929824561, nb_visited=0)\n",
      "State(number=[4, 0], description=[9, 4, 8, 0], v_value=0, reward=0.8552631578947368, nb_visited=0)\n",
      "State(number=[5, 0], description=[9, 4, 8, 0, 7], v_value=0, reward=0.868421052631579, nb_visited=0)\n",
      "State(number=[6, 0], description=[9, 4, 8, 0, 7, 12], v_value=0, reward=0.8596491228070176, nb_visited=0)\n",
      "State(number=[7, 0], description=[9, 4, 8, 0, 7, 12, 10], v_value=0, reward=0.8596491228070176, nb_visited=0)\n",
      "State(number=[8, 0], description=[9, 4, 8, 0, 7, 12, 10, 13], v_value=0, reward=0.8552631578947368, nb_visited=0)\n",
      "State(number=[9, 0], description=[9, 4, 8, 0, 7, 12, 10, 13, 5], v_value=0, reward=0.8596491228070176, nb_visited=0)\n",
      "State(number=[10, 0], description=[9, 4, 8, 0, 7, 12, 10, 13, 5, 1], v_value=0, reward=0.8552631578947368, nb_visited=0)\n",
      "State(number=[11, 0], description=[9, 4, 8, 0, 7, 12, 10, 13, 5, 1, 11], v_value=0, reward=0.8596491228070176, nb_visited=0)\n",
      "State(number=[12, 0], description=[9, 4, 8, 0, 7, 12, 10, 13, 5, 1, 11, 6], v_value=0, reward=0.8596491228070176, nb_visited=0)\n",
      "State(number=[13, 0], description=[9, 4, 8, 0, 7, 12, 10, 13, 5, 1, 11, 6, 3], v_value=0, reward=0.8508771929824561, nb_visited=0)\n",
      "Current state selection 10 ---------\n",
      "State(number=[0, 0], description=[], v_value=0.5684780281583334, reward=0.8728070175438597, nb_visited=10)\n",
      "State(number=[1, 0], description=[10], v_value=0, reward=0.868421052631579, nb_visited=0)\n",
      "State(number=[2, 0], description=[10, 7], v_value=0, reward=0.8508771929824561, nb_visited=0)\n",
      "State(number=[3, 0], description=[10, 7, 4], v_value=0, reward=0.8552631578947368, nb_visited=0)\n",
      "State(number=[4, 0], description=[10, 7, 4, 2], v_value=0, reward=0.8552631578947368, nb_visited=0)\n",
      "State(number=[5, 0], description=[10, 7, 4, 2, 9], v_value=0, reward=0.8552631578947368, nb_visited=0)\n",
      "State(number=[6, 0], description=[10, 7, 4, 2, 9, 1], v_value=0, reward=0.8640350877192983, nb_visited=0)\n",
      "State(number=[7, 0], description=[10, 7, 4, 2, 9, 1, 12], v_value=0, reward=0.8728070175438597, nb_visited=0)\n",
      "State(number=[8, 0], description=[10, 7, 4, 2, 9, 1, 12, 13], v_value=0, reward=0.8596491228070176, nb_visited=0)\n",
      "State(number=[9, 0], description=[10, 7, 4, 2, 9, 1, 12, 13, 3], v_value=0, reward=0.868421052631579, nb_visited=0)\n",
      "State(number=[10, 0], description=[10, 7, 4, 2, 9, 1, 12, 13, 3, 8], v_value=0, reward=0.8596491228070176, nb_visited=0)\n",
      "State(number=[11, 0], description=[10, 7, 4, 2, 9, 1, 12, 13, 3, 8, 5], v_value=0, reward=0.8552631578947368, nb_visited=0)\n",
      "State(number=[12, 0], description=[10, 7, 4, 2, 9, 1, 12, 13, 3, 8, 5, 11], v_value=0, reward=0.8596491228070176, nb_visited=0)\n",
      "State(number=[13, 0], description=[10, 7, 4, 2, 9, 1, 12, 13, 3, 8, 5, 11, 6], v_value=0, reward=0.8552631578947368, nb_visited=0)\n",
      "Current state selection 11 ---------\n",
      "State(number=[0, 0], description=[], v_value=0.598910927096886, reward=0.8728070175438597, nb_visited=11)\n",
      "State(number=[1, 0], description=[3], v_value=0, reward=0.8771929824561403, nb_visited=0)\n",
      "State(number=[2, 0], description=[3, 4], v_value=0, reward=0.8596491228070176, nb_visited=0)\n",
      "State(number=[3, 0], description=[3, 4, 0], v_value=0, reward=0.8728070175438597, nb_visited=0)\n",
      "State(number=[4, 0], description=[3, 4, 0, 5], v_value=0, reward=0.8640350877192983, nb_visited=0)\n",
      "State(number=[5, 0], description=[3, 4, 0, 5, 10], v_value=0, reward=0.8596491228070176, nb_visited=0)\n",
      "State(number=[6, 0], description=[3, 4, 0, 5, 10, 13], v_value=0, reward=0.8640350877192983, nb_visited=0)\n",
      "State(number=[7, 0], description=[3, 4, 0, 5, 10, 13, 8], v_value=0, reward=0.8508771929824561, nb_visited=0)\n",
      "State(number=[8, 0], description=[3, 4, 0, 5, 10, 13, 8, 11], v_value=0, reward=0.8552631578947368, nb_visited=0)\n",
      "State(number=[9, 0], description=[3, 4, 0, 5, 10, 13, 8, 11, 7], v_value=0, reward=0.868421052631579, nb_visited=0)\n",
      "State(number=[10, 0], description=[3, 4, 0, 5, 10, 13, 8, 11, 7, 9], v_value=0, reward=0.8508771929824561, nb_visited=0)\n",
      "State(number=[11, 0], description=[3, 4, 0, 5, 10, 13, 8, 11, 7, 9, 12], v_value=0, reward=0.8508771929824561, nb_visited=0)\n",
      "State(number=[12, 0], description=[3, 4, 0, 5, 10, 13, 8, 11, 7, 9, 12, 1], v_value=0, reward=0.8377192982456141, nb_visited=0)\n",
      "State(number=[13, 0], description=[3, 4, 0, 5, 10, 13, 8, 11, 7, 9, 12, 1, 2], v_value=0, reward=0.8596491228070176, nb_visited=0)\n",
      "Current state selection 12 ---------\n",
      "State(number=[0, 0], description=[], v_value=0.6263005361415833, reward=0.8728070175438597, nb_visited=11)\n",
      "State(number=[1, 0], description=[13], v_value=0, reward=0.8640350877192983, nb_visited=0)\n",
      "State(number=[2, 0], description=[13, 0], v_value=0, reward=0.8728070175438597, nb_visited=0)\n",
      "State(number=[3, 0], description=[13, 0, 3], v_value=0, reward=0.8771929824561403, nb_visited=0)\n",
      "State(number=[4, 0], description=[13, 0, 3, 2], v_value=0, reward=0.8508771929824561, nb_visited=0)\n",
      "State(number=[5, 0], description=[13, 0, 3, 2, 6], v_value=0, reward=0.868421052631579, nb_visited=0)\n",
      "State(number=[6, 0], description=[13, 0, 3, 2, 6, 5], v_value=0, reward=0.868421052631579, nb_visited=0)\n",
      "State(number=[7, 0], description=[13, 0, 3, 2, 6, 5, 12], v_value=0, reward=0.8596491228070176, nb_visited=0)\n",
      "State(number=[8, 0], description=[13, 0, 3, 2, 6, 5, 12, 10], v_value=0, reward=0.881578947368421, nb_visited=0)\n",
      "State(number=[9, 0], description=[13, 0, 3, 2, 6, 5, 12, 10, 7], v_value=0, reward=0.8552631578947368, nb_visited=0)\n",
      "State(number=[10, 0], description=[13, 0, 3, 2, 6, 5, 12, 10, 7, 4], v_value=0, reward=0.8728070175438597, nb_visited=0)\n",
      "State(number=[11, 0], description=[13, 0, 3, 2, 6, 5, 12, 10, 7, 4, 1], v_value=0, reward=0.8771929824561403, nb_visited=0)\n",
      "State(number=[12, 0], description=[13, 0, 3, 2, 6, 5, 12, 10, 7, 4, 1, 9], v_value=0, reward=0.8596491228070176, nb_visited=0)\n",
      "State(number=[13, 0], description=[13, 0, 3, 2, 6, 5, 12, 10, 7, 4, 1, 9, 11], v_value=0, reward=0.8596491228070176, nb_visited=0)\n",
      "Current state selection 13 ---------\n",
      "State(number=[0, 0], description=[], v_value=0.650951184281811, reward=0.8728070175438597, nb_visited=11)\n",
      "State(number=[1, 0], description=[2], v_value=0, reward=0.8596491228070176, nb_visited=0)\n",
      "State(number=[2, 0], description=[2, 4], v_value=0, reward=0.8596491228070176, nb_visited=0)\n",
      "State(number=[3, 0], description=[2, 4, 9], v_value=0, reward=0.8728070175438597, nb_visited=0)\n",
      "State(number=[4, 0], description=[2, 4, 9, 0], v_value=0, reward=0.868421052631579, nb_visited=0)\n",
      "State(number=[5, 0], description=[2, 4, 9, 0, 1], v_value=0, reward=0.8464912280701754, nb_visited=0)\n",
      "State(number=[6, 0], description=[2, 4, 9, 0, 1, 11], v_value=0, reward=0.8596491228070176, nb_visited=0)\n",
      "State(number=[7, 0], description=[2, 4, 9, 0, 1, 11, 10], v_value=0, reward=0.8728070175438597, nb_visited=0)\n",
      "State(number=[8, 0], description=[2, 4, 9, 0, 1, 11, 10, 12], v_value=0, reward=0.8728070175438597, nb_visited=0)\n",
      "State(number=[9, 0], description=[2, 4, 9, 0, 1, 11, 10, 12, 8], v_value=0, reward=0.8640350877192983, nb_visited=0)\n",
      "State(number=[10, 0], description=[2, 4, 9, 0, 1, 11, 10, 12, 8, 6], v_value=0, reward=0.8596491228070176, nb_visited=0)\n",
      "State(number=[11, 0], description=[2, 4, 9, 0, 1, 11, 10, 12, 8, 6, 3], v_value=0, reward=0.8552631578947368, nb_visited=0)\n",
      "State(number=[12, 0], description=[2, 4, 9, 0, 1, 11, 10, 12, 8, 6, 3, 5], v_value=0, reward=0.868421052631579, nb_visited=0)\n",
      "State(number=[13, 0], description=[2, 4, 9, 0, 1, 11, 10, 12, 8, 6, 3, 5, 13], v_value=0, reward=0.8552631578947368, nb_visited=0)\n",
      "Current state selection 14 ---------\n",
      "State(number=[0, 0], description=[], v_value=0.6731367676080159, reward=0.8728070175438597, nb_visited=11)\n"
     ]
    },
    {
     "ename": "IndexError",
     "evalue": "list index out of range",
     "output_type": "error",
     "traceback": [
      "\u001b[0;31m---------------------------------------------------------------------------\u001b[0m",
      "\u001b[0;31mIndexError\u001b[0m                                Traceback (most recent call last)",
      "Cell \u001b[0;32mIn [39], line 14\u001b[0m\n\u001b[1;32m     11\u001b[0m \u001b[39mprint\u001b[39m(current_state)\n\u001b[1;32m     13\u001b[0m \u001b[39m#We chose the next state\u001b[39;00m\n\u001b[0;32m---> 14\u001b[0m return_next_action_state \u001b[39m=\u001b[39m current_state\u001b[39m.\u001b[39;49mselect_action(feature_selection_process\u001b[39m.\u001b[39;49mfeature_structure, feature_selection_process\u001b[39m.\u001b[39;49meps, feature_selection_process\u001b[39m.\u001b[39;49maor)\n\u001b[1;32m     15\u001b[0m next_state, next_action \u001b[39m=\u001b[39m return_next_action_state[\u001b[39m1\u001b[39m], return_next_action_state[\u001b[39m0\u001b[39m]\n\u001b[1;32m     17\u001b[0m \u001b[39mif\u001b[39;00m current_state\u001b[39m.\u001b[39mnb_visited \u001b[39m==\u001b[39m \u001b[39m0\u001b[39m:\n",
      "File \u001b[0;32m~/Downloads/feature_selection_rl/feature_selection_RL_V2.py:73\u001b[0m, in \u001b[0;36mState.select_action\u001b[0;34m(self, feature_structure, eps, aorf_histo)\u001b[0m\n\u001b[1;32m     70\u001b[0m get_max_aorf: \u001b[39mint\u001b[39m \u001b[39m=\u001b[39m np\u001b[39m.\u001b[39margmax([aorf_histo[\u001b[39m1\u001b[39m][neigh] \u001b[39mfor\u001b[39;00m neigh \u001b[39min\u001b[39;00m added_feature])\n\u001b[1;32m     71\u001b[0m get_best_action: \u001b[39mint\u001b[39m \u001b[39m=\u001b[39m aorf_histo[\u001b[39m0\u001b[39m][get_max_aorf]\n\u001b[0;32m---> 73\u001b[0m get_next_state: State \u001b[39m=\u001b[39m [neigh \u001b[39mfor\u001b[39;49;00m neigh \u001b[39min\u001b[39;49;00m state_neigh \u001b[39mif\u001b[39;49;00m neigh\u001b[39m.\u001b[39;49mdescription[\u001b[39m-\u001b[39;49m\u001b[39m1\u001b[39;49m] \u001b[39m==\u001b[39;49m get_best_action][\u001b[39m0\u001b[39;49m]\n\u001b[1;32m     75\u001b[0m \u001b[39m#We update the number of visit\u001b[39;00m\n\u001b[1;32m     76\u001b[0m \u001b[39mself\u001b[39m\u001b[39m.\u001b[39mnb_visited \u001b[39m+\u001b[39m\u001b[39m=\u001b[39m \u001b[39m1\u001b[39m\n",
      "\u001b[0;31mIndexError\u001b[0m: list index out of range"
     ]
    }
   ],
   "source": [
    "for it in range(nb_iter):\n",
    "\n",
    "    print(f'Current state selection {it} ---------')\n",
    "    current_state = feature_selection_process.start_from_empty_set()\n",
    "\n",
    "    while current_state.number[0] <= 13:\n",
    "\n",
    "        #We get the reward of the state\n",
    "        if current_state.reward == 0:\n",
    "            current_state.get_reward(X_train, y_train, X_test, y_test)\n",
    "        print(current_state)\n",
    "\n",
    "        #We chose the next state\n",
    "        return_next_action_state = current_state.select_action(feature_selection_process.feature_structure, feature_selection_process.eps, feature_selection_process.aor)\n",
    "        next_state, next_action = return_next_action_state[1], return_next_action_state[0]\n",
    "\n",
    "        if current_state.nb_visited == 0:\n",
    "            explored += 1\n",
    "                    \n",
    "        #We update the v_value of the state\n",
    "        current_state.update_v_value(feature_selection_process.alpha, feature_selection_process.gamma, next_state.v_value)\n",
    "        \n",
    "        #We update the aor table\n",
    "        next_action.get_aorf(feature_selection_process.aor)\n",
    "\n",
    "        #Add the state to the research tree\n",
    "        feature_selection_process.add_to_historic(current_state)\n",
    "\n",
    "        current_state = next_state\n",
    "        \n",
    "    nb_explored.append(explored)\n",
    "\n",
    "results = feature_selection_process.get_final_aor_sorted()"
   ]
  },
  {
   "cell_type": "code",
   "execution_count": 21,
   "metadata": {},
   "outputs": [
    {
     "data": {
      "text/plain": [
       "{0: [State(number=[0, 0], description=[], v_value=0.4276315789473684, reward=0.8552631578947368, nb_visited=1)],\n",
       " 1: [State(number=[1, 0], description=[2], v_value=0.4342105263157895, reward=0.868421052631579, nb_visited=1)],\n",
       " 2: [State(number=[2, 0], description=[2, 1], v_value=0.42105263157894735, reward=0.8421052631578947, nb_visited=1)],\n",
       " 3: [State(number=[3, 0], description=[2, 1, 10], v_value=0.4232456140350877, reward=0.8464912280701754, nb_visited=1)],\n",
       " 4: [State(number=[4, 0], description=[2, 1, 10, 6], v_value=0.4298245614035088, reward=0.8596491228070176, nb_visited=1)],\n",
       " 5: [State(number=[5, 0], description=[2, 1, 10, 6, 3], v_value=0.4298245614035088, reward=0.8596491228070176, nb_visited=1)],\n",
       " 6: [State(number=[6, 0], description=[2, 1, 10, 6, 3, 11], v_value=0.4298245614035088, reward=0.8596491228070176, nb_visited=1)],\n",
       " 7: [State(number=[7, 0], description=[2, 1, 10, 6, 3, 11, 9], v_value=0.43201754385964913, reward=0.8640350877192983, nb_visited=1)],\n",
       " 8: [State(number=[8, 0], description=[2, 1, 10, 6, 3, 11, 9, 0], v_value=0.4298245614035088, reward=0.8596491228070176, nb_visited=1)],\n",
       " 9: [State(number=[9, 0], description=[2, 1, 10, 6, 3, 11, 9, 0, 12], v_value=0.43640350877192985, reward=0.8728070175438597, nb_visited=1)],\n",
       " 10: [State(number=[10, 0], description=[2, 1, 10, 6, 3, 11, 9, 0, 12, 5], v_value=0.4276315789473684, reward=0.8552631578947368, nb_visited=1)],\n",
       " 11: [State(number=[11, 0], description=[2, 1, 10, 6, 3, 11, 9, 0, 12, 5, 13], v_value=0.4276315789473684, reward=0.8552631578947368, nb_visited=1)],\n",
       " 12: [State(number=[12, 0], description=[2, 1, 10, 6, 3, 11, 9, 0, 12, 5, 13, 8], v_value=0.4342105263157895, reward=0.868421052631579, nb_visited=1)],\n",
       " 13: [State(number=[13, 0], description=[2, 1, 10, 6, 3, 11, 9, 0, 12, 5, 13, 8, 7], v_value=0.4276315789473684, reward=0.8552631578947368, nb_visited=1)]}"
      ]
     },
     "execution_count": 21,
     "metadata": {},
     "output_type": "execute_result"
    }
   ],
   "source": [
    "feature_selection_process.feature_structure"
   ]
  },
  {
   "cell_type": "code",
   "execution_count": 25,
   "metadata": {},
   "outputs": [
    {
     "data": {
      "text/plain": [
       "[(0, 1, 2, 3, 4, 5, 6, 7, 8, 9, 10, 11, 12, 13),\n",
       " array([3., 3., 3., 3., 3., 3., 3., 3., 3., 3., 3., 3., 3., 3.]),\n",
       " (0.19336842105263163,\n",
       "  0.22695099415204678,\n",
       "  0.2296359602339182,\n",
       "  0.22645888538011696,\n",
       "  0.22703069356725145,\n",
       "  0.22670613567251463,\n",
       "  0.22831186783625734,\n",
       "  0.22788514385964911,\n",
       "  0.22606554853801172,\n",
       "  0.22946794970760234,\n",
       "  0.22931140233918135,\n",
       "  0.22782782807017546,\n",
       "  0.23193666081871345,\n",
       "  0.22651519883040935),\n",
       " array([ 0,  8,  3, 13,  5,  1,  4, 11,  7,  6, 10,  9,  2, 12])]"
      ]
     },
     "execution_count": 25,
     "metadata": {},
     "output_type": "execute_result"
    }
   ],
   "source": [
    "results"
   ]
  },
  {
   "cell_type": "code",
   "execution_count": 26,
   "metadata": {},
   "outputs": [
    {
     "data": {
      "text/plain": [
       "[<matplotlib.lines.Line2D at 0x152834310>]"
      ]
     },
     "execution_count": 26,
     "metadata": {},
     "output_type": "execute_result"
    },
    {
     "data": {
      "image/png": "[encoded data removed]",
      "text/plain": [
       "<Figure size 640x480 with 1 Axes>"
      ]
     },
     "metadata": {},
     "output_type": "display_data"
    }
   ],
   "source": [
    "plt.plot([i for i in range(len(nb_explored))], nb_explored)"
   ]
  },
  {
   "cell_type": "code",
   "execution_count": 41,
   "metadata": {},
   "outputs": [],
   "source": [
    "#Five first  [ 0,  5,  1, 13,  9, 12,  7,  6,  8,  3,  2, 10,  4, 11] --> 0.828\n",
    "\n",
    "#Four randomly picked first  [13, 11,  0,  3, 10,  7,  2,  6,  8,  9,  4, 12,  5,  1] --> 0.671\n",
    "#Four initial state picked first [ 3, 11,  5, 13,  6,  8,  0,  4,  9,  2, 10, 12,  1,  7] --> 0.846\n",
    "#Four initial state picked first [ 1,  9,  2,  8,  4,  3, 10,  5, 11,  7, 13,  0, 12,  6] --> 0.776\n",
    "from sklearn.ensemble import RandomForestClassifier\n",
    "\n",
    "clf = RandomForestClassifier(max_depth=4)\n",
    "clf.fit(X_train[[ 13,  0, 12,  6]], y_train)\n",
    "accuracy: float = clf.score(X_test[[13,  0, 12,  6]], y_test)"
   ]
  },
  {
   "cell_type": "code",
   "execution_count": 42,
   "metadata": {},
   "outputs": [
    {
     "data": {
      "text/plain": [
       "0.7763157894736842"
      ]
     },
     "execution_count": 42,
     "metadata": {},
     "output_type": "execute_result"
    }
   ],
   "source": [
    "accuracy"
   ]
  },
  {
   "cell_type": "code",
   "execution_count": 14,
   "metadata": {},
   "outputs": [],
   "source": [
    "from sklearn.feature_selection import RFE\n",
    "from sklearn.svm import SVR\n",
    "estimator = RandomForestClassifier(max_depth=2)\n",
    "selector = RFE(estimator, n_features_to_select=5, step=1)\n",
    "selector = selector.fit(X_train, y_train)"
   ]
  },
  {
   "cell_type": "code",
   "execution_count": 16,
   "metadata": {},
   "outputs": [
    {
     "data": {
      "text/plain": [
       "0.8640350877192983"
      ]
     },
     "execution_count": 16,
     "metadata": {},
     "output_type": "execute_result"
    }
   ],
   "source": [
    "selector.score(X_test, y_test)"
   ]
  }
 ],
 "metadata": {
  "kernelspec": {
   "display_name": "Python 3.10.8 64-bit",
   "language": "python",
   "name": "python3"
  },
  "language_info": {
   "codemirror_mode": {
    "name": "ipython",
    "version": 3
   },
   "file_extension": ".py",
   "mimetype": "text/x-python",
   "name": "python",
   "nbconvert_exporter": "python",
   "pygments_lexer": "ipython3",
   "version": "3.10.8"
  },
  "orig_nbformat": 4,
  "vscode": {
   "interpreter": {
    "hash": "b0fa6594d8f4cbf19f97940f81e996739fb7646882a419484c72d19e05852a7e"
   }
  }
 },
 "nbformat": 4,
 "nbformat_minor": 2
}
