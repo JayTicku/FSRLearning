{
 "cells": [
  {
   "cell_type": "markdown",
   "metadata": {},
   "source": [
    "# Second version"
   ]
  },
  {
   "cell_type": "code",
   "execution_count": 68,
   "metadata": {},
   "outputs": [],
   "source": [
    "import feature_selection_RL_V2\n",
    "import numpy as np\n",
    "import pandas as pd\n",
    "from sklearn.model_selection import train_test_split\n",
    "import matplotlib.pyplot as plt"
   ]
  },
  {
   "cell_type": "code",
   "execution_count": 69,
   "metadata": {},
   "outputs": [],
   "source": [
    "#Data processing\n",
    "\n",
    "datContent = [i.strip().split() for i in open(\"australian_data.dat\").readlines()]\n",
    "import csv\n",
    "# write it as a new CSV file\n",
    "with open(\"australian_data.csv\", \"w\") as f:\n",
    "    writer = csv.writer(f)\n",
    "    writer.writerows(datContent)\n",
    "\n",
    "australian_data = pd.read_csv('australian_data.csv', sep=',', header=None)\n",
    "australian_data.rename(columns={14: 'label'}, inplace=True)\n",
    "X = australian_data.drop('label', axis=1)\n",
    "y = australian_data['label']\n",
    "X_train, X_test, y_train, y_test = train_test_split(X, y, test_size=0.33, random_state=42)\n"
   ]
  },
  {
   "cell_type": "code",
   "execution_count": 70,
   "metadata": {},
   "outputs": [
    {
     "name": "stdout",
     "output_type": "stream",
     "text": [
      "---------- AOR init ----------\n",
      "[array([0., 0., 0., 0., 0., 0., 0., 0., 0., 0., 0., 0., 0., 0.]), array([0., 0., 0., 0., 0., 0., 0., 0., 0., 0., 0., 0., 0., 0.])]\n",
      "---------- Process init ----------\n",
      "FeatureSelectionProcessV2(nb_of_features=14, eps=0.3, alpha=0.2, gamma=0.99, aor=[array([0., 0., 0., 0., 0., 0., 0., 0., 0., 0., 0., 0., 0., 0.]), array([0., 0., 0., 0., 0., 0., 0., 0., 0., 0., 0., 0., 0., 0.])], feature_structure={})\n",
      "---------- The process has been successfully init ----------\n"
     ]
    }
   ],
   "source": [
    "#Simulation\n",
    "feature_number: int = 14\n",
    "\n",
    "print('---------- AOR init ----------')\n",
    "aor: list = [np.zeros(feature_number), np.zeros(feature_number)]\n",
    "print(aor)\n",
    "\n",
    "print('---------- Process init ----------')\n",
    "feature_selection_process = feature_selection_RL_V2.FeatureSelectionProcessV2(feature_number, .3, .2, .99, aor, {})\n",
    "print(feature_selection_process)\n",
    "\n",
    "print('---------- The process has been successfully init ----------')"
   ]
  },
  {
   "cell_type": "code",
   "execution_count": 71,
   "metadata": {},
   "outputs": [],
   "source": [
    "nb_iter: int = 10\n",
    "nb_explored: list = []\n",
    "explored: int = 0"
   ]
  },
  {
   "cell_type": "code",
   "execution_count": 72,
   "metadata": {},
   "outputs": [
    {
     "name": "stdout",
     "output_type": "stream",
     "text": [
      "Current state selection 0 ---------\n",
      "1\n",
      "2\n",
      "3\n",
      "4\n",
      "5\n",
      "6\n",
      "7\n",
      "8\n",
      "9\n",
      "10\n",
      "11\n",
      "12\n",
      "13\n",
      "14\n",
      "Current state selection 1 ---------\n",
      "15\n",
      "16\n",
      "17\n",
      "18\n",
      "19\n",
      "20\n",
      "21\n",
      "22\n",
      "23\n",
      "24\n",
      "25\n",
      "26\n",
      "27\n",
      "Current state selection 2 ---------\n",
      "28\n",
      "29\n",
      "30\n",
      "31\n",
      "32\n",
      "33\n",
      "34\n",
      "35\n",
      "36\n",
      "37\n",
      "38\n",
      "39\n",
      "40\n",
      "Current state selection 3 ---------\n",
      "41\n",
      "42\n",
      "43\n",
      "44\n",
      "45\n",
      "46\n",
      "47\n",
      "48\n",
      "49\n",
      "50\n",
      "51\n",
      "52\n",
      "53\n",
      "Current state selection 4 ---------\n",
      "54\n",
      "55\n",
      "56\n",
      "57\n",
      "58\n",
      "59\n",
      "60\n",
      "61\n",
      "62\n",
      "63\n",
      "64\n",
      "65\n",
      "66\n",
      "Current state selection 5 ---------\n",
      "67\n",
      "68\n",
      "69\n",
      "70\n",
      "71\n",
      "72\n",
      "73\n",
      "74\n",
      "75\n",
      "76\n",
      "77\n",
      "78\n",
      "79\n",
      "Current state selection 6 ---------\n",
      "80\n",
      "81\n",
      "82\n",
      "83\n",
      "84\n",
      "85\n",
      "86\n",
      "87\n",
      "88\n",
      "89\n",
      "90\n",
      "91\n",
      "92\n",
      "Current state selection 7 ---------\n",
      "93\n",
      "94\n",
      "95\n",
      "96\n",
      "97\n",
      "98\n",
      "99\n",
      "100\n",
      "101\n",
      "102\n",
      "103\n",
      "104\n",
      "Current state selection 8 ---------\n",
      "105\n",
      "106\n",
      "107\n",
      "108\n",
      "109\n",
      "110\n",
      "111\n",
      "112\n",
      "113\n",
      "114\n",
      "115\n",
      "116\n",
      "Current state selection 9 ---------\n",
      "117\n",
      "118\n",
      "119\n",
      "120\n",
      "121\n",
      "122\n",
      "123\n",
      "124\n",
      "125\n",
      "126\n",
      "127\n",
      "128\n"
     ]
    }
   ],
   "source": [
    "for it in range(nb_iter):\n",
    "\n",
    "    print(f'Current state selection {it} ---------')\n",
    "    current_state = feature_selection_process.start_from_empty_set()\n",
    "    \n",
    "    while current_state.number[0] <= 13:\n",
    "\n",
    "        #We get the reward of the state\n",
    "        if current_state.reward == 0:\n",
    "            current_state.get_reward(X_train, y_train, X_test, y_test)\n",
    "\n",
    "        #We chose the next state\n",
    "        return_next_action_state = current_state.select_action(feature_selection_process.feature_structure, feature_selection_process.eps, feature_selection_process.aor)\n",
    "        next_state, next_action = return_next_action_state[1], return_next_action_state[0]\n",
    "\n",
    "        if current_state.v_value == 0:\n",
    "            explored += 1\n",
    "            print(explored)\n",
    "\n",
    "        if len(next_action.state_next.description) >= 14:\n",
    "            break\n",
    "\n",
    "        #We update the v_value of the state\n",
    "        current_state.update_v_value(feature_selection_process.alpha, feature_selection_process.gamma, next_state.v_value)\n",
    "\n",
    "        #We update the aor table\n",
    "        feature_selection_process.aor = next_action.get_aorf(feature_selection_process.aor)\n",
    "\n",
    "        #Add the state to the research tree\n",
    "        feature_selection_process.add_to_historic(current_state)\n",
    "\n",
    "        current_state = next_state\n",
    "        \n",
    "    nb_explored.append(explored)\n",
    "\n",
    "results = feature_selection_process.get_final_aor_sorted()"
   ]
  },
  {
   "cell_type": "code",
   "execution_count": 73,
   "metadata": {},
   "outputs": [
    {
     "data": {
      "text/plain": [
       "State(number=[2, 2], description=[6, 12], v_value=0.42164912280701755, reward=0.8640350877192983, nb_visited=3)"
      ]
     },
     "execution_count": 73,
     "metadata": {},
     "output_type": "execute_result"
    }
   ],
   "source": [
    "feature_selection_process.get_optimal_state_value()"
   ]
  },
  {
   "cell_type": "code",
   "execution_count": 74,
   "metadata": {},
   "outputs": [
    {
     "data": {
      "text/plain": [
       "[array([ 9., 10.,  9.,  8., 10., 10., 10.,  9.,  9., 10.,  8., 10.,  9.,\n",
       "         9.]),\n",
       " array([0.09019815, 0.08605263, 0.08680556, 0.08576128, 0.16019864,\n",
       "        0.08596491, 0.09431509, 0.08506335, 0.08594055, 0.08619883,\n",
       "        0.08641917, 0.08563353, 0.31949991, 0.08601365])]"
      ]
     },
     "execution_count": 74,
     "metadata": {},
     "output_type": "execute_result"
    }
   ],
   "source": [
    "feature_selection_process.aor"
   ]
  },
  {
   "cell_type": "code",
   "execution_count": 75,
   "metadata": {},
   "outputs": [
    {
     "data": {
      "text/plain": [
       "[(0, 1, 2, 3, 4, 5, 6, 7, 8, 9, 10, 11, 12, 13),\n",
       " array([ 9., 10.,  9.,  8., 10., 10., 10.,  9.,  9., 10.,  8., 10.,  9.,\n",
       "         9.]),\n",
       " (0.09019814814814814,\n",
       "  0.08605263157894737,\n",
       "  0.08680555555555555,\n",
       "  0.08576127819548872,\n",
       "  0.1601986432748538,\n",
       "  0.08596491228070174,\n",
       "  0.09431509161793372,\n",
       "  0.08506335282651073,\n",
       "  0.08594054580896686,\n",
       "  0.08619883040935673,\n",
       "  0.08641917293233083,\n",
       "  0.0856335282651072,\n",
       "  0.31949991450448345,\n",
       "  0.08601364522417153),\n",
       " array([ 7, 11,  3,  8,  5, 13,  1,  9, 10,  2,  0,  6,  4, 12])]"
      ]
     },
     "execution_count": 75,
     "metadata": {},
     "output_type": "execute_result"
    }
   ],
   "source": [
    "results"
   ]
  },
  {
   "cell_type": "code",
   "execution_count": 76,
   "metadata": {},
   "outputs": [
    {
     "data": {
      "text/plain": [
       "[<matplotlib.lines.Line2D at 0x155b52d10>]"
      ]
     },
     "execution_count": 76,
     "metadata": {},
     "output_type": "execute_result"
    },
    {
     "data": {
      "image/png": "[encoded data removed]",
      "text/plain": [
       "<Figure size 640x480 with 1 Axes>"
      ]
     },
     "metadata": {},
     "output_type": "display_data"
    }
   ],
   "source": [
    "plt.plot([i for i in range(len(nb_explored))], nb_explored)"
   ]
  },
  {
   "cell_type": "code",
   "execution_count": 60,
   "metadata": {},
   "outputs": [],
   "source": [
    "#Five first  [ 0,  5,  1, 13,  9, 12,  7,  6,  8,  3,  2, 10,  4, 11] --> 0.828\n",
    "\n",
    "#Four randomly picked first  [13, 11,  0,  3, 10,  7,  2,  6,  8,  9,  4, 12,  5,  1] --> 0.671\n",
    "#Four initial state picked first [ 3, 11,  5, 13,  6,  8,  0,  4,  9,  2, 10, 12,  1,  7] --> 0.846\n",
    "#Four initial state picked first [ 1,  9,  2,  8,  4,  3, 10,  5, 11,  7, 13,  0, 12,  6] --> 0.776\n",
    "from sklearn.ensemble import RandomForestClassifier\n",
    "\n",
    "clf = RandomForestClassifier(max_depth=4)\n",
    "clf.fit(X_train[[5,  1,  7,  4,  0,  6,  9, 10, 12, 11,  3]], y_train)\n",
    "accuracy: float = clf.score(X_test[[5,  1,  7,  4,  0,  6,  9, 10, 12, 11,  3]], y_test)"
   ]
  },
  {
   "cell_type": "code",
   "execution_count": 61,
   "metadata": {},
   "outputs": [
    {
     "data": {
      "text/plain": [
       "0.8596491228070176"
      ]
     },
     "execution_count": 61,
     "metadata": {},
     "output_type": "execute_result"
    }
   ],
   "source": [
    "accuracy"
   ]
  },
  {
   "cell_type": "code",
   "execution_count": 58,
   "metadata": {},
   "outputs": [],
   "source": [
    "from sklearn.feature_selection import RFE\n",
    "from sklearn.svm import SVR\n",
    "estimator = RandomForestClassifier(max_depth=2)\n",
    "selector = RFE(estimator, n_features_to_select=10, step=1)\n",
    "selector = selector.fit(X_train, y_train)"
   ]
  },
  {
   "cell_type": "code",
   "execution_count": 59,
   "metadata": {},
   "outputs": [
    {
     "data": {
      "text/plain": [
       "0.868421052631579"
      ]
     },
     "execution_count": 59,
     "metadata": {},
     "output_type": "execute_result"
    }
   ],
   "source": [
    "selector.score(X_test, y_test)"
   ]
  },
  {
   "cell_type": "code",
   "execution_count": null,
   "metadata": {},
   "outputs": [],
   "source": []
  }
 ],
 "metadata": {
  "kernelspec": {
   "display_name": "Python 3.10.8 64-bit",
   "language": "python",
   "name": "python3"
  },
  "language_info": {
   "codemirror_mode": {
    "name": "ipython",
    "version": 3
   },
   "file_extension": ".py",
   "mimetype": "text/x-python",
   "name": "python",
   "nbconvert_exporter": "python",
   "pygments_lexer": "ipython3",
   "version": "3.10.8"
  },
  "orig_nbformat": 4,
  "vscode": {
   "interpreter": {
    "hash": "b0fa6594d8f4cbf19f97940f81e996739fb7646882a419484c72d19e05852a7e"
   }
  }
 },
 "nbformat": 4,
 "nbformat_minor": 2
}
